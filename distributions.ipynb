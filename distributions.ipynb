{
 "cells": [
  {
   "cell_type": "code",
   "execution_count": 2,
   "metadata": {
    "colab": {
     "base_uri": "https://localhost:8080/",
     "height": 72
    },
    "colab_type": "code",
    "executionInfo": {
     "elapsed": 726,
     "status": "ok",
     "timestamp": 1595523343670,
     "user": {
      "displayName": "John Ciolkosz",
      "photoUrl": "https://lh3.googleusercontent.com/a-/AOh14GiJSkSvCtGn_dFjShPLwtdKEwQHMwUGrqyOGp8-FA=s64",
      "userId": "02043570096623684421"
     },
     "user_tz": 300
    },
    "id": "2XKZZOiycEZU",
    "outputId": "3de792ad-1872-4cfb-e605-fccb65731943"
   },
   "outputs": [
    {
     "name": "stderr",
     "output_type": "stream",
     "text": [
      "/usr/local/lib/python3.6/dist-packages/statsmodels/tools/_testing.py:19: FutureWarning: pandas.util.testing is deprecated. Use the functions in the public API at pandas.testing instead.\n",
      "  import pandas.util.testing as tm\n"
     ]
    }
   ],
   "source": [
    "#common imports for this section\n",
    "import pandas as pd\n",
    "import numpy as np\n",
    "import matplotlib.pyplot as plt\n",
    "import seaborn as sns\n",
    "\n",
    "from numpy import random\n",
    "\n",
    "%matplotlib inline"
   ]
  },
  {
   "cell_type": "code",
   "execution_count": null,
   "metadata": {
    "colab": {},
    "colab_type": "code",
    "id": "uJ1c2SmtzKSy"
   },
   "outputs": [],
   "source": [
    "#working with the uniform distribution"
   ]
  },
  {
   "cell_type": "code",
   "execution_count": null,
   "metadata": {
    "colab": {},
    "colab_type": "code",
    "id": "zJ-wQsAzzUOc"
   },
   "outputs": [],
   "source": [
    "#create a list of random uniform data\n",
    "#uniform(lower bound, upper bound, size = (rows, columns))\n",
    "uniform_data = random.uniform(1, 6, size = (50,50))"
   ]
  },
  {
   "cell_type": "code",
   "execution_count": null,
   "metadata": {
    "colab": {
     "base_uri": "https://localhost:8080/",
     "height": 35
    },
    "colab_type": "code",
    "executionInfo": {
     "elapsed": 746,
     "status": "ok",
     "timestamp": 1595141747021,
     "user": {
      "displayName": "John Ciolkosz",
      "photoUrl": "https://lh3.googleusercontent.com/a-/AOh14GiJSkSvCtGn_dFjShPLwtdKEwQHMwUGrqyOGp8-FA=s64",
      "userId": "02043570096623684421"
     },
     "user_tz": 300
    },
    "id": "L0NVluRUzxWh",
    "outputId": "b378c5d6-8560-4c1a-8916-b724005c8404"
   },
   "outputs": [
    {
     "data": {
      "text/plain": [
       "numpy.ndarray"
      ]
     },
     "execution_count": 16,
     "metadata": {
      "tags": []
     },
     "output_type": "execute_result"
    }
   ],
   "source": [
    "type(uniform_data)"
   ]
  },
  {
   "cell_type": "code",
   "execution_count": null,
   "metadata": {
    "colab": {
     "base_uri": "https://localhost:8080/",
     "height": 254
    },
    "colab_type": "code",
    "executionInfo": {
     "elapsed": 511,
     "status": "ok",
     "timestamp": 1595141747643,
     "user": {
      "displayName": "John Ciolkosz",
      "photoUrl": "https://lh3.googleusercontent.com/a-/AOh14GiJSkSvCtGn_dFjShPLwtdKEwQHMwUGrqyOGp8-FA=s64",
      "userId": "02043570096623684421"
     },
     "user_tz": 300
    },
    "id": "7r-ign7sz3DL",
    "outputId": "90107ae6-0dcb-48d9-e4d9-3dc21a4784d3"
   },
   "outputs": [
    {
     "data": {
      "text/plain": [
       "array([[5.5350744 , 4.31895023, 1.75456081, ..., 2.59925512, 3.78052727,\n",
       "        2.24468642],\n",
       "       [2.72899516, 3.66404277, 2.03037425, ..., 5.36003365, 1.860378  ,\n",
       "        1.30593588],\n",
       "       [3.54822239, 2.17047738, 2.341821  , ..., 1.02821391, 2.49863011,\n",
       "        1.21191134],\n",
       "       ...,\n",
       "       [2.12788986, 3.79966599, 3.42219335, ..., 1.51390002, 1.08025588,\n",
       "        1.64529607],\n",
       "       [4.07913467, 4.88946756, 1.74646741, ..., 5.21844261, 3.52777138,\n",
       "        1.64795467],\n",
       "       [1.04504309, 5.5809598 , 4.74328635, ..., 3.26120618, 5.68641988,\n",
       "        2.82611427]])"
      ]
     },
     "execution_count": 17,
     "metadata": {
      "tags": []
     },
     "output_type": "execute_result"
    }
   ],
   "source": [
    "uniform_data"
   ]
  },
  {
   "cell_type": "code",
   "execution_count": null,
   "metadata": {
    "colab": {
     "base_uri": "https://localhost:8080/",
     "height": 265
    },
    "colab_type": "code",
    "executionInfo": {
     "elapsed": 988,
     "status": "ok",
     "timestamp": 1595141748972,
     "user": {
      "displayName": "John Ciolkosz",
      "photoUrl": "https://lh3.googleusercontent.com/a-/AOh14GiJSkSvCtGn_dFjShPLwtdKEwQHMwUGrqyOGp8-FA=s64",
      "userId": "02043570096623684421"
     },
     "user_tz": 300
    },
    "id": "0MkFut9Pz5-W",
    "outputId": "6601532f-7629-482f-cdd2-551f3fa00fb9"
   },
   "outputs": [
    {
     "data": {
      "image/png": "[encoded data removed]",
      "text/plain": [
       "<Figure size 432x288 with 1 Axes>"
      ]
     },
     "metadata": {
      "needs_background": "light",
      "tags": []
     },
     "output_type": "display_data"
    }
   ],
   "source": [
    "sns.distplot(uniform_data, hist = True, kde = False)\n",
    "plt.show()"
   ]
  },
  {
   "cell_type": "code",
   "execution_count": null,
   "metadata": {
    "colab": {
     "base_uri": "https://localhost:8080/",
     "height": 265
    },
    "colab_type": "code",
    "executionInfo": {
     "elapsed": 605,
     "status": "ok",
     "timestamp": 1595141749408,
     "user": {
      "displayName": "John Ciolkosz",
      "photoUrl": "https://lh3.googleusercontent.com/a-/AOh14GiJSkSvCtGn_dFjShPLwtdKEwQHMwUGrqyOGp8-FA=s64",
      "userId": "02043570096623684421"
     },
     "user_tz": 300
    },
    "id": "ckKml5_v0Uyg",
    "outputId": "5ebede30-63de-4304-f98d-1b59173c5c8b"
   },
   "outputs": [
    {
     "data": {
      "image/png": "[encoded data removed]",
      "text/plain": [
       "<Figure size 432x288 with 1 Axes>"
      ]
     },
     "metadata": {
      "needs_background": "light",
      "tags": []
     },
     "output_type": "display_data"
    }
   ],
   "source": [
    "sns.distplot(uniform_data, hist = True, kde = True)\n",
    "plt.show()"
   ]
  },
  {
   "cell_type": "code",
   "execution_count": null,
   "metadata": {
    "colab": {
     "base_uri": "https://localhost:8080/",
     "height": 265
    },
    "colab_type": "code",
    "executionInfo": {
     "elapsed": 659,
     "status": "ok",
     "timestamp": 1595141751170,
     "user": {
      "displayName": "John Ciolkosz",
      "photoUrl": "https://lh3.googleusercontent.com/a-/AOh14GiJSkSvCtGn_dFjShPLwtdKEwQHMwUGrqyOGp8-FA=s64",
      "userId": "02043570096623684421"
     },
     "user_tz": 300
    },
    "id": "P49Th0UE0ojP",
    "outputId": "2edc06e7-e864-40c0-e374-9d6fafcb3284"
   },
   "outputs": [
    {
     "data": {
      "image/png": "[encoded data removed]",
      "text/plain": [
       "<Figure size 432x288 with 1 Axes>"
      ]
     },
     "metadata": {
      "needs_background": "light",
      "tags": []
     },
     "output_type": "display_data"
    }
   ],
   "source": [
    "sns.distplot(random.uniform(10, 100, size = 1000), hist = False, kde = True)\n",
    "plt.show()"
   ]
  },
  {
   "cell_type": "code",
   "execution_count": null,
   "metadata": {
    "colab": {},
    "colab_type": "code",
    "id": "-tGAdZSb09Yn"
   },
   "outputs": [],
   "source": [
    "#working with the Binomial Distribution"
   ]
  },
  {
   "cell_type": "code",
   "execution_count": null,
   "metadata": {
    "colab": {},
    "colab_type": "code",
    "id": "UDLSOGs_28cv"
   },
   "outputs": [],
   "source": [
    "#create a list of random data from the binomial distribution\n",
    "#binomial( n = {number of trials}, p = {probability of success}, size = N {number of scenarios executed})\n",
    "binomial_data = random.binomial(n = 10, p = 0.25, size = 20)"
   ]
  },
  {
   "cell_type": "code",
   "execution_count": null,
   "metadata": {
    "colab": {
     "base_uri": "https://localhost:8080/",
     "height": 35
    },
    "colab_type": "code",
    "executionInfo": {
     "elapsed": 543,
     "status": "ok",
     "timestamp": 1595142015677,
     "user": {
      "displayName": "John Ciolkosz",
      "photoUrl": "https://lh3.googleusercontent.com/a-/AOh14GiJSkSvCtGn_dFjShPLwtdKEwQHMwUGrqyOGp8-FA=s64",
      "userId": "02043570096623684421"
     },
     "user_tz": 300
    },
    "id": "jM_FRrzR31ux",
    "outputId": "4c1f4fd8-9493-47ef-dd7b-21173691b6d2"
   },
   "outputs": [
    {
     "data": {
      "text/plain": [
       "array([3, 1, 3, 3, 2, 3, 2, 4, 1, 3, 2, 2, 2, 2, 3, 3, 1, 2, 2, 4])"
      ]
     },
     "execution_count": 23,
     "metadata": {
      "tags": []
     },
     "output_type": "execute_result"
    }
   ],
   "source": [
    "binomial_data"
   ]
  },
  {
   "cell_type": "code",
   "execution_count": null,
   "metadata": {
    "colab": {
     "base_uri": "https://localhost:8080/",
     "height": 269
    },
    "colab_type": "code",
    "executionInfo": {
     "elapsed": 555,
     "status": "ok",
     "timestamp": 1595142073723,
     "user": {
      "displayName": "John Ciolkosz",
      "photoUrl": "https://lh3.googleusercontent.com/a-/AOh14GiJSkSvCtGn_dFjShPLwtdKEwQHMwUGrqyOGp8-FA=s64",
      "userId": "02043570096623684421"
     },
     "user_tz": 300
    },
    "id": "CCyVLgfX34hq",
    "outputId": "1d6e9e55-392f-40b2-8334-c018e74a7bd6"
   },
   "outputs": [
    {
     "data": {
      "image/png": "[encoded data removed]",
      "text/plain": [
       "<Figure size 432x288 with 1 Axes>"
      ]
     },
     "metadata": {
      "needs_background": "light",
      "tags": []
     },
     "output_type": "display_data"
    }
   ],
   "source": [
    "sns.distplot(binomial_data, hist=True, kde=True)\n",
    "plt.show()"
   ]
  },
  {
   "cell_type": "code",
   "execution_count": null,
   "metadata": {
    "colab": {
     "base_uri": "https://localhost:8080/",
     "height": 35
    },
    "colab_type": "code",
    "executionInfo": {
     "elapsed": 547,
     "status": "ok",
     "timestamp": 1595142166916,
     "user": {
      "displayName": "John Ciolkosz",
      "photoUrl": "https://lh3.googleusercontent.com/a-/AOh14GiJSkSvCtGn_dFjShPLwtdKEwQHMwUGrqyOGp8-FA=s64",
      "userId": "02043570096623684421"
     },
     "user_tz": 300
    },
    "id": "rY2RbVR54Gsh",
    "outputId": "df04dff3-15ef-4424-dd25-a88c8e792b19"
   },
   "outputs": [
    {
     "data": {
      "text/plain": [
       "2.5"
      ]
     },
     "execution_count": 25,
     "metadata": {
      "tags": []
     },
     "output_type": "execute_result"
    }
   ],
   "source": [
    "#expected value...\n",
    "10*0.25"
   ]
  },
  {
   "cell_type": "code",
   "execution_count": null,
   "metadata": {
    "colab": {
     "base_uri": "https://localhost:8080/",
     "height": 265
    },
    "colab_type": "code",
    "executionInfo": {
     "elapsed": 565,
     "status": "ok",
     "timestamp": 1595142267696,
     "user": {
      "displayName": "John Ciolkosz",
      "photoUrl": "https://lh3.googleusercontent.com/a-/AOh14GiJSkSvCtGn_dFjShPLwtdKEwQHMwUGrqyOGp8-FA=s64",
      "userId": "02043570096623684421"
     },
     "user_tz": 300
    },
    "id": "WzoOUvAU4dc3",
    "outputId": "f533ba82-aa64-4c14-8be6-f0ce8132df02"
   },
   "outputs": [
    {
     "data": {
      "image/png": "[encoded data removed]",
      "text/plain": [
       "<Figure size 432x288 with 1 Axes>"
      ]
     },
     "metadata": {
      "needs_background": "light",
      "tags": []
     },
     "output_type": "display_data"
    }
   ],
   "source": [
    "sns.distplot(random.binomial(n= 100 , p= 0.5, size = 1000), hist=True, kde=False)\n",
    "plt.show()"
   ]
  },
  {
   "cell_type": "code",
   "execution_count": null,
   "metadata": {
    "colab": {
     "base_uri": "https://localhost:8080/",
     "height": 269
    },
    "colab_type": "code",
    "executionInfo": {
     "elapsed": 573,
     "status": "ok",
     "timestamp": 1595142305070,
     "user": {
      "displayName": "John Ciolkosz",
      "photoUrl": "https://lh3.googleusercontent.com/a-/AOh14GiJSkSvCtGn_dFjShPLwtdKEwQHMwUGrqyOGp8-FA=s64",
      "userId": "02043570096623684421"
     },
     "user_tz": 300
    },
    "id": "nOQyLvdv42DN",
    "outputId": "482a52e5-5c54-477c-d337-90a5c1720222"
   },
   "outputs": [
    {
     "data": {
      "image/png": "[encoded data removed]",
      "text/plain": [
       "<Figure size 432x288 with 1 Axes>"
      ]
     },
     "metadata": {
      "needs_background": "light",
      "tags": []
     },
     "output_type": "display_data"
    }
   ],
   "source": [
    "sns.distplot(random.binomial(n= 10 , p= 0.5, size = 1000), hist=True, kde=False)\n",
    "plt.show()"
   ]
  },
  {
   "cell_type": "code",
   "execution_count": null,
   "metadata": {
    "colab": {
     "base_uri": "https://localhost:8080/",
     "height": 265
    },
    "colab_type": "code",
    "executionInfo": {
     "elapsed": 621,
     "status": "ok",
     "timestamp": 1595142343688,
     "user": {
      "displayName": "John Ciolkosz",
      "photoUrl": "https://lh3.googleusercontent.com/a-/AOh14GiJSkSvCtGn_dFjShPLwtdKEwQHMwUGrqyOGp8-FA=s64",
      "userId": "02043570096623684421"
     },
     "user_tz": 300
    },
    "id": "ZZ0zTHJO4_LA",
    "outputId": "d3c3ea37-03fc-4227-851e-74750b52fdcb"
   },
   "outputs": [
    {
     "data": {
      "image/png": "[encoded data removed]",
      "text/plain": [
       "<Figure size 432x288 with 1 Axes>"
      ]
     },
     "metadata": {
      "needs_background": "light",
      "tags": []
     },
     "output_type": "display_data"
    }
   ],
   "source": [
    "sns.distplot(random.binomial(n= 50 , p= 0.8, size = 1000), hist=False, kde=True)\n",
    "plt.show()"
   ]
  },
  {
   "cell_type": "code",
   "execution_count": null,
   "metadata": {
    "colab": {},
    "colab_type": "code",
    "id": "0AJu8IWc5Ile"
   },
   "outputs": [],
   "source": [
    "#working with the Poisson distribution"
   ]
  },
  {
   "cell_type": "code",
   "execution_count": null,
   "metadata": {
    "colab": {},
    "colab_type": "code",
    "id": "P8LtO-lA7Rxy"
   },
   "outputs": [],
   "source": [
    "#creating a list of random data from the Poisson distribution\n",
    "#poisson(lambda = {n}, size = {N})\n",
    "poisson_data = random.poisson(lam = 5, size = 10)"
   ]
  },
  {
   "cell_type": "code",
   "execution_count": null,
   "metadata": {
    "colab": {
     "base_uri": "https://localhost:8080/",
     "height": 35
    },
    "colab_type": "code",
    "executionInfo": {
     "elapsed": 564,
     "status": "ok",
     "timestamp": 1595143852341,
     "user": {
      "displayName": "John Ciolkosz",
      "photoUrl": "https://lh3.googleusercontent.com/a-/AOh14GiJSkSvCtGn_dFjShPLwtdKEwQHMwUGrqyOGp8-FA=s64",
      "userId": "02043570096623684421"
     },
     "user_tz": 300
    },
    "id": "5kknBELK-zQw",
    "outputId": "c353ea6f-712d-4c0e-f38a-a7cfd2a158d9"
   },
   "outputs": [
    {
     "data": {
      "text/plain": [
       "array([4, 5, 1, 7, 3, 6, 8, 4, 6, 5])"
      ]
     },
     "execution_count": 32,
     "metadata": {
      "tags": []
     },
     "output_type": "execute_result"
    }
   ],
   "source": [
    "poisson_data"
   ]
  },
  {
   "cell_type": "code",
   "execution_count": null,
   "metadata": {
    "colab": {
     "base_uri": "https://localhost:8080/",
     "height": 265
    },
    "colab_type": "code",
    "executionInfo": {
     "elapsed": 623,
     "status": "ok",
     "timestamp": 1595143903662,
     "user": {
      "displayName": "John Ciolkosz",
      "photoUrl": "https://lh3.googleusercontent.com/a-/AOh14GiJSkSvCtGn_dFjShPLwtdKEwQHMwUGrqyOGp8-FA=s64",
      "userId": "02043570096623684421"
     },
     "user_tz": 300
    },
    "id": "yx7eigqS-47L",
    "outputId": "d8fe4396-11cd-45c8-dc28-577b465ef52b"
   },
   "outputs": [
    {
     "data": {
      "image/png": "[encoded data removed]",
      "text/plain": [
       "<Figure size 432x288 with 1 Axes>"
      ]
     },
     "metadata": {
      "needs_background": "light",
      "tags": []
     },
     "output_type": "display_data"
    }
   ],
   "source": [
    "sns.distplot(poisson_data, hist=True, kde=True)\n",
    "plt.show()"
   ]
  },
  {
   "cell_type": "code",
   "execution_count": null,
   "metadata": {
    "colab": {
     "base_uri": "https://localhost:8080/",
     "height": 269
    },
    "colab_type": "code",
    "executionInfo": {
     "elapsed": 611,
     "status": "ok",
     "timestamp": 1595144003157,
     "user": {
      "displayName": "John Ciolkosz",
      "photoUrl": "https://lh3.googleusercontent.com/a-/AOh14GiJSkSvCtGn_dFjShPLwtdKEwQHMwUGrqyOGp8-FA=s64",
      "userId": "02043570096623684421"
     },
     "user_tz": 300
    },
    "id": "a56H4Z-__FcB",
    "outputId": "0e9514d0-78d4-4c9a-ed3d-188f5bea48ab"
   },
   "outputs": [
    {
     "data": {
      "image/png": "[encoded data removed]",
      "text/plain": [
       "<Figure size 432x288 with 1 Axes>"
      ]
     },
     "metadata": {
      "needs_background": "light",
      "tags": []
     },
     "output_type": "display_data"
    }
   ],
   "source": [
    "sns.distplot(random.poisson(lam = 20, size = 5), hist=True, kde=True)\n",
    "plt.show()"
   ]
  },
  {
   "cell_type": "code",
   "execution_count": null,
   "metadata": {
    "colab": {
     "base_uri": "https://localhost:8080/",
     "height": 265
    },
    "colab_type": "code",
    "executionInfo": {
     "elapsed": 643,
     "status": "ok",
     "timestamp": 1595144047197,
     "user": {
      "displayName": "John Ciolkosz",
      "photoUrl": "https://lh3.googleusercontent.com/a-/AOh14GiJSkSvCtGn_dFjShPLwtdKEwQHMwUGrqyOGp8-FA=s64",
      "userId": "02043570096623684421"
     },
     "user_tz": 300
    },
    "id": "HfiJ-zNI_du6",
    "outputId": "2433eb9b-5916-40b8-f322-09efb6d097d9"
   },
   "outputs": [
    {
     "data": {
      "image/png": "[encoded data removed]",
      "text/plain": [
       "<Figure size 432x288 with 1 Axes>"
      ]
     },
     "metadata": {
      "needs_background": "light",
      "tags": []
     },
     "output_type": "display_data"
    }
   ],
   "source": [
    "sns.distplot(random.poisson(lam = 50, size = 1000), hist=True, kde=True)\n",
    "plt.show()"
   ]
  },
  {
   "cell_type": "code",
   "execution_count": null,
   "metadata": {
    "colab": {},
    "colab_type": "code",
    "id": "lqA6jalWALsS"
   },
   "outputs": [],
   "source": [
    "#working with the normal distribution...using data from Section 2"
   ]
  },
  {
   "cell_type": "code",
   "execution_count": null,
   "metadata": {
    "colab": {},
    "colab_type": "code",
    "id": "hlEkdl-NBhWI"
   },
   "outputs": [],
   "source": [
    "url = \"https://www.basketball-reference.com/leagues/NBA_2020.html\"\n",
    "\n",
    "df = pd.read_html(url, header = 0)"
   ]
  },
  {
   "cell_type": "code",
   "execution_count": null,
   "metadata": {
    "colab": {},
    "colab_type": "code",
    "id": "vxDaqxdnByFZ"
   },
   "outputs": [],
   "source": [
    "temp_df = df[3]\n",
    "df_west = temp_df[~temp_df[\"W\"].str.contains(\"Division\")]\n",
    "df_west1 = df_west.copy()\n",
    "df_west1[['W', 'L', 'W/L%', 'GB', 'PS/G', 'PA/G', 'SRS']] = df_west1[['W', 'L', 'W/L%', 'GB', 'PS/G', 'PA/G', 'SRS']].apply(pd.to_numeric, errors = \"coerce\")"
   ]
  },
  {
   "cell_type": "code",
   "execution_count": null,
   "metadata": {
    "colab": {
     "base_uri": "https://localhost:8080/",
     "height": 288
    },
    "colab_type": "code",
    "executionInfo": {
     "elapsed": 586,
     "status": "ok",
     "timestamp": 1595144719057,
     "user": {
      "displayName": "John Ciolkosz",
      "photoUrl": "https://lh3.googleusercontent.com/a-/AOh14GiJSkSvCtGn_dFjShPLwtdKEwQHMwUGrqyOGp8-FA=s64",
      "userId": "02043570096623684421"
     },
     "user_tz": 300
    },
    "id": "2HCZfARXCDZp",
    "outputId": "1567fd07-5bd7-4955-f7d7-15a3ffc857dd"
   },
   "outputs": [
    {
     "data": {
      "text/html": [
       "<div>\n",
       "<style scoped>\n",
       "    .dataframe tbody tr th:only-of-type {\n",
       "        vertical-align: middle;\n",
       "    }\n",
       "\n",
       "    .dataframe tbody tr th {\n",
       "        vertical-align: top;\n",
       "    }\n",
       "\n",
       "    .dataframe thead th {\n",
       "        text-align: right;\n",
       "    }\n",
       "</style>\n",
       "<table border=\"1\" class=\"dataframe\">\n",
       "  <thead>\n",
       "    <tr style=\"text-align: right;\">\n",
       "      <th></th>\n",
       "      <th>W</th>\n",
       "      <th>L</th>\n",
       "      <th>W/L%</th>\n",
       "      <th>GB</th>\n",
       "      <th>PS/G</th>\n",
       "      <th>PA/G</th>\n",
       "      <th>SRS</th>\n",
       "    </tr>\n",
       "  </thead>\n",
       "  <tbody>\n",
       "    <tr>\n",
       "      <th>count</th>\n",
       "      <td>15.000000</td>\n",
       "      <td>15.000000</td>\n",
       "      <td>15.000000</td>\n",
       "      <td>12.000000</td>\n",
       "      <td>15.000000</td>\n",
       "      <td>15.000000</td>\n",
       "      <td>15.000000</td>\n",
       "    </tr>\n",
       "    <tr>\n",
       "      <th>mean</th>\n",
       "      <td>33.400000</td>\n",
       "      <td>31.066667</td>\n",
       "      <td>0.518667</td>\n",
       "      <td>13.541667</td>\n",
       "      <td>112.933333</td>\n",
       "      <td>112.200000</td>\n",
       "      <td>1.057333</td>\n",
       "    </tr>\n",
       "    <tr>\n",
       "      <th>std</th>\n",
       "      <td>9.847407</td>\n",
       "      <td>10.017604</td>\n",
       "      <td>0.154520</td>\n",
       "      <td>10.611868</td>\n",
       "      <td>3.127908</td>\n",
       "      <td>3.601785</td>\n",
       "      <td>4.211709</td>\n",
       "    </tr>\n",
       "    <tr>\n",
       "      <th>min</th>\n",
       "      <td>15.000000</td>\n",
       "      <td>14.000000</td>\n",
       "      <td>0.231000</td>\n",
       "      <td>1.500000</td>\n",
       "      <td>106.300000</td>\n",
       "      <td>106.900000</td>\n",
       "      <td>-7.920000</td>\n",
       "    </tr>\n",
       "    <tr>\n",
       "      <th>25%</th>\n",
       "      <td>27.500000</td>\n",
       "      <td>23.500000</td>\n",
       "      <td>0.433500</td>\n",
       "      <td>4.750000</td>\n",
       "      <td>110.900000</td>\n",
       "      <td>109.000000</td>\n",
       "      <td>-1.160000</td>\n",
       "    </tr>\n",
       "    <tr>\n",
       "      <th>50%</th>\n",
       "      <td>32.000000</td>\n",
       "      <td>33.000000</td>\n",
       "      <td>0.492000</td>\n",
       "      <td>12.250000</td>\n",
       "      <td>113.200000</td>\n",
       "      <td>113.700000</td>\n",
       "      <td>0.300000</td>\n",
       "    </tr>\n",
       "    <tr>\n",
       "      <th>75%</th>\n",
       "      <td>40.500000</td>\n",
       "      <td>36.500000</td>\n",
       "      <td>0.633000</td>\n",
       "      <td>22.000000</td>\n",
       "      <td>115.250000</td>\n",
       "      <td>114.950000</td>\n",
       "      <td>3.490000</td>\n",
       "    </tr>\n",
       "    <tr>\n",
       "      <th>max</th>\n",
       "      <td>49.000000</td>\n",
       "      <td>50.000000</td>\n",
       "      <td>0.778000</td>\n",
       "      <td>35.000000</td>\n",
       "      <td>118.100000</td>\n",
       "      <td>117.500000</td>\n",
       "      <td>7.750000</td>\n",
       "    </tr>\n",
       "  </tbody>\n",
       "</table>\n",
       "</div>"
      ],
      "text/plain": [
       "               W          L       W/L%  ...        PS/G        PA/G        SRS\n",
       "count  15.000000  15.000000  15.000000  ...   15.000000   15.000000  15.000000\n",
       "mean   33.400000  31.066667   0.518667  ...  112.933333  112.200000   1.057333\n",
       "std     9.847407  10.017604   0.154520  ...    3.127908    3.601785   4.211709\n",
       "min    15.000000  14.000000   0.231000  ...  106.300000  106.900000  -7.920000\n",
       "25%    27.500000  23.500000   0.433500  ...  110.900000  109.000000  -1.160000\n",
       "50%    32.000000  33.000000   0.492000  ...  113.200000  113.700000   0.300000\n",
       "75%    40.500000  36.500000   0.633000  ...  115.250000  114.950000   3.490000\n",
       "max    49.000000  50.000000   0.778000  ...  118.100000  117.500000   7.750000\n",
       "\n",
       "[8 rows x 7 columns]"
      ]
     },
     "execution_count": 41,
     "metadata": {
      "tags": []
     },
     "output_type": "execute_result"
    }
   ],
   "source": [
    "df_west1.describe()"
   ]
  },
  {
   "cell_type": "code",
   "execution_count": null,
   "metadata": {
    "colab": {
     "base_uri": "https://localhost:8080/",
     "height": 258
    },
    "colab_type": "code",
    "executionInfo": {
     "elapsed": 544,
     "status": "ok",
     "timestamp": 1595144750879,
     "user": {
      "displayName": "John Ciolkosz",
      "photoUrl": "https://lh3.googleusercontent.com/a-/AOh14GiJSkSvCtGn_dFjShPLwtdKEwQHMwUGrqyOGp8-FA=s64",
      "userId": "02043570096623684421"
     },
     "user_tz": 300
    },
    "id": "svL52trpCMhS",
    "outputId": "b1318faf-a945-4a5d-fe23-17ce939b56bd"
   },
   "outputs": [
    {
     "data": {
      "text/html": [
       "<div>\n",
       "<style scoped>\n",
       "    .dataframe tbody tr th:only-of-type {\n",
       "        vertical-align: middle;\n",
       "    }\n",
       "\n",
       "    .dataframe tbody tr th {\n",
       "        vertical-align: top;\n",
       "    }\n",
       "\n",
       "    .dataframe thead th {\n",
       "        text-align: right;\n",
       "    }\n",
       "</style>\n",
       "<table border=\"1\" class=\"dataframe\">\n",
       "  <thead>\n",
       "    <tr style=\"text-align: right;\">\n",
       "      <th></th>\n",
       "      <th>W</th>\n",
       "      <th>L</th>\n",
       "      <th>W/L%</th>\n",
       "      <th>GB</th>\n",
       "      <th>PS/G</th>\n",
       "      <th>PA/G</th>\n",
       "      <th>SRS</th>\n",
       "    </tr>\n",
       "  </thead>\n",
       "  <tbody>\n",
       "    <tr>\n",
       "      <th>W</th>\n",
       "      <td>1.000000</td>\n",
       "      <td>-0.994451</td>\n",
       "      <td>0.998137</td>\n",
       "      <td>-0.921506</td>\n",
       "      <td>0.413937</td>\n",
       "      <td>-0.812799</td>\n",
       "      <td>0.957124</td>\n",
       "    </tr>\n",
       "    <tr>\n",
       "      <th>L</th>\n",
       "      <td>-0.994451</td>\n",
       "      <td>1.000000</td>\n",
       "      <td>-0.998884</td>\n",
       "      <td>0.917883</td>\n",
       "      <td>-0.406296</td>\n",
       "      <td>0.807107</td>\n",
       "      <td>-0.950413</td>\n",
       "    </tr>\n",
       "    <tr>\n",
       "      <th>W/L%</th>\n",
       "      <td>0.998137</td>\n",
       "      <td>-0.998884</td>\n",
       "      <td>1.000000</td>\n",
       "      <td>-0.918496</td>\n",
       "      <td>0.407028</td>\n",
       "      <td>-0.812009</td>\n",
       "      <td>0.953700</td>\n",
       "    </tr>\n",
       "    <tr>\n",
       "      <th>GB</th>\n",
       "      <td>-0.921506</td>\n",
       "      <td>0.917883</td>\n",
       "      <td>-0.918496</td>\n",
       "      <td>1.000000</td>\n",
       "      <td>-0.559732</td>\n",
       "      <td>0.629667</td>\n",
       "      <td>-0.883405</td>\n",
       "    </tr>\n",
       "    <tr>\n",
       "      <th>PS/G</th>\n",
       "      <td>0.413937</td>\n",
       "      <td>-0.406296</td>\n",
       "      <td>0.407028</td>\n",
       "      <td>-0.559732</td>\n",
       "      <td>1.000000</td>\n",
       "      <td>0.152037</td>\n",
       "      <td>0.596563</td>\n",
       "    </tr>\n",
       "    <tr>\n",
       "      <th>PA/G</th>\n",
       "      <td>-0.812799</td>\n",
       "      <td>0.807107</td>\n",
       "      <td>-0.812009</td>\n",
       "      <td>0.629667</td>\n",
       "      <td>0.152037</td>\n",
       "      <td>1.000000</td>\n",
       "      <td>-0.700161</td>\n",
       "    </tr>\n",
       "    <tr>\n",
       "      <th>SRS</th>\n",
       "      <td>0.957124</td>\n",
       "      <td>-0.950413</td>\n",
       "      <td>0.953700</td>\n",
       "      <td>-0.883405</td>\n",
       "      <td>0.596563</td>\n",
       "      <td>-0.700161</td>\n",
       "      <td>1.000000</td>\n",
       "    </tr>\n",
       "  </tbody>\n",
       "</table>\n",
       "</div>"
      ],
      "text/plain": [
       "             W         L      W/L%        GB      PS/G      PA/G       SRS\n",
       "W     1.000000 -0.994451  0.998137 -0.921506  0.413937 -0.812799  0.957124\n",
       "L    -0.994451  1.000000 -0.998884  0.917883 -0.406296  0.807107 -0.950413\n",
       "W/L%  0.998137 -0.998884  1.000000 -0.918496  0.407028 -0.812009  0.953700\n",
       "GB   -0.921506  0.917883 -0.918496  1.000000 -0.559732  0.629667 -0.883405\n",
       "PS/G  0.413937 -0.406296  0.407028 -0.559732  1.000000  0.152037  0.596563\n",
       "PA/G -0.812799  0.807107 -0.812009  0.629667  0.152037  1.000000 -0.700161\n",
       "SRS   0.957124 -0.950413  0.953700 -0.883405  0.596563 -0.700161  1.000000"
      ]
     },
     "execution_count": 42,
     "metadata": {
      "tags": []
     },
     "output_type": "execute_result"
    }
   ],
   "source": [
    "df_west1.corr()"
   ]
  },
  {
   "cell_type": "code",
   "execution_count": null,
   "metadata": {
    "colab": {
     "base_uri": "https://localhost:8080/",
     "height": 198
    },
    "colab_type": "code",
    "executionInfo": {
     "elapsed": 591,
     "status": "ok",
     "timestamp": 1595144875548,
     "user": {
      "displayName": "John Ciolkosz",
      "photoUrl": "https://lh3.googleusercontent.com/a-/AOh14GiJSkSvCtGn_dFjShPLwtdKEwQHMwUGrqyOGp8-FA=s64",
      "userId": "02043570096623684421"
     },
     "user_tz": 300
    },
    "id": "VP059j52CwfL",
    "outputId": "ef72cb34-6ed2-42fd-915f-9ed6534c9c08"
   },
   "outputs": [
    {
     "data": {
      "text/html": [
       "<div>\n",
       "<style scoped>\n",
       "    .dataframe tbody tr th:only-of-type {\n",
       "        vertical-align: middle;\n",
       "    }\n",
       "\n",
       "    .dataframe tbody tr th {\n",
       "        vertical-align: top;\n",
       "    }\n",
       "\n",
       "    .dataframe thead th {\n",
       "        text-align: right;\n",
       "    }\n",
       "</style>\n",
       "<table border=\"1\" class=\"dataframe\">\n",
       "  <thead>\n",
       "    <tr style=\"text-align: right;\">\n",
       "      <th></th>\n",
       "      <th>Western Conference</th>\n",
       "      <th>W</th>\n",
       "      <th>L</th>\n",
       "      <th>W/L%</th>\n",
       "      <th>GB</th>\n",
       "      <th>PS/G</th>\n",
       "      <th>PA/G</th>\n",
       "      <th>SRS</th>\n",
       "    </tr>\n",
       "  </thead>\n",
       "  <tbody>\n",
       "    <tr>\n",
       "      <th>1</th>\n",
       "      <td>Denver Nuggets* (3)</td>\n",
       "      <td>43</td>\n",
       "      <td>22</td>\n",
       "      <td>0.662</td>\n",
       "      <td>NaN</td>\n",
       "      <td>110.4</td>\n",
       "      <td>107.4</td>\n",
       "      <td>3.02</td>\n",
       "    </tr>\n",
       "    <tr>\n",
       "      <th>2</th>\n",
       "      <td>Utah Jazz* (4)</td>\n",
       "      <td>41</td>\n",
       "      <td>23</td>\n",
       "      <td>0.641</td>\n",
       "      <td>1.5</td>\n",
       "      <td>111.0</td>\n",
       "      <td>107.9</td>\n",
       "      <td>3.20</td>\n",
       "    </tr>\n",
       "    <tr>\n",
       "      <th>3</th>\n",
       "      <td>Oklahoma City Thunder* (5)</td>\n",
       "      <td>40</td>\n",
       "      <td>24</td>\n",
       "      <td>0.625</td>\n",
       "      <td>2.5</td>\n",
       "      <td>110.8</td>\n",
       "      <td>108.3</td>\n",
       "      <td>2.79</td>\n",
       "    </tr>\n",
       "    <tr>\n",
       "      <th>4</th>\n",
       "      <td>Portland Trail Blazers (9)</td>\n",
       "      <td>29</td>\n",
       "      <td>37</td>\n",
       "      <td>0.439</td>\n",
       "      <td>14.5</td>\n",
       "      <td>113.6</td>\n",
       "      <td>115.2</td>\n",
       "      <td>-1.11</td>\n",
       "    </tr>\n",
       "    <tr>\n",
       "      <th>5</th>\n",
       "      <td>Minnesota Timberwolves (14)</td>\n",
       "      <td>19</td>\n",
       "      <td>45</td>\n",
       "      <td>0.297</td>\n",
       "      <td>23.5</td>\n",
       "      <td>113.3</td>\n",
       "      <td>117.5</td>\n",
       "      <td>-3.78</td>\n",
       "    </tr>\n",
       "  </tbody>\n",
       "</table>\n",
       "</div>"
      ],
      "text/plain": [
       "            Western Conference   W   L   W/L%    GB   PS/G   PA/G   SRS\n",
       "1          Denver Nuggets* (3)  43  22  0.662   NaN  110.4  107.4  3.02\n",
       "2               Utah Jazz* (4)  41  23  0.641   1.5  111.0  107.9  3.20\n",
       "3   Oklahoma City Thunder* (5)  40  24  0.625   2.5  110.8  108.3  2.79\n",
       "4   Portland Trail Blazers (9)  29  37  0.439  14.5  113.6  115.2 -1.11\n",
       "5  Minnesota Timberwolves (14)  19  45  0.297  23.5  113.3  117.5 -3.78"
      ]
     },
     "execution_count": 47,
     "metadata": {
      "tags": []
     },
     "output_type": "execute_result"
    }
   ],
   "source": [
    "df_west1.head(5)"
   ]
  },
  {
   "cell_type": "code",
   "execution_count": null,
   "metadata": {
    "colab": {},
    "colab_type": "code",
    "id": "iyLwd8ptC2Zd"
   },
   "outputs": [],
   "source": [
    "#iloc df.iloc[ : ,  ]\n",
    "all_data = df_west1.iloc[:, 1:]"
   ]
  },
  {
   "cell_type": "code",
   "execution_count": null,
   "metadata": {
    "colab": {
     "base_uri": "https://localhost:8080/",
     "height": 592
    },
    "colab_type": "code",
    "executionInfo": {
     "elapsed": 575,
     "status": "error",
     "timestamp": 1595145163811,
     "user": {
      "displayName": "John Ciolkosz",
      "photoUrl": "https://lh3.googleusercontent.com/a-/AOh14GiJSkSvCtGn_dFjShPLwtdKEwQHMwUGrqyOGp8-FA=s64",
      "userId": "02043570096623684421"
     },
     "user_tz": 300
    },
    "id": "aSR1DZ6-D10U",
    "outputId": "813145e6-6dc8-4c2e-a993-ba1ff5766663"
   },
   "outputs": [
    {
     "ename": "ValueError",
     "evalue": "ignored",
     "output_type": "error",
     "traceback": [
      "\u001b[0;31m---------------------------------------------------------------------------\u001b[0m",
      "\u001b[0;31mValueError\u001b[0m                                Traceback (most recent call last)",
      "\u001b[0;32m<ipython-input-58-bac9ab720258>\u001b[0m in \u001b[0;36m<module>\u001b[0;34m()\u001b[0m\n\u001b[0;32m----> 1\u001b[0;31m \u001b[0msns\u001b[0m\u001b[0;34m.\u001b[0m\u001b[0mdistplot\u001b[0m\u001b[0;34m(\u001b[0m\u001b[0mdf_west1\u001b[0m\u001b[0;34m,\u001b[0m \u001b[0mhist\u001b[0m\u001b[0;34m=\u001b[0m\u001b[0;32mTrue\u001b[0m\u001b[0;34m,\u001b[0m \u001b[0mkde\u001b[0m\u001b[0;34m=\u001b[0m\u001b[0;32mTrue\u001b[0m\u001b[0;34m)\u001b[0m\u001b[0;34m\u001b[0m\u001b[0;34m\u001b[0m\u001b[0m\n\u001b[0m\u001b[1;32m      2\u001b[0m \u001b[0mplt\u001b[0m\u001b[0;34m.\u001b[0m\u001b[0mshow\u001b[0m\u001b[0;34m(\u001b[0m\u001b[0;34m)\u001b[0m\u001b[0;34m\u001b[0m\u001b[0;34m\u001b[0m\u001b[0m\n",
      "\u001b[0;32m/usr/local/lib/python3.6/dist-packages/seaborn/distributions.py\u001b[0m in \u001b[0;36mdistplot\u001b[0;34m(a, bins, hist, kde, rug, fit, hist_kws, kde_kws, rug_kws, fit_kws, color, vertical, norm_hist, axlabel, label, ax)\u001b[0m\n\u001b[1;32m    175\u001b[0m \u001b[0;34m\u001b[0m\u001b[0m\n\u001b[1;32m    176\u001b[0m     \u001b[0;31m# Make a a 1-d float array\u001b[0m\u001b[0;34m\u001b[0m\u001b[0;34m\u001b[0m\u001b[0;34m\u001b[0m\u001b[0m\n\u001b[0;32m--> 177\u001b[0;31m     \u001b[0ma\u001b[0m \u001b[0;34m=\u001b[0m \u001b[0mnp\u001b[0m\u001b[0;34m.\u001b[0m\u001b[0masarray\u001b[0m\u001b[0;34m(\u001b[0m\u001b[0ma\u001b[0m\u001b[0;34m,\u001b[0m \u001b[0mnp\u001b[0m\u001b[0;34m.\u001b[0m\u001b[0mfloat\u001b[0m\u001b[0;34m)\u001b[0m\u001b[0;34m\u001b[0m\u001b[0;34m\u001b[0m\u001b[0m\n\u001b[0m\u001b[1;32m    178\u001b[0m     \u001b[0;32mif\u001b[0m \u001b[0ma\u001b[0m\u001b[0;34m.\u001b[0m\u001b[0mndim\u001b[0m \u001b[0;34m>\u001b[0m \u001b[0;36m1\u001b[0m\u001b[0;34m:\u001b[0m\u001b[0;34m\u001b[0m\u001b[0;34m\u001b[0m\u001b[0m\n\u001b[1;32m    179\u001b[0m         \u001b[0ma\u001b[0m \u001b[0;34m=\u001b[0m \u001b[0ma\u001b[0m\u001b[0;34m.\u001b[0m\u001b[0msqueeze\u001b[0m\u001b[0;34m(\u001b[0m\u001b[0;34m)\u001b[0m\u001b[0;34m\u001b[0m\u001b[0;34m\u001b[0m\u001b[0m\n",
      "\u001b[0;32m/usr/local/lib/python3.6/dist-packages/numpy/core/_asarray.py\u001b[0m in \u001b[0;36masarray\u001b[0;34m(a, dtype, order)\u001b[0m\n\u001b[1;32m     83\u001b[0m \u001b[0;34m\u001b[0m\u001b[0m\n\u001b[1;32m     84\u001b[0m     \"\"\"\n\u001b[0;32m---> 85\u001b[0;31m     \u001b[0;32mreturn\u001b[0m \u001b[0marray\u001b[0m\u001b[0;34m(\u001b[0m\u001b[0ma\u001b[0m\u001b[0;34m,\u001b[0m \u001b[0mdtype\u001b[0m\u001b[0;34m,\u001b[0m \u001b[0mcopy\u001b[0m\u001b[0;34m=\u001b[0m\u001b[0;32mFalse\u001b[0m\u001b[0;34m,\u001b[0m \u001b[0morder\u001b[0m\u001b[0;34m=\u001b[0m\u001b[0morder\u001b[0m\u001b[0;34m)\u001b[0m\u001b[0;34m\u001b[0m\u001b[0;34m\u001b[0m\u001b[0m\n\u001b[0m\u001b[1;32m     86\u001b[0m \u001b[0;34m\u001b[0m\u001b[0m\n\u001b[1;32m     87\u001b[0m \u001b[0;34m\u001b[0m\u001b[0m\n",
      "\u001b[0;31mValueError\u001b[0m: could not convert string to float: 'Denver Nuggets*\\xa0(3)'"
     ]
    },
    {
     "data": {
      "image/png": "[encoded data removed]",
      "text/plain": [
       "<Figure size 432x288 with 1 Axes>"
      ]
     },
     "metadata": {
      "needs_background": "light",
      "tags": []
     },
     "output_type": "display_data"
    }
   ],
   "source": [
    "sns.distplot(df_west1, hist=True, kde=True)\n",
    "plt.show()"
   ]
  },
  {
   "cell_type": "code",
   "execution_count": null,
   "metadata": {
    "colab": {
     "base_uri": "https://localhost:8080/",
     "height": 265
    },
    "colab_type": "code",
    "executionInfo": {
     "elapsed": 642,
     "status": "ok",
     "timestamp": 1595145142395,
     "user": {
      "displayName": "John Ciolkosz",
      "photoUrl": "https://lh3.googleusercontent.com/a-/AOh14GiJSkSvCtGn_dFjShPLwtdKEwQHMwUGrqyOGp8-FA=s64",
      "userId": "02043570096623684421"
     },
     "user_tz": 300
    },
    "id": "MeQx4ZydCfH7",
    "outputId": "f56e962a-3450-41b0-c829-bfb70cb1f8c0"
   },
   "outputs": [
    {
     "data": {
      "image/png": "[encoded data removed]",
      "text/plain": [
       "<Figure size 432x288 with 1 Axes>"
      ]
     },
     "metadata": {
      "needs_background": "light",
      "tags": []
     },
     "output_type": "display_data"
    }
   ],
   "source": [
    "sns.distplot(all_data, hist=True, kde=True)\n",
    "plt.show()"
   ]
  },
  {
   "cell_type": "code",
   "execution_count": null,
   "metadata": {
    "colab": {
     "base_uri": "https://localhost:8080/",
     "height": 35
    },
    "colab_type": "code",
    "executionInfo": {
     "elapsed": 536,
     "status": "ok",
     "timestamp": 1595145233440,
     "user": {
      "displayName": "John Ciolkosz",
      "photoUrl": "https://lh3.googleusercontent.com/a-/AOh14GiJSkSvCtGn_dFjShPLwtdKEwQHMwUGrqyOGp8-FA=s64",
      "userId": "02043570096623684421"
     },
     "user_tz": 300
    },
    "id": "sJh_y3JuEIcP",
    "outputId": "d81360d9-4202-44e6-9945-ecc3845b4f41"
   },
   "outputs": [
    {
     "data": {
      "text/plain": [
       "Index(['Western Conference', 'W', 'L', 'W/L%', 'GB', 'PS/G', 'PA/G', 'SRS'], dtype='object')"
      ]
     },
     "execution_count": 59,
     "metadata": {
      "tags": []
     },
     "output_type": "execute_result"
    }
   ],
   "source": [
    "df_west1.columns"
   ]
  },
  {
   "cell_type": "code",
   "execution_count": null,
   "metadata": {
    "colab": {
     "base_uri": "https://localhost:8080/",
     "height": 279
    },
    "colab_type": "code",
    "executionInfo": {
     "elapsed": 695,
     "status": "ok",
     "timestamp": 1595145246478,
     "user": {
      "displayName": "John Ciolkosz",
      "photoUrl": "https://lh3.googleusercontent.com/a-/AOh14GiJSkSvCtGn_dFjShPLwtdKEwQHMwUGrqyOGp8-FA=s64",
      "userId": "02043570096623684421"
     },
     "user_tz": 300
    },
    "id": "mUB3JGbCCs5x",
    "outputId": "d986a92a-7082-4cfe-f3ed-5a3a281c7a66"
   },
   "outputs": [
    {
     "data": {
      "image/png": "[encoded data removed]",
      "text/plain": [
       "<Figure size 432x288 with 1 Axes>"
      ]
     },
     "metadata": {
      "needs_background": "light",
      "tags": []
     },
     "output_type": "display_data"
    }
   ],
   "source": [
    "sns.distplot(df_west1[\"W\"], hist=True, kde=True)\n",
    "plt.show()"
   ]
  },
  {
   "cell_type": "code",
   "execution_count": null,
   "metadata": {
    "colab": {},
    "colab_type": "code",
    "id": "WENjFCCSlBUG"
   },
   "outputs": [],
   "source": [
    "#documentation of SciPy continuous distributions\n",
    "#https://docs.scipy.org/doc/scipy/reference/stats.html"
   ]
  },
  {
   "cell_type": "code",
   "execution_count": 3,
   "metadata": {
    "colab": {},
    "colab_type": "code",
    "executionInfo": {
     "elapsed": 452,
     "status": "ok",
     "timestamp": 1595523353681,
     "user": {
      "displayName": "John Ciolkosz",
      "photoUrl": "https://lh3.googleusercontent.com/a-/AOh14GiJSkSvCtGn_dFjShPLwtdKEwQHMwUGrqyOGp8-FA=s64",
      "userId": "02043570096623684421"
     },
     "user_tz": 300
    },
    "id": "pC77uYZQlT3e"
   },
   "outputs": [],
   "source": [
    "#getting some new data to look at from Seaborn\n",
    "df_exercise=sns.load_dataset(\"exercise\")"
   ]
  },
  {
   "cell_type": "code",
   "execution_count": 4,
   "metadata": {
    "colab": {
     "base_uri": "https://localhost:8080/",
     "height": 355
    },
    "colab_type": "code",
    "executionInfo": {
     "elapsed": 343,
     "status": "ok",
     "timestamp": 1595523369745,
     "user": {
      "displayName": "John Ciolkosz",
      "photoUrl": "https://lh3.googleusercontent.com/a-/AOh14GiJSkSvCtGn_dFjShPLwtdKEwQHMwUGrqyOGp8-FA=s64",
      "userId": "02043570096623684421"
     },
     "user_tz": 300
    },
    "id": "5Fg4h24glT6I",
    "outputId": "d2870a88-d045-4584-c152-7b3254dbfbb1"
   },
   "outputs": [
    {
     "data": {
      "text/html": [
       "<div>\n",
       "<style scoped>\n",
       "    .dataframe tbody tr th:only-of-type {\n",
       "        vertical-align: middle;\n",
       "    }\n",
       "\n",
       "    .dataframe tbody tr th {\n",
       "        vertical-align: top;\n",
       "    }\n",
       "\n",
       "    .dataframe thead th {\n",
       "        text-align: right;\n",
       "    }\n",
       "</style>\n",
       "<table border=\"1\" class=\"dataframe\">\n",
       "  <thead>\n",
       "    <tr style=\"text-align: right;\">\n",
       "      <th></th>\n",
       "      <th>Unnamed: 0</th>\n",
       "      <th>id</th>\n",
       "      <th>diet</th>\n",
       "      <th>pulse</th>\n",
       "      <th>time</th>\n",
       "      <th>kind</th>\n",
       "    </tr>\n",
       "  </thead>\n",
       "  <tbody>\n",
       "    <tr>\n",
       "      <th>0</th>\n",
       "      <td>0</td>\n",
       "      <td>1</td>\n",
       "      <td>low fat</td>\n",
       "      <td>85</td>\n",
       "      <td>1 min</td>\n",
       "      <td>rest</td>\n",
       "    </tr>\n",
       "    <tr>\n",
       "      <th>1</th>\n",
       "      <td>1</td>\n",
       "      <td>1</td>\n",
       "      <td>low fat</td>\n",
       "      <td>85</td>\n",
       "      <td>15 min</td>\n",
       "      <td>rest</td>\n",
       "    </tr>\n",
       "    <tr>\n",
       "      <th>2</th>\n",
       "      <td>2</td>\n",
       "      <td>1</td>\n",
       "      <td>low fat</td>\n",
       "      <td>88</td>\n",
       "      <td>30 min</td>\n",
       "      <td>rest</td>\n",
       "    </tr>\n",
       "    <tr>\n",
       "      <th>3</th>\n",
       "      <td>3</td>\n",
       "      <td>2</td>\n",
       "      <td>low fat</td>\n",
       "      <td>90</td>\n",
       "      <td>1 min</td>\n",
       "      <td>rest</td>\n",
       "    </tr>\n",
       "    <tr>\n",
       "      <th>4</th>\n",
       "      <td>4</td>\n",
       "      <td>2</td>\n",
       "      <td>low fat</td>\n",
       "      <td>92</td>\n",
       "      <td>15 min</td>\n",
       "      <td>rest</td>\n",
       "    </tr>\n",
       "    <tr>\n",
       "      <th>5</th>\n",
       "      <td>5</td>\n",
       "      <td>2</td>\n",
       "      <td>low fat</td>\n",
       "      <td>93</td>\n",
       "      <td>30 min</td>\n",
       "      <td>rest</td>\n",
       "    </tr>\n",
       "    <tr>\n",
       "      <th>6</th>\n",
       "      <td>6</td>\n",
       "      <td>3</td>\n",
       "      <td>low fat</td>\n",
       "      <td>97</td>\n",
       "      <td>1 min</td>\n",
       "      <td>rest</td>\n",
       "    </tr>\n",
       "    <tr>\n",
       "      <th>7</th>\n",
       "      <td>7</td>\n",
       "      <td>3</td>\n",
       "      <td>low fat</td>\n",
       "      <td>97</td>\n",
       "      <td>15 min</td>\n",
       "      <td>rest</td>\n",
       "    </tr>\n",
       "    <tr>\n",
       "      <th>8</th>\n",
       "      <td>8</td>\n",
       "      <td>3</td>\n",
       "      <td>low fat</td>\n",
       "      <td>94</td>\n",
       "      <td>30 min</td>\n",
       "      <td>rest</td>\n",
       "    </tr>\n",
       "    <tr>\n",
       "      <th>9</th>\n",
       "      <td>9</td>\n",
       "      <td>4</td>\n",
       "      <td>low fat</td>\n",
       "      <td>80</td>\n",
       "      <td>1 min</td>\n",
       "      <td>rest</td>\n",
       "    </tr>\n",
       "  </tbody>\n",
       "</table>\n",
       "</div>"
      ],
      "text/plain": [
       "   Unnamed: 0  id     diet  pulse    time  kind\n",
       "0           0   1  low fat     85   1 min  rest\n",
       "1           1   1  low fat     85  15 min  rest\n",
       "2           2   1  low fat     88  30 min  rest\n",
       "3           3   2  low fat     90   1 min  rest\n",
       "4           4   2  low fat     92  15 min  rest\n",
       "5           5   2  low fat     93  30 min  rest\n",
       "6           6   3  low fat     97   1 min  rest\n",
       "7           7   3  low fat     97  15 min  rest\n",
       "8           8   3  low fat     94  30 min  rest\n",
       "9           9   4  low fat     80   1 min  rest"
      ]
     },
     "execution_count": 4,
     "metadata": {
      "tags": []
     },
     "output_type": "execute_result"
    }
   ],
   "source": [
    "df_exercise.head(10)"
   ]
  },
  {
   "cell_type": "code",
   "execution_count": 5,
   "metadata": {
    "colab": {
     "base_uri": "https://localhost:8080/",
     "height": 243
    },
    "colab_type": "code",
    "executionInfo": {
     "elapsed": 296,
     "status": "ok",
     "timestamp": 1595523393466,
     "user": {
      "displayName": "John Ciolkosz",
      "photoUrl": "https://lh3.googleusercontent.com/a-/AOh14GiJSkSvCtGn_dFjShPLwtdKEwQHMwUGrqyOGp8-FA=s64",
      "userId": "02043570096623684421"
     },
     "user_tz": 300
    },
    "id": "Qcu83oE-lT8_",
    "outputId": "83f9b054-150d-41c4-89f2-f694ab6cafbb"
   },
   "outputs": [
    {
     "name": "stdout",
     "output_type": "stream",
     "text": [
      "<class 'pandas.core.frame.DataFrame'>\n",
      "RangeIndex: 90 entries, 0 to 89\n",
      "Data columns (total 6 columns):\n",
      " #   Column      Non-Null Count  Dtype   \n",
      "---  ------      --------------  -----   \n",
      " 0   Unnamed: 0  90 non-null     int64   \n",
      " 1   id          90 non-null     int64   \n",
      " 2   diet        90 non-null     category\n",
      " 3   pulse       90 non-null     int64   \n",
      " 4   time        90 non-null     category\n",
      " 5   kind        90 non-null     category\n",
      "dtypes: category(3), int64(3)\n",
      "memory usage: 2.8 KB\n"
     ]
    }
   ],
   "source": [
    "df_exercise.info()"
   ]
  },
  {
   "cell_type": "code",
   "execution_count": 6,
   "metadata": {
    "colab": {
     "base_uri": "https://localhost:8080/",
     "height": 347
    },
    "colab_type": "code",
    "executionInfo": {
     "elapsed": 5599,
     "status": "ok",
     "timestamp": 1595523491843,
     "user": {
      "displayName": "John Ciolkosz",
      "photoUrl": "https://lh3.googleusercontent.com/a-/AOh14GiJSkSvCtGn_dFjShPLwtdKEwQHMwUGrqyOGp8-FA=s64",
      "userId": "02043570096623684421"
     },
     "user_tz": 300
    },
    "id": "nCi_H9E_muZM",
    "outputId": "cc128264-89bb-4b7b-d98c-f8a16ee91358"
   },
   "outputs": [
    {
     "name": "stdout",
     "output_type": "stream",
     "text": [
      "Collecting fitter\n",
      "  Downloading https://files.pythonhosted.org/packages/29/7a/ea2e070f971d70172f3e4bacba8b1bfadcdb2b8cd547bf1bfb4906426d9e/fitter-1.2.1.tar.gz\n",
      "Requirement already satisfied: numpy in /usr/local/lib/python3.6/dist-packages (from fitter) (1.18.5)\n",
      "Requirement already satisfied: matplotlib in /usr/local/lib/python3.6/dist-packages (from fitter) (3.2.2)\n",
      "Requirement already satisfied: scipy>=0.18 in /usr/local/lib/python3.6/dist-packages (from fitter) (1.4.1)\n",
      "Requirement already satisfied: pandas in /usr/local/lib/python3.6/dist-packages (from fitter) (1.0.5)\n",
      "Requirement already satisfied: python-dateutil>=2.1 in /usr/local/lib/python3.6/dist-packages (from matplotlib->fitter) (2.8.1)\n",
      "Requirement already satisfied: pyparsing!=2.0.4,!=2.1.2,!=2.1.6,>=2.0.1 in /usr/local/lib/python3.6/dist-packages (from matplotlib->fitter) (2.4.7)\n",
      "Requirement already satisfied: cycler>=0.10 in /usr/local/lib/python3.6/dist-packages (from matplotlib->fitter) (0.10.0)\n",
      "Requirement already satisfied: kiwisolver>=1.0.1 in /usr/local/lib/python3.6/dist-packages (from matplotlib->fitter) (1.2.0)\n",
      "Requirement already satisfied: pytz>=2017.2 in /usr/local/lib/python3.6/dist-packages (from pandas->fitter) (2018.9)\n",
      "Requirement already satisfied: six>=1.5 in /usr/local/lib/python3.6/dist-packages (from python-dateutil>=2.1->matplotlib->fitter) (1.15.0)\n",
      "Building wheels for collected packages: fitter\n",
      "  Building wheel for fitter (setup.py) ... \u001b[?25l\u001b[?25hdone\n",
      "  Created wheel for fitter: filename=fitter-1.2.1-cp36-none-any.whl size=22008 sha256=2987ce1413c73bfe8f34c36bcd66848d4ad134428fec0fbe63288362eb620223\n",
      "  Stored in directory: /root/.cache/pip/wheels/53/3a/55/e36b00733683c71d53430f6f4db91af4c727ba4339b1e654e6\n",
      "Successfully built fitter\n",
      "Installing collected packages: fitter\n",
      "Successfully installed fitter-1.2.1\n"
     ]
    }
   ],
   "source": [
    "!pip install fitter"
   ]
  },
  {
   "cell_type": "code",
   "execution_count": 7,
   "metadata": {
    "colab": {},
    "colab_type": "code",
    "executionInfo": {
     "elapsed": 389,
     "status": "ok",
     "timestamp": 1595523564570,
     "user": {
      "displayName": "John Ciolkosz",
      "photoUrl": "https://lh3.googleusercontent.com/a-/AOh14GiJSkSvCtGn_dFjShPLwtdKEwQHMwUGrqyOGp8-FA=s64",
      "userId": "02043570096623684421"
     },
     "user_tz": 300
    },
    "id": "rg9umY-BnFH0"
   },
   "outputs": [],
   "source": [
    "#https://fitter.readthedocs.io/en/latest/"
   ]
  },
  {
   "cell_type": "code",
   "execution_count": 8,
   "metadata": {
    "colab": {},
    "colab_type": "code",
    "executionInfo": {
     "elapsed": 544,
     "status": "ok",
     "timestamp": 1595523576925,
     "user": {
      "displayName": "John Ciolkosz",
      "photoUrl": "https://lh3.googleusercontent.com/a-/AOh14GiJSkSvCtGn_dFjShPLwtdKEwQHMwUGrqyOGp8-FA=s64",
      "userId": "02043570096623684421"
     },
     "user_tz": 300
    },
    "id": "RJjzm-vSnYI_"
   },
   "outputs": [],
   "source": [
    "from fitter import Fitter"
   ]
  },
  {
   "cell_type": "code",
   "execution_count": 9,
   "metadata": {
    "colab": {},
    "colab_type": "code",
    "executionInfo": {
     "elapsed": 244,
     "status": "ok",
     "timestamp": 1595523615726,
     "user": {
      "displayName": "John Ciolkosz",
      "photoUrl": "https://lh3.googleusercontent.com/a-/AOh14GiJSkSvCtGn_dFjShPLwtdKEwQHMwUGrqyOGp8-FA=s64",
      "userId": "02043570096623684421"
     },
     "user_tz": 300
    },
    "id": "pfqP7soqnhSS"
   },
   "outputs": [],
   "source": [
    "data = df_exercise[\"pulse\"]"
   ]
  },
  {
   "cell_type": "code",
   "execution_count": 11,
   "metadata": {
    "colab": {},
    "colab_type": "code",
    "executionInfo": {
     "elapsed": 218,
     "status": "ok",
     "timestamp": 1595523642734,
     "user": {
      "displayName": "John Ciolkosz",
      "photoUrl": "https://lh3.googleusercontent.com/a-/AOh14GiJSkSvCtGn_dFjShPLwtdKEwQHMwUGrqyOGp8-FA=s64",
      "userId": "02043570096623684421"
     },
     "user_tz": 300
    },
    "id": "lpoYnTqSnbH1"
   },
   "outputs": [],
   "source": [
    "f = Fitter(data)"
   ]
  },
  {
   "cell_type": "code",
   "execution_count": 13,
   "metadata": {
    "colab": {
     "base_uri": "https://localhost:8080/",
     "height": 1000
    },
    "colab_type": "code",
    "executionInfo": {
     "elapsed": 95300,
     "status": "ok",
     "timestamp": 1595523794073,
     "user": {
      "displayName": "John Ciolkosz",
      "photoUrl": "https://lh3.googleusercontent.com/a-/AOh14GiJSkSvCtGn_dFjShPLwtdKEwQHMwUGrqyOGp8-FA=s64",
      "userId": "02043570096623684421"
     },
     "user_tz": 300
    },
    "id": "ivArez1rntb9",
    "outputId": "724a2f55-5cc9-4aaa-88c8-e3a134115c20"
   },
   "outputs": [
    {
     "name": "stderr",
     "output_type": "stream",
     "text": [
      "/usr/local/lib/python3.6/dist-packages/scipy/stats/_distn_infrastructure.py:2407: RuntimeWarning: invalid value encountered in double_scalars\n",
      "  Lhat = muhat - Shat*mu\n",
      "/usr/local/lib/python3.6/dist-packages/scipy/stats/_continuous_distns.py:422: RuntimeWarning: divide by zero encountered in true_divide\n",
      "  return 1.0/np.pi/np.sqrt(x*(1-x))\n"
     ]
    },
    {
     "name": "stdout",
     "output_type": "stream",
     "text": [
      "Fitted alpha distribution with error=0.03125864451269496)\n",
      "Fitted anglit distribution with error=0.047425707737990555)\n",
      "Fitted arcsine distribution with error=0.05737846732923048)\n"
     ]
    },
    {
     "name": "stderr",
     "output_type": "stream",
     "text": [
      "/usr/local/lib/python3.6/dist-packages/scipy/stats/_continuous_distns.py:7953: RuntimeWarning: divide by zero encountered in double_scalars\n",
      "  return chi**3 / (_norm_pdf_C * _argus_phi(chi)) * x * np.sqrt(y) * np.exp(-chi**2 * y / 2)\n",
      "/usr/local/lib/python3.6/dist-packages/scipy/stats/_continuous_distns.py:547: RuntimeWarning: invalid value encountered in sqrt\n",
      "  sk = 2*(b-a)*np.sqrt(a + b + 1) / (a + b + 2) / np.sqrt(a*b)\n",
      "/usr/local/lib/python3.6/dist-packages/scipy/stats/_continuous_distns.py:708: RuntimeWarning: divide by zero encountered in true_divide\n",
      "  a/(b-1.0),\n",
      "/usr/local/lib/python3.6/dist-packages/scipy/stats/_continuous_distns.py:712: RuntimeWarning: divide by zero encountered in true_divide\n",
      "  a*(a+1.0)/((b-2.0)*(b-1.0)),\n",
      "/usr/local/lib/python3.6/dist-packages/scipy/stats/_distn_infrastructure.py:1063: RuntimeWarning: invalid value encountered in subtract\n",
      "  mu2 = mu2p - mu * mu\n"
     ]
    },
    {
     "name": "stdout",
     "output_type": "stream",
     "text": [
      "Fitted argus distribution with error=0.05684817993040277)\n",
      "Fitted beta distribution with error=0.050326512799729564)\n",
      "Fitted betaprime distribution with error=0.03463171767119339)\n",
      "Fitted bradford distribution with error=0.04279343765664105)\n",
      "Fitted burr distribution with error=0.03115850860026567)\n",
      "Fitted burr12 distribution with error=0.031394222817304675)\n",
      "Fitted cauchy distribution with error=0.030204019425009585)\n",
      "Fitted chi distribution with error=0.07054470955070401)\n",
      "Fitted chi2 distribution with error=0.1858713733957653)\n",
      "Fitted cosine distribution with error=0.044393309630020604)\n",
      "Fitted crystalball distribution with error=0.03829102719271864)\n",
      "Fitted dgamma distribution with error=0.030709744730971916)\n",
      "Fitted dweibull distribution with error=0.03145330292359351)\n"
     ]
    },
    {
     "name": "stderr",
     "output_type": "stream",
     "text": [
      "/usr/local/lib/python3.6/dist-packages/scipy/stats/_continuous_distns.py:2847: RuntimeWarning: The shape parameter of the erlang distribution has been given a non-integer value 1.05.\n",
      "  RuntimeWarning)\n",
      "/usr/local/lib/python3.6/dist-packages/scipy/stats/_continuous_distns.py:2847: RuntimeWarning: The shape parameter of the erlang distribution has been given a non-integer value 1.0333333333333332.\n",
      "  RuntimeWarning)\n",
      "/usr/local/lib/python3.6/dist-packages/scipy/stats/_continuous_distns.py:2847: RuntimeWarning: The shape parameter of the erlang distribution has been given a non-integer value 0.9722222222222221.\n",
      "  RuntimeWarning)\n",
      "/usr/local/lib/python3.6/dist-packages/scipy/stats/_continuous_distns.py:2847: RuntimeWarning: The shape parameter of the erlang distribution has been given a non-integer value 0.9333333333333331.\n",
      "  RuntimeWarning)\n",
      "/usr/local/lib/python3.6/dist-packages/scipy/stats/_continuous_distns.py:2847: RuntimeWarning: The shape parameter of the erlang distribution has been given a non-integer value 0.9777777777777776.\n",
      "  RuntimeWarning)\n",
      "/usr/local/lib/python3.6/dist-packages/scipy/stats/_continuous_distns.py:2847: RuntimeWarning: The shape parameter of the erlang distribution has been given a non-integer value 0.9944444444444445.\n",
      "  RuntimeWarning)\n",
      "/usr/local/lib/python3.6/dist-packages/scipy/stats/_continuous_distns.py:2847: RuntimeWarning: The shape parameter of the erlang distribution has been given a non-integer value 0.9833333333333332.\n",
      "  RuntimeWarning)\n",
      "/usr/local/lib/python3.6/dist-packages/scipy/stats/_continuous_distns.py:2847: RuntimeWarning: The shape parameter of the erlang distribution has been given a non-integer value 0.9111111111111108.\n",
      "  RuntimeWarning)\n",
      "/usr/local/lib/python3.6/dist-packages/scipy/stats/_continuous_distns.py:2847: RuntimeWarning: The shape parameter of the erlang distribution has been given a non-integer value 1.0027777777777775.\n",
      "  RuntimeWarning)\n",
      "/usr/local/lib/python3.6/dist-packages/scipy/stats/_continuous_distns.py:2847: RuntimeWarning: The shape parameter of the erlang distribution has been given a non-integer value 0.946296296296296.\n",
      "  RuntimeWarning)\n",
      "/usr/local/lib/python3.6/dist-packages/scipy/stats/_continuous_distns.py:2847: RuntimeWarning: The shape parameter of the erlang distribution has been given a non-integer value 0.986574074074074.\n",
      "  RuntimeWarning)\n",
      "/usr/local/lib/python3.6/dist-packages/scipy/stats/_continuous_distns.py:2847: RuntimeWarning: The shape parameter of the erlang distribution has been given a non-integer value 0.9327160493827158.\n",
      "  RuntimeWarning)\n",
      "/usr/local/lib/python3.6/dist-packages/scipy/stats/_continuous_distns.py:2847: RuntimeWarning: The shape parameter of the erlang distribution has been given a non-integer value 0.9852623456790122.\n",
      "  RuntimeWarning)\n",
      "/usr/local/lib/python3.6/dist-packages/scipy/stats/_continuous_distns.py:2847: RuntimeWarning: The shape parameter of the erlang distribution has been given a non-integer value 0.9480452674897115.\n",
      "  RuntimeWarning)\n",
      "/usr/local/lib/python3.6/dist-packages/scipy/stats/_continuous_distns.py:2847: RuntimeWarning: The shape parameter of the erlang distribution has been given a non-integer value 0.9287808641975301.\n",
      "  RuntimeWarning)\n",
      "/usr/local/lib/python3.6/dist-packages/scipy/stats/_continuous_distns.py:2847: RuntimeWarning: The shape parameter of the erlang distribution has been given a non-integer value 0.9245456104252396.\n",
      "  RuntimeWarning)\n",
      "/usr/local/lib/python3.6/dist-packages/scipy/stats/_continuous_distns.py:2847: RuntimeWarning: The shape parameter of the erlang distribution has been given a non-integer value 0.970083161865569.\n",
      "  RuntimeWarning)\n",
      "/usr/local/lib/python3.6/dist-packages/scipy/stats/_continuous_distns.py:2847: RuntimeWarning: The shape parameter of the erlang distribution has been given a non-integer value 0.9397247942386828.\n",
      "  RuntimeWarning)\n",
      "/usr/local/lib/python3.6/dist-packages/scipy/stats/_continuous_distns.py:2847: RuntimeWarning: The shape parameter of the erlang distribution has been given a non-integer value 0.9624935699588475.\n",
      "  RuntimeWarning)\n",
      "/usr/local/lib/python3.6/dist-packages/scipy/stats/_continuous_distns.py:2847: RuntimeWarning: The shape parameter of the erlang distribution has been given a non-integer value 0.9125814471879281.\n",
      "  RuntimeWarning)\n",
      "/usr/local/lib/python3.6/dist-packages/scipy/stats/_continuous_distns.py:2847: RuntimeWarning: The shape parameter of the erlang distribution has been given a non-integer value 0.8772055041152256.\n",
      "  RuntimeWarning)\n",
      "/usr/local/lib/python3.6/dist-packages/scipy/stats/_continuous_distns.py:2847: RuntimeWarning: The shape parameter of the erlang distribution has been given a non-integer value 0.8765624999999995.\n",
      "  RuntimeWarning)\n",
      "/usr/local/lib/python3.6/dist-packages/scipy/stats/_continuous_distns.py:2847: RuntimeWarning: The shape parameter of the erlang distribution has been given a non-integer value 0.9410108024691355.\n",
      "  RuntimeWarning)\n",
      "/usr/local/lib/python3.6/dist-packages/scipy/stats/_continuous_distns.py:2847: RuntimeWarning: The shape parameter of the erlang distribution has been given a non-integer value 0.9108410493827155.\n",
      "  RuntimeWarning)\n",
      "/usr/local/lib/python3.6/dist-packages/scipy/stats/_continuous_distns.py:2847: RuntimeWarning: The shape parameter of the erlang distribution has been given a non-integer value 0.8995949074074066.\n",
      "  RuntimeWarning)\n",
      "/usr/local/lib/python3.6/dist-packages/scipy/stats/_continuous_distns.py:2847: RuntimeWarning: The shape parameter of the erlang distribution has been given a non-integer value 0.883050411522633.\n",
      "  RuntimeWarning)\n",
      "/usr/local/lib/python3.6/dist-packages/scipy/stats/_continuous_distns.py:2847: RuntimeWarning: The shape parameter of the erlang distribution has been given a non-integer value 0.9265207047325099.\n",
      "  RuntimeWarning)\n",
      "/usr/local/lib/python3.6/dist-packages/scipy/stats/_continuous_distns.py:2847: RuntimeWarning: The shape parameter of the erlang distribution has been given a non-integer value 0.8616662379972557.\n",
      "  RuntimeWarning)\n",
      "/usr/local/lib/python3.6/dist-packages/scipy/stats/_continuous_distns.py:2847: RuntimeWarning: The shape parameter of the erlang distribution has been given a non-integer value 0.8184767232510279.\n",
      "  RuntimeWarning)\n",
      "/usr/local/lib/python3.6/dist-packages/scipy/stats/_continuous_distns.py:2847: RuntimeWarning: The shape parameter of the erlang distribution has been given a non-integer value 0.8111614797668025.\n",
      "  RuntimeWarning)\n",
      "/usr/local/lib/python3.6/dist-packages/scipy/stats/_continuous_distns.py:2847: RuntimeWarning: The shape parameter of the erlang distribution has been given a non-integer value 0.753481867283949.\n",
      "  RuntimeWarning)\n",
      "/usr/local/lib/python3.6/dist-packages/scipy/stats/_continuous_distns.py:2847: RuntimeWarning: The shape parameter of the erlang distribution has been given a non-integer value 0.8164473308184719.\n",
      "  RuntimeWarning)\n",
      "/usr/local/lib/python3.6/dist-packages/scipy/stats/_continuous_distns.py:2847: RuntimeWarning: The shape parameter of the erlang distribution has been given a non-integer value 0.786068244170095.\n",
      "  RuntimeWarning)\n",
      "/usr/local/lib/python3.6/dist-packages/scipy/stats/_continuous_distns.py:2847: RuntimeWarning: The shape parameter of the erlang distribution has been given a non-integer value 0.7198826398414861.\n",
      "  RuntimeWarning)\n",
      "/usr/local/lib/python3.6/dist-packages/scipy/stats/_continuous_distns.py:2847: RuntimeWarning: The shape parameter of the erlang distribution has been given a non-integer value 0.6244034350708714.\n",
      "  RuntimeWarning)\n",
      "/usr/local/lib/python3.6/dist-packages/scipy/stats/_continuous_distns.py:2847: RuntimeWarning: The shape parameter of the erlang distribution has been given a non-integer value 0.6828647738530693.\n",
      "  RuntimeWarning)\n",
      "/usr/local/lib/python3.6/dist-packages/scipy/stats/_continuous_distns.py:2847: RuntimeWarning: The shape parameter of the erlang distribution has been given a non-integer value 0.6150587991540899.\n",
      "  RuntimeWarning)\n",
      "/usr/local/lib/python3.6/dist-packages/scipy/stats/_continuous_distns.py:2847: RuntimeWarning: The shape parameter of the erlang distribution has been given a non-integer value 0.6046488800614724.\n",
      "  RuntimeWarning)\n",
      "/usr/local/lib/python3.6/dist-packages/scipy/stats/_continuous_distns.py:2847: RuntimeWarning: The shape parameter of the erlang distribution has been given a non-integer value 0.5013925802088073.\n",
      "  RuntimeWarning)\n",
      "/usr/local/lib/python3.6/dist-packages/scipy/stats/_continuous_distns.py:2847: RuntimeWarning: The shape parameter of the erlang distribution has been given a non-integer value 0.38932652860336003.\n",
      "  RuntimeWarning)\n",
      "/usr/local/lib/python3.6/dist-packages/scipy/stats/_continuous_distns.py:2847: RuntimeWarning: The shape parameter of the erlang distribution has been given a non-integer value 0.175766127495804.\n",
      "  RuntimeWarning)\n",
      "/usr/local/lib/python3.6/dist-packages/scipy/stats/_continuous_distns.py:2847: RuntimeWarning: The shape parameter of the erlang distribution has been given a non-integer value 0.4246524867059531.\n",
      "  RuntimeWarning)\n",
      "/usr/local/lib/python3.6/dist-packages/scipy/stats/_continuous_distns.py:2847: RuntimeWarning: The shape parameter of the erlang distribution has been given a non-integer value 0.3247770125234939.\n",
      "  RuntimeWarning)\n",
      "/usr/local/lib/python3.6/dist-packages/scipy/stats/_continuous_distns.py:2847: RuntimeWarning: The shape parameter of the erlang distribution has been given a non-integer value 0.19404962315901098.\n",
      "  RuntimeWarning)\n",
      "/usr/local/lib/python3.6/dist-packages/scipy/stats/_continuous_distns.py:2847: RuntimeWarning: The shape parameter of the erlang distribution has been given a non-integer value 0.17062651210340885.\n",
      "  RuntimeWarning)\n",
      "/usr/local/lib/python3.6/dist-packages/scipy/stats/_continuous_distns.py:2847: RuntimeWarning: The shape parameter of the erlang distribution has been given a non-integer value 0.13689255270888856.\n",
      "  RuntimeWarning)\n",
      "/usr/local/lib/python3.6/dist-packages/scipy/stats/_continuous_distns.py:2847: RuntimeWarning: The shape parameter of the erlang distribution has been given a non-integer value 0.29406474451982273.\n",
      "  RuntimeWarning)\n",
      "/usr/local/lib/python3.6/dist-packages/scipy/stats/_continuous_distns.py:2847: RuntimeWarning: The shape parameter of the erlang distribution has been given a non-integer value 0.21905340349921393.\n",
      "  RuntimeWarning)\n",
      "/usr/local/lib/python3.6/dist-packages/scipy/stats/_continuous_distns.py:2847: RuntimeWarning: The shape parameter of the erlang distribution has been given a non-integer value 0.3497724498392949.\n",
      "  RuntimeWarning)\n",
      "/usr/local/lib/python3.6/dist-packages/scipy/stats/_continuous_distns.py:2847: RuntimeWarning: The shape parameter of the erlang distribution has been given a non-integer value 0.43934541870723787.\n",
      "  RuntimeWarning)\n",
      "/usr/local/lib/python3.6/dist-packages/scipy/stats/_continuous_distns.py:2847: RuntimeWarning: The shape parameter of the erlang distribution has been given a non-integer value 0.5254263406540861.\n",
      "  RuntimeWarning)\n",
      "/usr/local/lib/python3.6/dist-packages/scipy/stats/_continuous_distns.py:2847: RuntimeWarning: The shape parameter of the erlang distribution has been given a non-integer value 0.23402599969518795.\n",
      "  RuntimeWarning)\n",
      "/usr/local/lib/python3.6/dist-packages/scipy/stats/_continuous_distns.py:2847: RuntimeWarning: The shape parameter of the erlang distribution has been given a non-integer value 0.45324722066107664.\n",
      "  RuntimeWarning)\n",
      "/usr/local/lib/python3.6/dist-packages/scipy/stats/_continuous_distns.py:2847: RuntimeWarning: The shape parameter of the erlang distribution has been given a non-integer value 0.2776018577896796.\n",
      "  RuntimeWarning)\n",
      "/usr/local/lib/python3.6/dist-packages/scipy/stats/_continuous_distns.py:2847: RuntimeWarning: The shape parameter of the erlang distribution has been given a non-integer value 0.14961438484348843.\n",
      "  RuntimeWarning)\n",
      "/usr/local/lib/python3.6/dist-packages/scipy/stats/_continuous_distns.py:2847: RuntimeWarning: The shape parameter of the erlang distribution has been given a non-integer value 0.21837391030910458.\n",
      "  RuntimeWarning)\n",
      "/usr/local/lib/python3.6/dist-packages/scipy/stats/_continuous_distns.py:2847: RuntimeWarning: The shape parameter of the erlang distribution has been given a non-integer value 0.2571797154393787.\n",
      "  RuntimeWarning)\n",
      "/usr/local/lib/python3.6/dist-packages/scipy/stats/_continuous_distns.py:2847: RuntimeWarning: The shape parameter of the erlang distribution has been given a non-integer value 0.24696864426422827.\n",
      "  RuntimeWarning)\n",
      "/usr/local/lib/python3.6/dist-packages/scipy/stats/_continuous_distns.py:2847: RuntimeWarning: The shape parameter of the erlang distribution has been given a non-integer value 0.33547081889003616.\n",
      "  RuntimeWarning)\n",
      "/usr/local/lib/python3.6/dist-packages/scipy/stats/_continuous_distns.py:2847: RuntimeWarning: The shape parameter of the erlang distribution has been given a non-integer value 0.24764813745433747.\n",
      "  RuntimeWarning)\n",
      "/usr/local/lib/python3.6/dist-packages/scipy/stats/_continuous_distns.py:2847: RuntimeWarning: The shape parameter of the erlang distribution has been given a non-integer value 0.3289001546767191.\n",
      "  RuntimeWarning)\n",
      "/usr/local/lib/python3.6/dist-packages/scipy/stats/_continuous_distns.py:2847: RuntimeWarning: The shape parameter of the erlang distribution has been given a non-integer value 0.25774453844057077.\n",
      "  RuntimeWarning)\n",
      "/usr/local/lib/python3.6/dist-packages/scipy/stats/_continuous_distns.py:2847: RuntimeWarning: The shape parameter of the erlang distribution has been given a non-integer value 0.3220089509083919.\n",
      "  RuntimeWarning)\n",
      "/usr/local/lib/python3.6/dist-packages/scipy/stats/_continuous_distns.py:2847: RuntimeWarning: The shape parameter of the erlang distribution has been given a non-integer value 0.2662383408178511.\n",
      "  RuntimeWarning)\n",
      "/usr/local/lib/python3.6/dist-packages/scipy/stats/_continuous_distns.py:2847: RuntimeWarning: The shape parameter of the erlang distribution has been given a non-integer value 0.16419523250913848.\n",
      "  RuntimeWarning)\n",
      "/usr/local/lib/python3.6/dist-packages/scipy/stats/_continuous_distns.py:2847: RuntimeWarning: The shape parameter of the erlang distribution has been given a non-integer value 0.3033781455067558.\n",
      "  RuntimeWarning)\n",
      "/usr/local/lib/python3.6/dist-packages/scipy/stats/_continuous_distns.py:2847: RuntimeWarning: The shape parameter of the erlang distribution has been given a non-integer value 0.28664554861865266.\n",
      "  RuntimeWarning)\n",
      "/usr/local/lib/python3.6/dist-packages/scipy/stats/_continuous_distns.py:2847: RuntimeWarning: The shape parameter of the erlang distribution has been given a non-integer value 0.2649697909850912.\n",
      "  RuntimeWarning)\n",
      "/usr/local/lib/python3.6/dist-packages/scipy/stats/_continuous_distns.py:2847: RuntimeWarning: The shape parameter of the erlang distribution has been given a non-integer value 0.27730604635286576.\n",
      "  RuntimeWarning)\n",
      "/usr/local/lib/python3.6/dist-packages/scipy/stats/_continuous_distns.py:2847: RuntimeWarning: The shape parameter of the erlang distribution has been given a non-integer value 0.2867987664308087.\n",
      "  RuntimeWarning)\n",
      "/usr/local/lib/python3.6/dist-packages/scipy/stats/_continuous_distns.py:2847: RuntimeWarning: The shape parameter of the erlang distribution has been given a non-integer value 0.2704270348465206.\n",
      "  RuntimeWarning)\n",
      "/usr/local/lib/python3.6/dist-packages/scipy/stats/_continuous_distns.py:2847: RuntimeWarning: The shape parameter of the erlang distribution has been given a non-integer value 0.22642300480232058.\n",
      "  RuntimeWarning)\n",
      "/usr/local/lib/python3.6/dist-packages/scipy/stats/_continuous_distns.py:2847: RuntimeWarning: The shape parameter of the erlang distribution has been given a non-integer value 0.284139360330647.\n",
      "  RuntimeWarning)\n",
      "/usr/local/lib/python3.6/dist-packages/scipy/stats/_continuous_distns.py:2847: RuntimeWarning: The shape parameter of the erlang distribution has been given a non-integer value 0.2685156657853068.\n",
      "  RuntimeWarning)\n",
      "/usr/local/lib/python3.6/dist-packages/scipy/stats/_continuous_distns.py:2847: RuntimeWarning: The shape parameter of the erlang distribution has been given a non-integer value 0.26994919258121713.\n",
      "  RuntimeWarning)\n",
      "/usr/local/lib/python3.6/dist-packages/scipy/stats/_continuous_distns.py:2847: RuntimeWarning: The shape parameter of the erlang distribution has been given a non-integer value 0.2453432284682272.\n",
      "  RuntimeWarning)\n",
      "/usr/local/lib/python3.6/dist-packages/scipy/stats/_continuous_distns.py:2847: RuntimeWarning: The shape parameter of the erlang distribution has been given a non-integer value 0.2744403273650421.\n",
      "  RuntimeWarning)\n",
      "/usr/local/lib/python3.6/dist-packages/scipy/stats/_continuous_distns.py:2847: RuntimeWarning: The shape parameter of the erlang distribution has been given a non-integer value 0.2625274860735403.\n",
      "  RuntimeWarning)\n",
      "/usr/local/lib/python3.6/dist-packages/scipy/stats/_continuous_distns.py:2847: RuntimeWarning: The shape parameter of the erlang distribution has been given a non-integer value 0.2680937659542979.\n",
      "  RuntimeWarning)\n",
      "/usr/local/lib/python3.6/dist-packages/scipy/stats/_continuous_distns.py:2847: RuntimeWarning: The shape parameter of the erlang distribution has been given a non-integer value 0.25380531034921927.\n",
      "  RuntimeWarning)\n",
      "/usr/local/lib/python3.6/dist-packages/scipy/stats/_continuous_distns.py:2847: RuntimeWarning: The shape parameter of the erlang distribution has been given a non-integer value 0.26928157311108636.\n",
      "  RuntimeWarning)\n",
      "/usr/local/lib/python3.6/dist-packages/scipy/stats/_continuous_distns.py:2847: RuntimeWarning: The shape parameter of the erlang distribution has been given a non-integer value 0.26094374319782243.\n",
      "  RuntimeWarning)\n",
      "/usr/local/lib/python3.6/dist-packages/scipy/stats/_continuous_distns.py:2847: RuntimeWarning: The shape parameter of the erlang distribution has been given a non-integer value 0.266306260265179.\n",
      "  RuntimeWarning)\n",
      "/usr/local/lib/python3.6/dist-packages/scipy/stats/_continuous_distns.py:2847: RuntimeWarning: The shape parameter of the erlang distribution has been given a non-integer value 0.2577723941437624.\n",
      "  RuntimeWarning)\n",
      "/usr/local/lib/python3.6/dist-packages/scipy/stats/_continuous_distns.py:2847: RuntimeWarning: The shape parameter of the erlang distribution has been given a non-integer value 0.2664042783692554.\n",
      "  RuntimeWarning)\n",
      "/usr/local/lib/python3.6/dist-packages/scipy/stats/_continuous_distns.py:2847: RuntimeWarning: The shape parameter of the erlang distribution has been given a non-integer value 0.2608130523923873.\n",
      "  RuntimeWarning)\n",
      "/usr/local/lib/python3.6/dist-packages/scipy/stats/_continuous_distns.py:2847: RuntimeWarning: The shape parameter of the erlang distribution has been given a non-integer value 0.25806644845599136.\n",
      "  RuntimeWarning)\n",
      "/usr/local/lib/python3.6/dist-packages/scipy/stats/_continuous_distns.py:2847: RuntimeWarning: The shape parameter of the erlang distribution has been given a non-integer value 0.2569875503037322.\n",
      "  RuntimeWarning)\n",
      "/usr/local/lib/python3.6/dist-packages/scipy/stats/_continuous_distns.py:2847: RuntimeWarning: The shape parameter of the erlang distribution has been given a non-integer value 0.2640500963528746.\n",
      "  RuntimeWarning)\n",
      "/usr/local/lib/python3.6/dist-packages/scipy/stats/_continuous_distns.py:2847: RuntimeWarning: The shape parameter of the erlang distribution has been given a non-integer value 0.23724848232012768.\n",
      "  RuntimeWarning)\n",
      "/usr/local/lib/python3.6/dist-packages/scipy/stats/_continuous_distns.py:2847: RuntimeWarning: The shape parameter of the erlang distribution has been given a non-integer value 0.2172197003037587.\n",
      "  RuntimeWarning)\n",
      "/usr/local/lib/python3.6/dist-packages/scipy/stats/_continuous_distns.py:2847: RuntimeWarning: The shape parameter of the erlang distribution has been given a non-integer value 0.23263668963162093.\n",
      "  RuntimeWarning)\n",
      "/usr/local/lib/python3.6/dist-packages/scipy/stats/_continuous_distns.py:2847: RuntimeWarning: The shape parameter of the erlang distribution has been given a non-integer value 0.25619674467256115.\n",
      "  RuntimeWarning)\n",
      "/usr/local/lib/python3.6/dist-packages/scipy/stats/_continuous_distns.py:2847: RuntimeWarning: The shape parameter of the erlang distribution has been given a non-integer value 0.24049004131193435.\n",
      "  RuntimeWarning)\n",
      "/usr/local/lib/python3.6/dist-packages/scipy/stats/_continuous_distns.py:2847: RuntimeWarning: The shape parameter of the erlang distribution has been given a non-integer value 0.25227006883240444.\n",
      "  RuntimeWarning)\n",
      "/usr/local/lib/python3.6/dist-packages/scipy/stats/_continuous_distns.py:2847: RuntimeWarning: The shape parameter of the erlang distribution has been given a non-integer value 0.24441671715209107.\n",
      "  RuntimeWarning)\n",
      "/usr/local/lib/python3.6/dist-packages/scipy/stats/_continuous_distns.py:2847: RuntimeWarning: The shape parameter of the erlang distribution has been given a non-integer value 0.2503067309123261.\n",
      "  RuntimeWarning)\n",
      "/usr/local/lib/python3.6/dist-packages/scipy/stats/_continuous_distns.py:2847: RuntimeWarning: The shape parameter of the erlang distribution has been given a non-integer value 0.2519435328189991.\n",
      "  RuntimeWarning)\n",
      "/usr/local/lib/python3.6/dist-packages/scipy/stats/_continuous_distns.py:2847: RuntimeWarning: The shape parameter of the erlang distribution has been given a non-integer value 0.248212366402921.\n",
      "  RuntimeWarning)\n",
      "/usr/local/lib/python3.6/dist-packages/scipy/stats/_continuous_distns.py:2847: RuntimeWarning: The shape parameter of the erlang distribution has been given a non-integer value 0.24720920316463124.\n",
      "  RuntimeWarning)\n",
      "/usr/local/lib/python3.6/dist-packages/scipy/stats/_continuous_distns.py:2847: RuntimeWarning: The shape parameter of the erlang distribution has been given a non-integer value 0.24953234897540238.\n",
      "  RuntimeWarning)\n",
      "/usr/local/lib/python3.6/dist-packages/scipy/stats/_continuous_distns.py:2847: RuntimeWarning: The shape parameter of the erlang distribution has been given a non-integer value 0.2501835560556906.\n",
      "  RuntimeWarning)\n",
      "/usr/local/lib/python3.6/dist-packages/scipy/stats/_continuous_distns.py:2847: RuntimeWarning: The shape parameter of the erlang distribution has been given a non-integer value 0.2487051638161134.\n",
      "  RuntimeWarning)\n",
      "/usr/local/lib/python3.6/dist-packages/scipy/stats/_continuous_distns.py:2847: RuntimeWarning: The shape parameter of the erlang distribution has been given a non-integer value 0.2483121167103498.\n",
      "  RuntimeWarning)\n",
      "/usr/local/lib/python3.6/dist-packages/scipy/stats/_continuous_distns.py:2847: RuntimeWarning: The shape parameter of the erlang distribution has been given a non-integer value 0.24922729090913925.\n",
      "  RuntimeWarning)\n",
      "/usr/local/lib/python3.6/dist-packages/scipy/stats/_continuous_distns.py:2847: RuntimeWarning: The shape parameter of the erlang distribution has been given a non-integer value 0.24948738659832276.\n",
      "  RuntimeWarning)\n",
      "/usr/local/lib/python3.6/dist-packages/scipy/stats/_continuous_distns.py:2847: RuntimeWarning: The shape parameter of the erlang distribution has been given a non-integer value 0.24890071951166576.\n",
      "  RuntimeWarning)\n",
      "/usr/local/lib/python3.6/dist-packages/scipy/stats/_continuous_distns.py:2847: RuntimeWarning: The shape parameter of the erlang distribution has been given a non-integer value 0.24874754524031456.\n",
      "  RuntimeWarning)\n",
      "/usr/local/lib/python3.6/dist-packages/scipy/stats/_continuous_distns.py:2847: RuntimeWarning: The shape parameter of the erlang distribution has been given a non-integer value 0.24910735449193308.\n",
      "  RuntimeWarning)\n",
      "/usr/local/lib/python3.6/dist-packages/scipy/stats/_continuous_distns.py:2847: RuntimeWarning: The shape parameter of the erlang distribution has been given a non-integer value 0.24921187329129957.\n",
      "  RuntimeWarning)\n",
      "/usr/local/lib/python3.6/dist-packages/scipy/stats/_continuous_distns.py:2847: RuntimeWarning: The shape parameter of the erlang distribution has been given a non-integer value 0.24897850795657422.\n",
      "  RuntimeWarning)\n",
      "/usr/local/lib/python3.6/dist-packages/scipy/stats/_continuous_distns.py:2847: RuntimeWarning: The shape parameter of the erlang distribution has been given a non-integer value 0.24891934062079304.\n",
      "  RuntimeWarning)\n",
      "/usr/local/lib/python3.6/dist-packages/scipy/stats/_continuous_distns.py:2847: RuntimeWarning: The shape parameter of the erlang distribution has been given a non-integer value 0.24882533368522303.\n",
      "  RuntimeWarning)\n",
      "/usr/local/lib/python3.6/dist-packages/scipy/stats/_continuous_distns.py:2847: RuntimeWarning: The shape parameter of the erlang distribution has been given a non-integer value 0.24900874226563113.\n",
      "  RuntimeWarning)\n",
      "/usr/local/lib/python3.6/dist-packages/scipy/stats/_continuous_distns.py:2847: RuntimeWarning: The shape parameter of the erlang distribution has been given a non-integer value 0.24898606653383845.\n",
      "  RuntimeWarning)\n",
      "/usr/local/lib/python3.6/dist-packages/scipy/stats/_continuous_distns.py:2847: RuntimeWarning: The shape parameter of the erlang distribution has been given a non-integer value 0.22928954059078555.\n",
      "  RuntimeWarning)\n",
      "/usr/local/lib/python3.6/dist-packages/scipy/stats/_continuous_distns.py:2847: RuntimeWarning: The shape parameter of the erlang distribution has been given a non-integer value 0.21352778468998468.\n",
      "  RuntimeWarning)\n",
      "/usr/local/lib/python3.6/dist-packages/scipy/stats/_continuous_distns.py:2847: RuntimeWarning: The shape parameter of the erlang distribution has been given a non-integer value 0.22798550915396573.\n",
      "  RuntimeWarning)\n",
      "/usr/local/lib/python3.6/dist-packages/scipy/stats/_continuous_distns.py:2847: RuntimeWarning: The shape parameter of the erlang distribution has been given a non-integer value 0.24373592718887027.\n",
      "  RuntimeWarning)\n",
      "/usr/local/lib/python3.6/dist-packages/scipy/stats/_continuous_distns.py:2847: RuntimeWarning: The shape parameter of the erlang distribution has been given a non-integer value 0.2332356484989339.\n",
      "  RuntimeWarning)\n",
      "/usr/local/lib/python3.6/dist-packages/scipy/stats/_continuous_distns.py:2847: RuntimeWarning: The shape parameter of the erlang distribution has been given a non-integer value 0.24111085751638617.\n",
      "  RuntimeWarning)\n",
      "/usr/local/lib/python3.6/dist-packages/scipy/stats/_continuous_distns.py:2847: RuntimeWarning: The shape parameter of the erlang distribution has been given a non-integer value 0.23586071817141802.\n",
      "  RuntimeWarning)\n",
      "/usr/local/lib/python3.6/dist-packages/scipy/stats/_continuous_distns.py:2847: RuntimeWarning: The shape parameter of the erlang distribution has been given a non-integer value 0.23979832268014412.\n",
      "  RuntimeWarning)\n",
      "/usr/local/lib/python3.6/dist-packages/scipy/stats/_continuous_distns.py:2847: RuntimeWarning: The shape parameter of the erlang distribution has been given a non-integer value 0.24142298694102077.\n",
      "  RuntimeWarning)\n",
      "/usr/local/lib/python3.6/dist-packages/scipy/stats/_continuous_distns.py:2847: RuntimeWarning: The shape parameter of the erlang distribution has been given a non-integer value 0.23829210847535096.\n",
      "  RuntimeWarning)\n",
      "/usr/local/lib/python3.6/dist-packages/scipy/stats/_continuous_distns.py:2847: RuntimeWarning: The shape parameter of the erlang distribution has been given a non-integer value 0.2378690037778089.\n",
      "  RuntimeWarning)\n",
      "/usr/local/lib/python3.6/dist-packages/scipy/stats/_continuous_distns.py:2847: RuntimeWarning: The shape parameter of the erlang distribution has been given a non-integer value 0.2393159929545603.\n",
      "  RuntimeWarning)\n",
      "/usr/local/lib/python3.6/dist-packages/scipy/stats/_continuous_distns.py:2847: RuntimeWarning: The shape parameter of the erlang distribution has been given a non-integer value 0.24005780763540827.\n",
      "  RuntimeWarning)\n",
      "/usr/local/lib/python3.6/dist-packages/scipy/stats/_continuous_distns.py:2847: RuntimeWarning: The shape parameter of the erlang distribution has been given a non-integer value 0.23873353326536528.\n",
      "  RuntimeWarning)\n",
      "/usr/local/lib/python3.6/dist-packages/scipy/stats/_continuous_distns.py:2847: RuntimeWarning: The shape parameter of the erlang distribution has been given a non-integer value 0.23864561669673562.\n",
      "  RuntimeWarning)\n",
      "/usr/local/lib/python3.6/dist-packages/scipy/stats/_continuous_distns.py:2847: RuntimeWarning: The shape parameter of the erlang distribution has been given a non-integer value 0.23914839889010414.\n",
      "  RuntimeWarning)\n",
      "/usr/local/lib/python3.6/dist-packages/scipy/stats/_continuous_distns.py:2847: RuntimeWarning: The shape parameter of the erlang distribution has been given a non-integer value 0.2395046534690899.\n",
      "  RuntimeWarning)\n",
      "/usr/local/lib/python3.6/dist-packages/scipy/stats/_continuous_distns.py:2847: RuntimeWarning: The shape parameter of the erlang distribution has been given a non-integer value 0.23892631331629643.\n",
      "  RuntimeWarning)\n",
      "/usr/local/lib/python3.6/dist-packages/scipy/stats/_continuous_distns.py:2847: RuntimeWarning: The shape parameter of the erlang distribution has been given a non-integer value 0.23894173079514586.\n",
      "  RuntimeWarning)\n",
      "/usr/local/lib/python3.6/dist-packages/scipy/stats/_continuous_distns.py:2847: RuntimeWarning: The shape parameter of the erlang distribution has been given a non-integer value 0.23909673186636457.\n",
      "  RuntimeWarning)\n",
      "/usr/local/lib/python3.6/dist-packages/scipy/stats/_continuous_distns.py:2847: RuntimeWarning: The shape parameter of the erlang distribution has been given a non-integer value 0.23927742873566565.\n",
      "  RuntimeWarning)\n",
      "/usr/local/lib/python3.6/dist-packages/scipy/stats/_continuous_distns.py:2847: RuntimeWarning: The shape parameter of the erlang distribution has been given a non-integer value 0.23901409217113873.\n",
      "  RuntimeWarning)\n",
      "/usr/local/lib/python3.6/dist-packages/scipy/stats/_continuous_distns.py:2847: RuntimeWarning: The shape parameter of the erlang distribution has been given a non-integer value 0.239051917055447.\n",
      "  RuntimeWarning)\n",
      "/usr/local/lib/python3.6/dist-packages/scipy/stats/_continuous_distns.py:2847: RuntimeWarning: The shape parameter of the erlang distribution has been given a non-integer value 0.2390295096499882.\n",
      "  RuntimeWarning)\n",
      "/usr/local/lib/python3.6/dist-packages/scipy/stats/_continuous_distns.py:2847: RuntimeWarning: The shape parameter of the erlang distribution has been given a non-integer value 0.23915977334021166.\n",
      "  RuntimeWarning)\n",
      "/usr/local/lib/python3.6/dist-packages/scipy/stats/_continuous_distns.py:2847: RuntimeWarning: The shape parameter of the erlang distribution has been given a non-integer value 0.23905051246340697.\n",
      "  RuntimeWarning)\n",
      "/usr/local/lib/python3.6/dist-packages/scipy/stats/_continuous_distns.py:2847: RuntimeWarning: The shape parameter of the erlang distribution has been given a non-integer value 0.22267530611896671.\n",
      "  RuntimeWarning)\n",
      "/usr/local/lib/python3.6/dist-packages/scipy/stats/_continuous_distns.py:2847: RuntimeWarning: The shape parameter of the erlang distribution has been given a non-integer value 0.24235833199533646.\n",
      "  RuntimeWarning)\n",
      "/usr/local/lib/python3.6/dist-packages/scipy/stats/_continuous_distns.py:2847: RuntimeWarning: The shape parameter of the erlang distribution has been given a non-integer value 0.23474934729763902.\n",
      "  RuntimeWarning)\n",
      "/usr/local/lib/python3.6/dist-packages/scipy/stats/_continuous_distns.py:2847: RuntimeWarning: The shape parameter of the erlang distribution has been given a non-integer value 0.23797522117196498.\n",
      "  RuntimeWarning)\n",
      "/usr/local/lib/python3.6/dist-packages/scipy/stats/_continuous_distns.py:2847: RuntimeWarning: The shape parameter of the erlang distribution has been given a non-integer value 0.22851945388346195.\n",
      "  RuntimeWarning)\n",
      "/usr/local/lib/python3.6/dist-packages/scipy/stats/_continuous_distns.py:2847: RuntimeWarning: The shape parameter of the erlang distribution has been given a non-integer value 0.23889861246736782.\n",
      "  RuntimeWarning)\n",
      "/usr/local/lib/python3.6/dist-packages/scipy/stats/_continuous_distns.py:2847: RuntimeWarning: The shape parameter of the erlang distribution has been given a non-integer value 0.23351815890376856.\n",
      "  RuntimeWarning)\n",
      "/usr/local/lib/python3.6/dist-packages/scipy/stats/_continuous_distns.py:2847: RuntimeWarning: The shape parameter of the erlang distribution has been given a non-integer value 0.23686095560491588.\n",
      "  RuntimeWarning)\n",
      "/usr/local/lib/python3.6/dist-packages/scipy/stats/_continuous_distns.py:2847: RuntimeWarning: The shape parameter of the erlang distribution has been given a non-integer value 0.23123632970006452.\n",
      "  RuntimeWarning)\n",
      "/usr/local/lib/python3.6/dist-packages/scipy/stats/_continuous_distns.py:2847: RuntimeWarning: The shape parameter of the erlang distribution has been given a non-integer value 0.236983041775542.\n",
      "  RuntimeWarning)\n",
      "/usr/local/lib/python3.6/dist-packages/scipy/stats/_continuous_distns.py:2847: RuntimeWarning: The shape parameter of the erlang distribution has been given a non-integer value 0.23335537734293382.\n",
      "  RuntimeWarning)\n",
      "/usr/local/lib/python3.6/dist-packages/scipy/stats/_continuous_distns.py:2847: RuntimeWarning: The shape parameter of the erlang distribution has been given a non-integer value 0.23598456103942037.\n",
      "  RuntimeWarning)\n",
      "/usr/local/lib/python3.6/dist-packages/scipy/stats/_continuous_distns.py:2847: RuntimeWarning: The shape parameter of the erlang distribution has been given a non-integer value 0.23256763734822664.\n",
      "  RuntimeWarning)\n",
      "/usr/local/lib/python3.6/dist-packages/scipy/stats/_continuous_distns.py:2847: RuntimeWarning: The shape parameter of the erlang distribution has been given a non-integer value 0.23035993513456893.\n",
      "  RuntimeWarning)\n",
      "/usr/local/lib/python3.6/dist-packages/scipy/stats/_continuous_distns.py:2847: RuntimeWarning: The shape parameter of the erlang distribution has been given a non-integer value 0.23128816895688578.\n",
      "  RuntimeWarning)\n",
      "/usr/local/lib/python3.6/dist-packages/scipy/stats/_continuous_distns.py:2847: RuntimeWarning: The shape parameter of the erlang distribution has been given a non-integer value 0.23481046301878672.\n",
      "  RuntimeWarning)\n",
      "/usr/local/lib/python3.6/dist-packages/scipy/stats/_continuous_distns.py:2847: RuntimeWarning: The shape parameter of the erlang distribution has been given a non-integer value 0.23246226697751943.\n",
      "  RuntimeWarning)\n",
      "/usr/local/lib/python3.6/dist-packages/scipy/stats/_continuous_distns.py:2847: RuntimeWarning: The shape parameter of the erlang distribution has been given a non-integer value 0.2342234140084699.\n",
      "  RuntimeWarning)\n",
      "/usr/local/lib/python3.6/dist-packages/scipy/stats/_continuous_distns.py:2847: RuntimeWarning: The shape parameter of the erlang distribution has been given a non-integer value 0.2412724383506435.\n",
      "  RuntimeWarning)\n",
      "/usr/local/lib/python3.6/dist-packages/scipy/stats/_continuous_distns.py:2847: RuntimeWarning: The shape parameter of the erlang distribution has been given a non-integer value 0.24726388723057247.\n",
      "  RuntimeWarning)\n",
      "/usr/local/lib/python3.6/dist-packages/scipy/stats/_continuous_distns.py:2847: RuntimeWarning: The shape parameter of the erlang distribution has been given a non-integer value 0.2410379144944082.\n",
      "  RuntimeWarning)\n",
      "/usr/local/lib/python3.6/dist-packages/scipy/stats/_continuous_distns.py:2847: RuntimeWarning: The shape parameter of the erlang distribution has been given a non-integer value 0.2359270391299545.\n",
      "  RuntimeWarning)\n",
      "/usr/local/lib/python3.6/dist-packages/scipy/stats/_continuous_distns.py:2847: RuntimeWarning: The shape parameter of the erlang distribution has been given a non-integer value 0.23933428937292361.\n",
      "  RuntimeWarning)\n",
      "/usr/local/lib/python3.6/dist-packages/scipy/stats/_continuous_distns.py:2847: RuntimeWarning: The shape parameter of the erlang distribution has been given a non-integer value 0.2367788516906968.\n",
      "  RuntimeWarning)\n",
      "/usr/local/lib/python3.6/dist-packages/scipy/stats/_continuous_distns.py:2847: RuntimeWarning: The shape parameter of the erlang distribution has been given a non-integer value 0.2346940345375976.\n",
      "  RuntimeWarning)\n",
      "/usr/local/lib/python3.6/dist-packages/scipy/stats/_continuous_distns.py:2847: RuntimeWarning: The shape parameter of the erlang distribution has been given a non-integer value 0.23796244642598466.\n",
      "  RuntimeWarning)\n",
      "/usr/local/lib/python3.6/dist-packages/scipy/stats/_continuous_distns.py:2847: RuntimeWarning: The shape parameter of the erlang distribution has been given a non-integer value 0.23775616305920638.\n",
      "  RuntimeWarning)\n",
      "/usr/local/lib/python3.6/dist-packages/scipy/stats/_continuous_distns.py:2847: RuntimeWarning: The shape parameter of the erlang distribution has been given a non-integer value 0.2370231795328242.\n",
      "  RuntimeWarning)\n",
      "/usr/local/lib/python3.6/dist-packages/scipy/stats/_continuous_distns.py:2847: RuntimeWarning: The shape parameter of the erlang distribution has been given a non-integer value 0.23594639039514484.\n",
      "  RuntimeWarning)\n",
      "/usr/local/lib/python3.6/dist-packages/scipy/stats/_continuous_distns.py:2847: RuntimeWarning: The shape parameter of the erlang distribution has been given a non-integer value 0.2374584324182747.\n",
      "  RuntimeWarning)\n",
      "/usr/local/lib/python3.6/dist-packages/scipy/stats/_continuous_distns.py:2847: RuntimeWarning: The shape parameter of the erlang distribution has been given a non-integer value 0.23717582587860564.\n",
      "  RuntimeWarning)\n",
      "/usr/local/lib/python3.6/dist-packages/scipy/stats/_continuous_distns.py:2847: RuntimeWarning: The shape parameter of the erlang distribution has been given a non-integer value 0.23725214905149639.\n",
      "  RuntimeWarning)\n",
      "/usr/local/lib/python3.6/dist-packages/scipy/stats/_continuous_distns.py:2847: RuntimeWarning: The shape parameter of the erlang distribution has been given a non-integer value 0.2365521686333758.\n",
      "  RuntimeWarning)\n",
      "/usr/local/lib/python3.6/dist-packages/scipy/stats/_continuous_distns.py:2847: RuntimeWarning: The shape parameter of the erlang distribution has been given a non-integer value 0.23723186647204997.\n",
      "  RuntimeWarning)\n",
      "/usr/local/lib/python3.6/dist-packages/scipy/stats/_continuous_distns.py:2847: RuntimeWarning: The shape parameter of the erlang distribution has been given a non-integer value 0.23677873457960052.\n",
      "  RuntimeWarning)\n",
      "/usr/local/lib/python3.6/dist-packages/scipy/stats/_continuous_distns.py:2847: RuntimeWarning: The shape parameter of the erlang distribution has been given a non-integer value 0.2371185834989376.\n",
      "  RuntimeWarning)\n",
      "/usr/local/lib/python3.6/dist-packages/scipy/stats/_continuous_distns.py:2847: RuntimeWarning: The shape parameter of the erlang distribution has been given a non-integer value 0.24447692780389782.\n",
      "  RuntimeWarning)\n",
      "/usr/local/lib/python3.6/dist-packages/scipy/stats/_continuous_distns.py:2847: RuntimeWarning: The shape parameter of the erlang distribution has been given a non-integer value 0.2504315730317334.\n",
      "  RuntimeWarning)\n",
      "/usr/local/lib/python3.6/dist-packages/scipy/stats/_continuous_distns.py:2847: RuntimeWarning: The shape parameter of the erlang distribution has been given a non-integer value 0.24483154452316036.\n",
      "  RuntimeWarning)\n",
      "/usr/local/lib/python3.6/dist-packages/scipy/stats/_continuous_distns.py:2847: RuntimeWarning: The shape parameter of the erlang distribution has been given a non-integer value 0.2390468237549933.\n",
      "  RuntimeWarning)\n",
      "/usr/local/lib/python3.6/dist-packages/scipy/stats/_continuous_distns.py:2847: RuntimeWarning: The shape parameter of the erlang distribution has been given a non-integer value 0.24290330426710466.\n",
      "  RuntimeWarning)\n",
      "/usr/local/lib/python3.6/dist-packages/scipy/stats/_continuous_distns.py:2847: RuntimeWarning: The shape parameter of the erlang distribution has been given a non-integer value 0.24001094388302113.\n",
      "  RuntimeWarning)\n",
      "/usr/local/lib/python3.6/dist-packages/scipy/stats/_continuous_distns.py:2847: RuntimeWarning: The shape parameter of the erlang distribution has been given a non-integer value 0.23983669335970625.\n",
      "  RuntimeWarning)\n",
      "/usr/local/lib/python3.6/dist-packages/scipy/stats/_continuous_distns.py:2847: RuntimeWarning: The shape parameter of the erlang distribution has been given a non-integer value 0.24091350210290918.\n",
      "  RuntimeWarning)\n",
      "/usr/local/lib/python3.6/dist-packages/scipy/stats/_continuous_distns.py:2847: RuntimeWarning: The shape parameter of the erlang distribution has been given a non-integer value 0.241699893307254.\n",
      "  RuntimeWarning)\n",
      "/usr/local/lib/python3.6/dist-packages/scipy/stats/_continuous_distns.py:2847: RuntimeWarning: The shape parameter of the erlang distribution has been given a non-integer value 0.24043318123907936.\n",
      "  RuntimeWarning)\n",
      "/usr/local/lib/python3.6/dist-packages/scipy/stats/_continuous_distns.py:2847: RuntimeWarning: The shape parameter of the erlang distribution has been given a non-integer value 0.24047712117814607.\n",
      "  RuntimeWarning)\n",
      "/usr/local/lib/python3.6/dist-packages/scipy/stats/_continuous_distns.py:2847: RuntimeWarning: The shape parameter of the erlang distribution has been given a non-integer value 0.2408044068717184.\n",
      "  RuntimeWarning)\n",
      "/usr/local/lib/python3.6/dist-packages/scipy/stats/_continuous_distns.py:2847: RuntimeWarning: The shape parameter of the erlang distribution has been given a non-integer value 0.24120492579706854.\n",
      "  RuntimeWarning)\n",
      "/usr/local/lib/python3.6/dist-packages/scipy/stats/_continuous_distns.py:2847: RuntimeWarning: The shape parameter of the erlang distribution has been given a non-integer value 0.2415907980760631.\n",
      "  RuntimeWarning)\n",
      "/usr/local/lib/python3.6/dist-packages/scipy/stats/_continuous_distns.py:2847: RuntimeWarning: The shape parameter of the erlang distribution has been given a non-integer value 0.2411007127813296.\n",
      "  RuntimeWarning)\n",
      "/usr/local/lib/python3.6/dist-packages/scipy/stats/_continuous_distns.py:2847: RuntimeWarning: The shape parameter of the erlang distribution has been given a non-integer value 0.2408784833491212.\n",
      "  RuntimeWarning)\n",
      "/usr/local/lib/python3.6/dist-packages/scipy/stats/_continuous_distns.py:2847: RuntimeWarning: The shape parameter of the erlang distribution has been given a non-integer value 0.2410266363039268.\n",
      "  RuntimeWarning)\n",
      "/usr/local/lib/python3.6/dist-packages/scipy/stats/_continuous_distns.py:2847: RuntimeWarning: The shape parameter of the erlang distribution has been given a non-integer value 0.2409155215878226.\n",
      "  RuntimeWarning)\n",
      "/usr/local/lib/python3.6/dist-packages/scipy/stats/_continuous_distns.py:2847: RuntimeWarning: The shape parameter of the erlang distribution has been given a non-integer value 0.24722242424725366.\n",
      "  RuntimeWarning)\n",
      "/usr/local/lib/python3.6/dist-packages/scipy/stats/_continuous_distns.py:2847: RuntimeWarning: The shape parameter of the erlang distribution has been given a non-integer value 0.2522457234315777.\n",
      "  RuntimeWarning)\n",
      "/usr/local/lib/python3.6/dist-packages/scipy/stats/_continuous_distns.py:2847: RuntimeWarning: The shape parameter of the erlang distribution has been given a non-integer value 0.24768733031099072.\n",
      "  RuntimeWarning)\n",
      "/usr/local/lib/python3.6/dist-packages/scipy/stats/_continuous_distns.py:2847: RuntimeWarning: The shape parameter of the erlang distribution has been given a non-integer value 0.2426084737686146.\n",
      "  RuntimeWarning)\n",
      "/usr/local/lib/python3.6/dist-packages/scipy/stats/_continuous_distns.py:2847: RuntimeWarning: The shape parameter of the erlang distribution has been given a non-integer value 0.2459943781301987.\n",
      "  RuntimeWarning)\n",
      "/usr/local/lib/python3.6/dist-packages/scipy/stats/_continuous_distns.py:2847: RuntimeWarning: The shape parameter of the erlang distribution has been given a non-integer value 0.24345494985901062.\n",
      "  RuntimeWarning)\n",
      "/usr/local/lib/python3.6/dist-packages/scipy/stats/_continuous_distns.py:2847: RuntimeWarning: The shape parameter of the erlang distribution has been given a non-integer value 0.24344460546499067.\n",
      "  RuntimeWarning)\n",
      "/usr/local/lib/python3.6/dist-packages/scipy/stats/_continuous_distns.py:2847: RuntimeWarning: The shape parameter of the erlang distribution has been given a non-integer value 0.24421884721917103.\n",
      "  RuntimeWarning)\n",
      "/usr/local/lib/python3.6/dist-packages/scipy/stats/_continuous_distns.py:2847: RuntimeWarning: The shape parameter of the erlang distribution has been given a non-integer value 0.24497584831665153.\n",
      "  RuntimeWarning)\n",
      "/usr/local/lib/python3.6/dist-packages/scipy/stats/_continuous_distns.py:2847: RuntimeWarning: The shape parameter of the erlang distribution has been given a non-integer value 0.24383517447342085.\n",
      "  RuntimeWarning)\n",
      "/usr/local/lib/python3.6/dist-packages/scipy/stats/_continuous_distns.py:2847: RuntimeWarning: The shape parameter of the erlang distribution has been given a non-integer value 0.24395616912599094.\n",
      "  RuntimeWarning)\n",
      "/usr/local/lib/python3.6/dist-packages/scipy/stats/_continuous_distns.py:2847: RuntimeWarning: The shape parameter of the erlang distribution has been given a non-integer value 0.24415317769587602.\n",
      "  RuntimeWarning)\n",
      "/usr/local/lib/python3.6/dist-packages/scipy/stats/_continuous_distns.py:2847: RuntimeWarning: The shape parameter of the erlang distribution has been given a non-integer value 0.24455184402004465.\n",
      "  RuntimeWarning)\n",
      "/usr/local/lib/python3.6/dist-packages/scipy/stats/_continuous_distns.py:2847: RuntimeWarning: The shape parameter of the erlang distribution has been given a non-integer value 0.24491017879335653.\n",
      "  RuntimeWarning)\n",
      "/usr/local/lib/python3.6/dist-packages/scipy/stats/_continuous_distns.py:2847: RuntimeWarning: The shape parameter of the erlang distribution has been given a non-integer value 0.2444996183470352.\n",
      "  RuntimeWarning)\n",
      "/usr/local/lib/python3.6/dist-packages/scipy/stats/_continuous_distns.py:2847: RuntimeWarning: The shape parameter of the erlang distribution has been given a non-integer value 0.24423978785866582.\n",
      "  RuntimeWarning)\n",
      "/usr/local/lib/python3.6/dist-packages/scipy/stats/_continuous_distns.py:2847: RuntimeWarning: The shape parameter of the erlang distribution has been given a non-integer value 0.2444130081842454.\n",
      "  RuntimeWarning)\n",
      "/usr/local/lib/python3.6/dist-packages/scipy/stats/_continuous_distns.py:2847: RuntimeWarning: The shape parameter of the erlang distribution has been given a non-integer value 0.24428309294006073.\n",
      "  RuntimeWarning)\n",
      "/usr/local/lib/python3.6/dist-packages/scipy/stats/_continuous_distns.py:2847: RuntimeWarning: The shape parameter of the erlang distribution has been given a non-integer value 0.2443697031028505.\n",
      "  RuntimeWarning)\n",
      "/usr/local/lib/python3.6/dist-packages/scipy/stats/_continuous_distns.py:2847: RuntimeWarning: The shape parameter of the erlang distribution has been given a non-integer value 0.24955772178303065.\n",
      "  RuntimeWarning)\n",
      "/usr/local/lib/python3.6/dist-packages/scipy/stats/_continuous_distns.py:2847: RuntimeWarning: The shape parameter of the erlang distribution has been given a non-integer value 0.24329312479355908.\n",
      "  RuntimeWarning)\n",
      "/usr/local/lib/python3.6/dist-packages/scipy/stats/_continuous_distns.py:2847: RuntimeWarning: The shape parameter of the erlang distribution has been given a non-integer value 0.24092069036371577.\n",
      "  RuntimeWarning)\n",
      "/usr/local/lib/python3.6/dist-packages/scipy/stats/_continuous_distns.py:2847: RuntimeWarning: The shape parameter of the erlang distribution has been given a non-integer value 0.2456469907763692.\n",
      "  RuntimeWarning)\n",
      "/usr/local/lib/python3.6/dist-packages/scipy/stats/_continuous_distns.py:2847: RuntimeWarning: The shape parameter of the erlang distribution has been given a non-integer value 0.2464192338059505.\n",
      "  RuntimeWarning)\n",
      "/usr/local/lib/python3.6/dist-packages/scipy/stats/_continuous_distns.py:2847: RuntimeWarning: The shape parameter of the erlang distribution has been given a non-integer value 0.2479822883121462.\n",
      "  RuntimeWarning)\n",
      "/usr/local/lib/python3.6/dist-packages/scipy/stats/_continuous_distns.py:2847: RuntimeWarning: The shape parameter of the erlang distribution has been given a non-integer value 0.24458019650952795.\n",
      "  RuntimeWarning)\n",
      "/usr/local/lib/python3.6/dist-packages/scipy/stats/_continuous_distns.py:2847: RuntimeWarning: The shape parameter of the erlang distribution has been given a non-integer value 0.2453802922096589.\n",
      "  RuntimeWarning)\n",
      "/usr/local/lib/python3.6/dist-packages/scipy/stats/_continuous_distns.py:2847: RuntimeWarning: The shape parameter of the erlang distribution has been given a non-integer value 0.24484689507623825.\n",
      "  RuntimeWarning)\n",
      "/usr/local/lib/python3.6/dist-packages/scipy/stats/_continuous_distns.py:2847: RuntimeWarning: The shape parameter of the erlang distribution has been given a non-integer value 0.24524694292630372.\n",
      "  RuntimeWarning)\n",
      "/usr/local/lib/python3.6/dist-packages/scipy/stats/_continuous_distns.py:2847: RuntimeWarning: The shape parameter of the erlang distribution has been given a non-integer value 0.24498024435959342.\n",
      "  RuntimeWarning)\n",
      "/usr/local/lib/python3.6/dist-packages/scipy/stats/_continuous_distns.py:2847: RuntimeWarning: The shape parameter of the erlang distribution has been given a non-integer value 0.24626451168754188.\n",
      "  RuntimeWarning)\n",
      "/usr/local/lib/python3.6/dist-packages/scipy/stats/_continuous_distns.py:2847: RuntimeWarning: The shape parameter of the erlang distribution has been given a non-integer value 0.24484340524902334.\n",
      "  RuntimeWarning)\n",
      "/usr/local/lib/python3.6/dist-packages/scipy/stats/_continuous_distns.py:2847: RuntimeWarning: The shape parameter of the erlang distribution has been given a non-integer value 0.24627674492300017.\n",
      "  RuntimeWarning)\n",
      "/usr/local/lib/python3.6/dist-packages/scipy/stats/_continuous_distns.py:2847: RuntimeWarning: The shape parameter of the erlang distribution has been given a non-integer value 0.24498306924578353.\n",
      "  RuntimeWarning)\n",
      "/usr/local/lib/python3.6/dist-packages/scipy/stats/_continuous_distns.py:2847: RuntimeWarning: The shape parameter of the erlang distribution has been given a non-integer value 0.246078293025195.\n",
      "  RuntimeWarning)\n",
      "/usr/local/lib/python3.6/dist-packages/scipy/stats/_continuous_distns.py:2847: RuntimeWarning: The shape parameter of the erlang distribution has been given a non-integer value 0.24515212719306625.\n",
      "  RuntimeWarning)\n",
      "/usr/local/lib/python3.6/dist-packages/scipy/stats/_continuous_distns.py:2847: RuntimeWarning: The shape parameter of the erlang distribution has been given a non-integer value 0.24605133432662327.\n",
      "  RuntimeWarning)\n",
      "/usr/local/lib/python3.6/dist-packages/scipy/stats/_continuous_distns.py:2847: RuntimeWarning: The shape parameter of the erlang distribution has been given a non-integer value 0.24658546686704313.\n",
      "  RuntimeWarning)\n",
      "/usr/local/lib/python3.6/dist-packages/scipy/stats/_continuous_distns.py:2847: RuntimeWarning: The shape parameter of the erlang distribution has been given a non-integer value 0.24648174780171186.\n",
      "  RuntimeWarning)\n",
      "/usr/local/lib/python3.6/dist-packages/scipy/stats/_continuous_distns.py:2847: RuntimeWarning: The shape parameter of the erlang distribution has been given a non-integer value 0.24548453234522766.\n",
      "  RuntimeWarning)\n",
      "/usr/local/lib/python3.6/dist-packages/scipy/stats/_continuous_distns.py:2847: RuntimeWarning: The shape parameter of the erlang distribution has been given a non-integer value 0.24614934264955046.\n",
      "  RuntimeWarning)\n",
      "/usr/local/lib/python3.6/dist-packages/scipy/stats/_continuous_distns.py:2847: RuntimeWarning: The shape parameter of the erlang distribution has been given a non-integer value 0.24648174780171184.\n",
      "  RuntimeWarning)\n",
      "/usr/local/lib/python3.6/dist-packages/scipy/stats/_continuous_distns.py:2847: RuntimeWarning: The shape parameter of the erlang distribution has been given a non-integer value 0.2474330294951561.\n",
      "  RuntimeWarning)\n",
      "/usr/local/lib/python3.6/dist-packages/scipy/stats/_continuous_distns.py:2847: RuntimeWarning: The shape parameter of the erlang distribution has been given a non-integer value 0.2455934406434841.\n",
      "  RuntimeWarning)\n",
      "/usr/local/lib/python3.6/dist-packages/scipy/stats/_continuous_distns.py:2847: RuntimeWarning: The shape parameter of the erlang distribution has been given a non-integer value 0.2454435112738214.\n",
      "  RuntimeWarning)\n",
      "/usr/local/lib/python3.6/dist-packages/scipy/stats/_continuous_distns.py:2847: RuntimeWarning: The shape parameter of the erlang distribution has been given a non-integer value 0.24617530317291822.\n",
      "  RuntimeWarning)\n",
      "/usr/local/lib/python3.6/dist-packages/scipy/stats/_continuous_distns.py:2847: RuntimeWarning: The shape parameter of the erlang distribution has been given a non-integer value 0.2466572127892439.\n",
      "  RuntimeWarning)\n",
      "/usr/local/lib/python3.6/dist-packages/scipy/stats/_continuous_distns.py:2847: RuntimeWarning: The shape parameter of the erlang distribution has been given a non-integer value 0.24585938367992405.\n",
      "  RuntimeWarning)\n",
      "/usr/local/lib/python3.6/dist-packages/scipy/stats/_continuous_distns.py:2847: RuntimeWarning: The shape parameter of the erlang distribution has been given a non-integer value 0.24586473726448035.\n",
      "  RuntimeWarning)\n",
      "/usr/local/lib/python3.6/dist-packages/scipy/stats/_continuous_distns.py:2847: RuntimeWarning: The shape parameter of the erlang distribution has been given a non-integer value 0.24570945431026142.\n",
      "  RuntimeWarning)\n",
      "/usr/local/lib/python3.6/dist-packages/scipy/stats/_continuous_distns.py:2847: RuntimeWarning: The shape parameter of the erlang distribution has been given a non-integer value 0.24618422581384536.\n",
      "  RuntimeWarning)\n",
      "/usr/local/lib/python3.6/dist-packages/scipy/stats/_continuous_distns.py:2847: RuntimeWarning: The shape parameter of the erlang distribution has been given a non-integer value 0.24594059421340436.\n",
      "  RuntimeWarning)\n",
      "/usr/local/lib/python3.6/dist-packages/scipy/stats/_continuous_distns.py:2847: RuntimeWarning: The shape parameter of the erlang distribution has been given a non-integer value 0.24610301528036505.\n",
      "  RuntimeWarning)\n",
      "/usr/local/lib/python3.6/dist-packages/scipy/stats/_continuous_distns.py:2847: RuntimeWarning: The shape parameter of the erlang distribution has been given a non-integer value 0.24598119948014452.\n",
      "  RuntimeWarning)\n",
      "/usr/local/lib/python3.6/dist-packages/scipy/stats/_continuous_distns.py:2847: RuntimeWarning: The shape parameter of the erlang distribution has been given a non-integer value 0.24594551860282696.\n",
      "  RuntimeWarning)\n",
      "/usr/local/lib/python3.6/dist-packages/scipy/stats/_continuous_distns.py:2847: RuntimeWarning: The shape parameter of the erlang distribution has been given a non-integer value 0.2460248803956742.\n",
      "  RuntimeWarning)\n",
      "/usr/local/lib/python3.6/dist-packages/scipy/stats/_continuous_distns.py:2847: RuntimeWarning: The shape parameter of the erlang distribution has been given a non-integer value 0.2460447740596588.\n",
      "  RuntimeWarning)\n",
      "/usr/local/lib/python3.6/dist-packages/scipy/stats/_continuous_distns.py:2847: RuntimeWarning: The shape parameter of the erlang distribution has been given a non-integer value 0.2459970931250231.\n",
      "  RuntimeWarning)\n",
      "/usr/local/lib/python3.6/dist-packages/scipy/stats/_continuous_distns.py:2847: RuntimeWarning: The shape parameter of the erlang distribution has been given a non-integer value 0.24598256829702844.\n",
      "  RuntimeWarning)\n",
      "/usr/local/lib/python3.6/dist-packages/scipy/stats/_continuous_distns.py:2847: RuntimeWarning: The shape parameter of the erlang distribution has been given a non-integer value 0.24601430237101274.\n",
      "  RuntimeWarning)\n",
      "/usr/local/lib/python3.6/dist-packages/scipy/stats/_continuous_distns.py:2847: RuntimeWarning: The shape parameter of the erlang distribution has been given a non-integer value 0.24602182839833925.\n",
      "  RuntimeWarning)\n",
      "/usr/local/lib/python3.6/dist-packages/scipy/stats/_continuous_distns.py:2847: RuntimeWarning: The shape parameter of the erlang distribution has been given a non-integer value 0.24600327694335214.\n",
      "  RuntimeWarning)\n",
      "/usr/local/lib/python3.6/dist-packages/scipy/stats/_continuous_distns.py:2847: RuntimeWarning: The shape parameter of the erlang distribution has been given a non-integer value 0.24599726886724255.\n",
      "  RuntimeWarning)\n",
      "/usr/local/lib/python3.6/dist-packages/scipy/stats/_continuous_distns.py:2847: RuntimeWarning: The shape parameter of the erlang distribution has been given a non-integer value 0.2460100439950702.\n",
      "  RuntimeWarning)\n",
      "/usr/local/lib/python3.6/dist-packages/scipy/stats/_continuous_distns.py:2847: RuntimeWarning: The shape parameter of the erlang distribution has been given a non-integer value 0.2460128056627152.\n",
      "  RuntimeWarning)\n",
      "/usr/local/lib/python3.6/dist-packages/scipy/stats/_continuous_distns.py:2847: RuntimeWarning: The shape parameter of the erlang distribution has been given a non-integer value 0.2460056591231929.\n",
      "  RuntimeWarning)\n",
      "/usr/local/lib/python3.6/dist-packages/scipy/stats/_continuous_distns.py:2847: RuntimeWarning: The shape parameter of the erlang distribution has been given a non-integer value 0.2460031153630789.\n",
      "  RuntimeWarning)\n",
      "/usr/local/lib/python3.6/dist-packages/scipy/stats/_continuous_distns.py:2847: RuntimeWarning: The shape parameter of the erlang distribution has been given a non-integer value 0.2460083118370724.\n",
      "  RuntimeWarning)\n",
      "/usr/local/lib/python3.6/dist-packages/scipy/stats/_continuous_distns.py:2847: RuntimeWarning: The shape parameter of the erlang distribution has been given a non-integer value 0.24600926871087592.\n",
      "  RuntimeWarning)\n",
      "/usr/local/lib/python3.6/dist-packages/scipy/stats/_continuous_distns.py:2847: RuntimeWarning: The shape parameter of the erlang distribution has been given a non-integer value 0.24600656152011363.\n",
      "  RuntimeWarning)\n",
      "/usr/local/lib/python3.6/dist-packages/scipy/stats/_continuous_distns.py:2847: RuntimeWarning: The shape parameter of the erlang distribution has been given a non-integer value 0.24600544911902383.\n",
      "  RuntimeWarning)\n",
      "/usr/local/lib/python3.6/dist-packages/scipy/stats/_continuous_distns.py:2847: RuntimeWarning: The shape parameter of the erlang distribution has been given a non-integer value 0.24600759615756024.\n",
      "  RuntimeWarning)\n",
      "/usr/local/lib/python3.6/dist-packages/scipy/stats/_continuous_distns.py:2847: RuntimeWarning: The shape parameter of the erlang distribution has been given a non-integer value 0.24600788919428035.\n",
      "  RuntimeWarning)\n",
      "/usr/local/lib/python3.6/dist-packages/scipy/stats/_continuous_distns.py:2847: RuntimeWarning: The shape parameter of the erlang distribution has been given a non-integer value 0.2460068934386553.\n",
      "  RuntimeWarning)\n",
      "/usr/local/lib/python3.6/dist-packages/scipy/stats/_continuous_distns.py:2847: RuntimeWarning: The shape parameter of the erlang distribution has been given a non-integer value 0.24600638607756387.\n",
      "  RuntimeWarning)\n",
      "/usr/local/lib/python3.6/dist-packages/scipy/stats/_continuous_distns.py:2847: RuntimeWarning: The shape parameter of the erlang distribution has been given a non-integer value 0.24600729363756113.\n",
      "  RuntimeWarning)\n",
      "/usr/local/lib/python3.6/dist-packages/scipy/stats/_continuous_distns.py:2847: RuntimeWarning: The shape parameter of the erlang distribution has been given a non-integer value 0.2460073555957393.\n",
      "  RuntimeWarning)\n",
      "/usr/local/lib/python3.6/dist-packages/scipy/stats/_continuous_distns.py:2847: RuntimeWarning: The shape parameter of the erlang distribution has been given a non-integer value 0.2460075866742813.\n",
      "  RuntimeWarning)\n",
      "/usr/local/lib/python3.6/dist-packages/scipy/stats/_continuous_distns.py:2847: RuntimeWarning: The shape parameter of the erlang distribution has been given a non-integer value 0.2460069967022856.\n",
      "  RuntimeWarning)\n",
      "/usr/local/lib/python3.6/dist-packages/scipy/stats/_continuous_distns.py:2847: RuntimeWarning: The shape parameter of the erlang distribution has been given a non-integer value 0.24600721940374226.\n",
      "  RuntimeWarning)\n",
      "/usr/local/lib/python3.6/dist-packages/scipy/stats/_continuous_distns.py:2847: RuntimeWarning: The shape parameter of the erlang distribution has been given a non-integer value 0.24600707093610447.\n",
      "  RuntimeWarning)\n",
      "/usr/local/lib/python3.6/dist-packages/scipy/stats/_continuous_distns.py:2847: RuntimeWarning: The shape parameter of the erlang distribution has been given a non-integer value 0.24600718228683283.\n",
      "  RuntimeWarning)\n",
      "/usr/local/lib/python3.6/dist-packages/scipy/stats/_continuous_distns.py:2847: RuntimeWarning: The shape parameter of the erlang distribution has been given a non-integer value 0.24577017411515117.\n",
      "  RuntimeWarning)\n",
      "/usr/local/lib/python3.6/dist-packages/scipy/stats/_continuous_distns.py:2847: RuntimeWarning: The shape parameter of the erlang distribution has been given a non-integer value 0.24605455051595065.\n",
      "  RuntimeWarning)\n",
      "/usr/local/lib/python3.6/dist-packages/scipy/stats/_continuous_distns.py:2847: RuntimeWarning: The shape parameter of the erlang distribution has been given a non-integer value 0.24594391329728071.\n",
      "  RuntimeWarning)\n",
      "/usr/local/lib/python3.6/dist-packages/scipy/stats/_continuous_distns.py:2847: RuntimeWarning: The shape parameter of the erlang distribution has been given a non-integer value 0.24591227880250466.\n",
      "  RuntimeWarning)\n",
      "/usr/local/lib/python3.6/dist-packages/scipy/stats/_continuous_distns.py:2847: RuntimeWarning: The shape parameter of the erlang distribution has been given a non-integer value 0.2458227869223829.\n",
      "  RuntimeWarning)\n",
      "/usr/local/lib/python3.6/dist-packages/scipy/stats/_continuous_distns.py:2847: RuntimeWarning: The shape parameter of the erlang distribution has been given a non-integer value 0.2459966096175587.\n",
      "  RuntimeWarning)\n",
      "/usr/local/lib/python3.6/dist-packages/scipy/stats/_continuous_distns.py:2847: RuntimeWarning: The shape parameter of the erlang distribution has been given a non-integer value 0.24588072782077486.\n",
      "  RuntimeWarning)\n",
      "/usr/local/lib/python3.6/dist-packages/scipy/stats/_continuous_distns.py:2847: RuntimeWarning: The shape parameter of the erlang distribution has been given a non-integer value 0.24596763916836273.\n",
      "  RuntimeWarning)\n",
      "/usr/local/lib/python3.6/dist-packages/scipy/stats/_continuous_distns.py:2847: RuntimeWarning: The shape parameter of the erlang distribution has been given a non-integer value 0.2460812014431081.\n",
      "  RuntimeWarning)\n",
      "/usr/local/lib/python3.6/dist-packages/scipy/stats/_continuous_distns.py:2847: RuntimeWarning: The shape parameter of the erlang distribution has been given a non-integer value 0.2459188533091373.\n",
      "  RuntimeWarning)\n",
      "/usr/local/lib/python3.6/dist-packages/scipy/stats/_continuous_distns.py:2847: RuntimeWarning: The shape parameter of the erlang distribution has been given a non-integer value 0.24594577563307546.\n",
      "  RuntimeWarning)\n",
      "/usr/local/lib/python3.6/dist-packages/scipy/stats/_continuous_distns.py:2847: RuntimeWarning: The shape parameter of the erlang distribution has been given a non-integer value 0.2459621732845409.\n",
      "  RuntimeWarning)\n",
      "/usr/local/lib/python3.6/dist-packages/scipy/stats/_continuous_distns.py:2847: RuntimeWarning: The shape parameter of the erlang distribution has been given a non-integer value 0.24602344147590324.\n",
      "  RuntimeWarning)\n",
      "/usr/local/lib/python3.6/dist-packages/scipy/stats/_continuous_distns.py:2847: RuntimeWarning: The shape parameter of the erlang distribution has been given a non-integer value 0.24607573555928625.\n",
      "  RuntimeWarning)\n",
      "/usr/local/lib/python3.6/dist-packages/scipy/stats/_continuous_distns.py:2847: RuntimeWarning: The shape parameter of the erlang distribution has been given a non-integer value 0.24602096696140796.\n",
      "  RuntimeWarning)\n",
      "/usr/local/lib/python3.6/dist-packages/scipy/stats/_continuous_distns.py:2847: RuntimeWarning: The shape parameter of the erlang distribution has been given a non-integer value 0.24597687170375765.\n",
      "  RuntimeWarning)\n",
      "/usr/local/lib/python3.6/dist-packages/scipy/stats/_continuous_distns.py:2847: RuntimeWarning: The shape parameter of the erlang distribution has been given a non-integer value 0.2460062685421912.\n",
      "  RuntimeWarning)\n",
      "/usr/local/lib/python3.6/dist-packages/scipy/stats/_continuous_distns.py:2847: RuntimeWarning: The shape parameter of the erlang distribution has been given a non-integer value 0.24598422091336603.\n",
      "  RuntimeWarning)\n",
      "/usr/local/lib/python3.6/dist-packages/scipy/stats/_continuous_distns.py:2847: RuntimeWarning: The shape parameter of the erlang distribution has been given a non-integer value 0.24596036152862735.\n",
      "  RuntimeWarning)\n",
      "/usr/local/lib/python3.6/dist-packages/scipy/stats/_continuous_distns.py:2847: RuntimeWarning: The shape parameter of the erlang distribution has been given a non-integer value 0.24599560707896131.\n",
      "  RuntimeWarning)\n",
      "/usr/local/lib/python3.6/dist-packages/scipy/stats/_continuous_distns.py:2847: RuntimeWarning: The shape parameter of the erlang distribution has been given a non-integer value 0.24599108698806416.\n",
      "  RuntimeWarning)\n",
      "/usr/local/lib/python3.6/dist-packages/scipy/stats/_continuous_distns.py:2847: RuntimeWarning: The shape parameter of the erlang distribution has been given a non-integer value 0.24599452002541322.\n",
      "  RuntimeWarning)\n",
      "/usr/local/lib/python3.6/dist-packages/scipy/stats/_continuous_distns.py:2847: RuntimeWarning: The shape parameter of the erlang distribution has been given a non-integer value 0.24597668742853743.\n",
      "  RuntimeWarning)\n",
      "/usr/local/lib/python3.6/dist-packages/scipy/stats/_continuous_distns.py:2847: RuntimeWarning: The shape parameter of the erlang distribution has been given a non-integer value 0.24599087716635534.\n",
      "  RuntimeWarning)\n",
      "/usr/local/lib/python3.6/dist-packages/scipy/stats/_continuous_distns.py:2847: RuntimeWarning: The shape parameter of the erlang distribution has been given a non-integer value 0.2459814173411434.\n",
      "  RuntimeWarning)\n",
      "/usr/local/lib/python3.6/dist-packages/scipy/stats/_continuous_distns.py:2847: RuntimeWarning: The shape parameter of the erlang distribution has been given a non-integer value 0.24598851221005236.\n",
      "  RuntimeWarning)\n",
      "/usr/local/lib/python3.6/dist-packages/scipy/stats/_continuous_distns.py:2847: RuntimeWarning: The shape parameter of the erlang distribution has been given a non-integer value 0.2460581138187325.\n",
      "  RuntimeWarning)\n",
      "/usr/local/lib/python3.6/dist-packages/scipy/stats/_continuous_distns.py:2847: RuntimeWarning: The shape parameter of the erlang distribution has been given a non-integer value 0.24597246342764367.\n",
      "  RuntimeWarning)\n",
      "/usr/local/lib/python3.6/dist-packages/scipy/stats/_continuous_distns.py:2847: RuntimeWarning: The shape parameter of the erlang distribution has been given a non-integer value 0.2460028157176884.\n",
      "  RuntimeWarning)\n",
      "/usr/local/lib/python3.6/dist-packages/scipy/stats/_continuous_distns.py:2847: RuntimeWarning: The shape parameter of the erlang distribution has been given a non-integer value 0.24599208808696138.\n",
      "  RuntimeWarning)\n",
      "/usr/local/lib/python3.6/dist-packages/scipy/stats/_continuous_distns.py:2847: RuntimeWarning: The shape parameter of the erlang distribution has been given a non-integer value 0.24603194760630887.\n",
      "  RuntimeWarning)\n",
      "/usr/local/lib/python3.6/dist-packages/scipy/stats/_continuous_distns.py:2847: RuntimeWarning: The shape parameter of the erlang distribution has been given a non-integer value 0.24603889595988948.\n",
      "  RuntimeWarning)\n",
      "/usr/local/lib/python3.6/dist-packages/scipy/stats/_continuous_distns.py:2847: RuntimeWarning: The shape parameter of the erlang distribution has been given a non-integer value 0.2460037900551934.\n",
      "  RuntimeWarning)\n",
      "/usr/local/lib/python3.6/dist-packages/scipy/stats/_continuous_distns.py:2847: RuntimeWarning: The shape parameter of the erlang distribution has been given a non-integer value 0.24599444162380776.\n",
      "  RuntimeWarning)\n",
      "/usr/local/lib/python3.6/dist-packages/scipy/stats/_continuous_distns.py:2847: RuntimeWarning: The shape parameter of the erlang distribution has been given a non-integer value 0.24601619151287937.\n",
      "  RuntimeWarning)\n",
      "/usr/local/lib/python3.6/dist-packages/scipy/stats/_continuous_distns.py:2847: RuntimeWarning: The shape parameter of the erlang distribution has been given a non-integer value 0.24602236068297484.\n",
      "  RuntimeWarning)\n",
      "/usr/local/lib/python3.6/dist-packages/scipy/stats/_continuous_distns.py:2847: RuntimeWarning: The shape parameter of the erlang distribution has been given a non-integer value 0.24600843271213876.\n",
      "  RuntimeWarning)\n",
      "/usr/local/lib/python3.6/dist-packages/scipy/stats/_continuous_distns.py:2847: RuntimeWarning: The shape parameter of the erlang distribution has been given a non-integer value 0.24600478669146184.\n",
      "  RuntimeWarning)\n",
      "/usr/local/lib/python3.6/dist-packages/scipy/stats/_continuous_distns.py:2847: RuntimeWarning: The shape parameter of the erlang distribution has been given a non-integer value 0.24601334030752497.\n",
      "  RuntimeWarning)\n",
      "/usr/local/lib/python3.6/dist-packages/scipy/stats/_continuous_distns.py:2847: RuntimeWarning: The shape parameter of the erlang distribution has been given a non-integer value 0.24601581722245988.\n",
      "  RuntimeWarning)\n",
      "/usr/local/lib/python3.6/dist-packages/scipy/stats/_continuous_distns.py:2847: RuntimeWarning: The shape parameter of the erlang distribution has been given a non-integer value 0.24601027883971904.\n",
      "  RuntimeWarning)\n",
      "/usr/local/lib/python3.6/dist-packages/scipy/stats/_continuous_distns.py:2847: RuntimeWarning: The shape parameter of the erlang distribution has been given a non-integer value 0.24600886864853638.\n",
      "  RuntimeWarning)\n",
      "/usr/local/lib/python3.6/dist-packages/scipy/stats/_continuous_distns.py:2847: RuntimeWarning: The shape parameter of the erlang distribution has been given a non-integer value 0.2460122223927778.\n",
      "  RuntimeWarning)\n",
      "/usr/local/lib/python3.6/dist-packages/scipy/stats/_continuous_distns.py:2847: RuntimeWarning: The shape parameter of the erlang distribution has been given a non-integer value 0.24601322581838153.\n",
      "  RuntimeWarning)\n",
      "/usr/local/lib/python3.6/dist-packages/scipy/stats/_continuous_distns.py:2847: RuntimeWarning: The shape parameter of the erlang distribution has been given a non-integer value 0.24601101558438465.\n",
      "  RuntimeWarning)\n",
      "/usr/local/lib/python3.6/dist-packages/scipy/stats/_continuous_distns.py:2847: RuntimeWarning: The shape parameter of the erlang distribution has been given a non-integer value 0.24601047772639395.\n",
      "  RuntimeWarning)\n",
      "/usr/local/lib/python3.6/dist-packages/scipy/stats/_continuous_distns.py:2847: RuntimeWarning: The shape parameter of the erlang distribution has been given a non-integer value 0.24601178622618186.\n",
      "  RuntimeWarning)\n",
      "/usr/local/lib/python3.6/dist-packages/scipy/stats/_continuous_distns.py:2847: RuntimeWarning: The shape parameter of the erlang distribution has been given a non-integer value 0.2460121982959853.\n",
      "  RuntimeWarning)\n",
      "/usr/local/lib/python3.6/dist-packages/scipy/stats/_continuous_distns.py:2847: RuntimeWarning: The shape parameter of the erlang distribution has been given a non-integer value 0.24601131126228482.\n",
      "  RuntimeWarning)\n",
      "/usr/local/lib/python3.6/dist-packages/scipy/stats/_continuous_distns.py:2847: RuntimeWarning: The shape parameter of the erlang distribution has been given a non-integer value 0.24601111101159.\n",
      "  RuntimeWarning)\n",
      "/usr/local/lib/python3.6/dist-packages/scipy/stats/_continuous_distns.py:2847: RuntimeWarning: The shape parameter of the erlang distribution has been given a non-integer value 0.24601145247502387.\n",
      "  RuntimeWarning)\n",
      "/usr/local/lib/python3.6/dist-packages/scipy/stats/_continuous_distns.py:2847: RuntimeWarning: The shape parameter of the erlang distribution has been given a non-integer value 0.24601134656546958.\n",
      "  RuntimeWarning)\n",
      "/usr/local/lib/python3.6/dist-packages/scipy/stats/_continuous_distns.py:2847: RuntimeWarning: The shape parameter of the erlang distribution has been given a non-integer value 0.2460114171718391.\n",
      "  RuntimeWarning)\n",
      "/usr/local/lib/python3.6/dist-packages/scipy/stats/_continuous_distns.py:2847: RuntimeWarning: The shape parameter of the erlang distribution has been given a non-integer value 0.24601136421706196.\n",
      "  RuntimeWarning)\n",
      "/usr/local/lib/python3.6/dist-packages/scipy/stats/_continuous_distns.py:2847: RuntimeWarning: The shape parameter of the erlang distribution has been given a non-integer value 0.24597709387150185.\n",
      "  RuntimeWarning)\n",
      "/usr/local/lib/python3.6/dist-packages/scipy/stats/_continuous_distns.py:2847: RuntimeWarning: The shape parameter of the erlang distribution has been given a non-integer value 0.24594966700409837.\n",
      "  RuntimeWarning)\n",
      "/usr/local/lib/python3.6/dist-packages/scipy/stats/_continuous_distns.py:2847: RuntimeWarning: The shape parameter of the erlang distribution has been given a non-integer value 0.24597483036370874.\n",
      "  RuntimeWarning)\n",
      "/usr/local/lib/python3.6/dist-packages/scipy/stats/_continuous_distns.py:2847: RuntimeWarning: The shape parameter of the erlang distribution has been given a non-integer value 0.24600223075372366.\n",
      "  RuntimeWarning)\n",
      "/usr/local/lib/python3.6/dist-packages/scipy/stats/_continuous_distns.py:2847: RuntimeWarning: The shape parameter of the erlang distribution has been given a non-integer value 0.24598396382704704.\n",
      "  RuntimeWarning)\n",
      "/usr/local/lib/python3.6/dist-packages/scipy/stats/_continuous_distns.py:2847: RuntimeWarning: The shape parameter of the erlang distribution has been given a non-integer value 0.24597483036370876.\n",
      "  RuntimeWarning)\n",
      "/usr/local/lib/python3.6/dist-packages/scipy/stats/_continuous_distns.py:2847: RuntimeWarning: The shape parameter of the erlang distribution has been given a non-integer value 0.24595698544615202.\n",
      "  RuntimeWarning)\n",
      "/usr/local/lib/python3.6/dist-packages/scipy/stats/_continuous_distns.py:2847: RuntimeWarning: The shape parameter of the erlang distribution has been given a non-integer value 0.24595427510840318.\n",
      "  RuntimeWarning)\n",
      "/usr/local/lib/python3.6/dist-packages/scipy/stats/_continuous_distns.py:2847: RuntimeWarning: The shape parameter of the erlang distribution has been given a non-integer value 0.24595305571623294.\n",
      "  RuntimeWarning)\n",
      "/usr/local/lib/python3.6/dist-packages/scipy/stats/_continuous_distns.py:2847: RuntimeWarning: The shape parameter of the erlang distribution has been given a non-integer value 0.24597054432163673.\n",
      "  RuntimeWarning)\n",
      "/usr/local/lib/python3.6/dist-packages/scipy/stats/_continuous_distns.py:2847: RuntimeWarning: The shape parameter of the erlang distribution has been given a non-integer value 0.2459603751650232.\n",
      "  RuntimeWarning)\n",
      "/usr/local/lib/python3.6/dist-packages/scipy/stats/_continuous_distns.py:2847: RuntimeWarning: The shape parameter of the erlang distribution has been given a non-integer value 0.24596850977163998.\n",
      "  RuntimeWarning)\n",
      "/usr/local/lib/python3.6/dist-packages/scipy/stats/_continuous_distns.py:2847: RuntimeWarning: The shape parameter of the erlang distribution has been given a non-integer value 0.2459691194677251.\n",
      "  RuntimeWarning)\n",
      "/usr/local/lib/python3.6/dist-packages/scipy/stats/_continuous_distns.py:2847: RuntimeWarning: The shape parameter of the erlang distribution has been given a non-integer value 0.24597047463659955.\n",
      "  RuntimeWarning)\n",
      "/usr/local/lib/python3.6/dist-packages/scipy/stats/_continuous_distns.py:2847: RuntimeWarning: The shape parameter of the erlang distribution has been given a non-integer value 0.2459772540743418.\n",
      "  RuntimeWarning)\n",
      "/usr/local/lib/python3.6/dist-packages/scipy/stats/_continuous_distns.py:2847: RuntimeWarning: The shape parameter of the erlang distribution has been given a non-integer value 0.24597216949603512.\n",
      "  RuntimeWarning)\n",
      "/usr/local/lib/python3.6/dist-packages/scipy/stats/_continuous_distns.py:2847: RuntimeWarning: The shape parameter of the erlang distribution has been given a non-integer value 0.2459762367993435.\n",
      "  RuntimeWarning)\n",
      "/usr/local/lib/python3.6/dist-packages/scipy/stats/_continuous_distns.py:2847: RuntimeWarning: The shape parameter of the erlang distribution has been given a non-integer value 0.24597654164738608.\n",
      "  RuntimeWarning)\n",
      "/usr/local/lib/python3.6/dist-packages/scipy/stats/_continuous_distns.py:2847: RuntimeWarning: The shape parameter of the erlang distribution has been given a non-integer value 0.2459772192318233.\n",
      "  RuntimeWarning)\n",
      "/usr/local/lib/python3.6/dist-packages/scipy/stats/_continuous_distns.py:2847: RuntimeWarning: The shape parameter of the erlang distribution has been given a non-integer value 0.2459806089506944.\n",
      "  RuntimeWarning)\n",
      "/usr/local/lib/python3.6/dist-packages/scipy/stats/_continuous_distns.py:2847: RuntimeWarning: The shape parameter of the erlang distribution has been given a non-integer value 0.2459780666615411.\n",
      "  RuntimeWarning)\n",
      "/usr/local/lib/python3.6/dist-packages/scipy/stats/_continuous_distns.py:2847: RuntimeWarning: The shape parameter of the erlang distribution has been given a non-integer value 0.24598010031319528.\n",
      "  RuntimeWarning)\n",
      "/usr/local/lib/python3.6/dist-packages/scipy/stats/_continuous_distns.py:2847: RuntimeWarning: The shape parameter of the erlang distribution has been given a non-integer value 0.24598025273721658.\n",
      "  RuntimeWarning)\n",
      "/usr/local/lib/python3.6/dist-packages/scipy/stats/_continuous_distns.py:2847: RuntimeWarning: The shape parameter of the erlang distribution has been given a non-integer value 0.2459805915294352.\n",
      "  RuntimeWarning)\n",
      "/usr/local/lib/python3.6/dist-packages/scipy/stats/_continuous_distns.py:2847: RuntimeWarning: The shape parameter of the erlang distribution has been given a non-integer value 0.2459822863888707.\n",
      "  RuntimeWarning)\n",
      "/usr/local/lib/python3.6/dist-packages/scipy/stats/_continuous_distns.py:2847: RuntimeWarning: The shape parameter of the erlang distribution has been given a non-integer value 0.24598101524429405.\n",
      "  RuntimeWarning)\n",
      "/usr/local/lib/python3.6/dist-packages/scipy/stats/_continuous_distns.py:2847: RuntimeWarning: The shape parameter of the erlang distribution has been given a non-integer value 0.24598203207012115.\n",
      "  RuntimeWarning)\n",
      "/usr/local/lib/python3.6/dist-packages/scipy/stats/_continuous_distns.py:2847: RuntimeWarning: The shape parameter of the erlang distribution has been given a non-integer value 0.2459821082821318.\n",
      "  RuntimeWarning)\n",
      "/usr/local/lib/python3.6/dist-packages/scipy/stats/_continuous_distns.py:2847: RuntimeWarning: The shape parameter of the erlang distribution has been given a non-integer value 0.2459822776782411.\n",
      "  RuntimeWarning)\n",
      "/usr/local/lib/python3.6/dist-packages/scipy/stats/_continuous_distns.py:2847: RuntimeWarning: The shape parameter of the erlang distribution has been given a non-integer value 0.24598312510795883.\n",
      "  RuntimeWarning)\n",
      "/usr/local/lib/python3.6/dist-packages/scipy/stats/_continuous_distns.py:2847: RuntimeWarning: The shape parameter of the erlang distribution has been given a non-integer value 0.24598248953567053.\n",
      "  RuntimeWarning)\n",
      "/usr/local/lib/python3.6/dist-packages/scipy/stats/_continuous_distns.py:2847: RuntimeWarning: The shape parameter of the erlang distribution has been given a non-integer value 0.24598299794858408.\n",
      "  RuntimeWarning)\n",
      "/usr/local/lib/python3.6/dist-packages/scipy/stats/_continuous_distns.py:2847: RuntimeWarning: The shape parameter of the erlang distribution has been given a non-integer value 0.24598303605458943.\n",
      "  RuntimeWarning)\n",
      "/usr/local/lib/python3.6/dist-packages/scipy/stats/_continuous_distns.py:2847: RuntimeWarning: The shape parameter of the erlang distribution has been given a non-integer value 0.24598312075264406.\n",
      "  RuntimeWarning)\n",
      "/usr/local/lib/python3.6/dist-packages/scipy/stats/_continuous_distns.py:2847: RuntimeWarning: The shape parameter of the erlang distribution has been given a non-integer value 0.24598354446750303.\n",
      "  RuntimeWarning)\n",
      "/usr/local/lib/python3.6/dist-packages/scipy/stats/_continuous_distns.py:2847: RuntimeWarning: The shape parameter of the erlang distribution has been given a non-integer value 0.2459832266813588.\n",
      "  RuntimeWarning)\n",
      "/usr/local/lib/python3.6/dist-packages/scipy/stats/_continuous_distns.py:2847: RuntimeWarning: The shape parameter of the erlang distribution has been given a non-integer value 0.24598348088781558.\n",
      "  RuntimeWarning)\n",
      "/usr/local/lib/python3.6/dist-packages/scipy/stats/_continuous_distns.py:2847: RuntimeWarning: The shape parameter of the erlang distribution has been given a non-integer value 0.24598349994081825.\n",
      "  RuntimeWarning)\n",
      "/usr/local/lib/python3.6/dist-packages/scipy/stats/_continuous_distns.py:2847: RuntimeWarning: The shape parameter of the erlang distribution has been given a non-integer value 0.24598354228984554.\n",
      "  RuntimeWarning)\n",
      "/usr/local/lib/python3.6/dist-packages/scipy/stats/_continuous_distns.py:2847: RuntimeWarning: The shape parameter of the erlang distribution has been given a non-integer value 0.24598375414727508.\n",
      "  RuntimeWarning)\n",
      "/usr/local/lib/python3.6/dist-packages/scipy/stats/_continuous_distns.py:2847: RuntimeWarning: The shape parameter of the erlang distribution has been given a non-integer value 0.24598359525420294.\n",
      "  RuntimeWarning)\n",
      "/usr/local/lib/python3.6/dist-packages/scipy/stats/_continuous_distns.py:2847: RuntimeWarning: The shape parameter of the erlang distribution has been given a non-integer value 0.24598372235743132.\n",
      "  RuntimeWarning)\n",
      "/usr/local/lib/python3.6/dist-packages/scipy/stats/_continuous_distns.py:2847: RuntimeWarning: The shape parameter of the erlang distribution has been given a non-integer value 0.24598373188393263.\n",
      "  RuntimeWarning)\n",
      "/usr/local/lib/python3.6/dist-packages/scipy/stats/_continuous_distns.py:2847: RuntimeWarning: The shape parameter of the erlang distribution has been given a non-integer value 0.24598375305844628.\n",
      "  RuntimeWarning)\n",
      "/usr/local/lib/python3.6/dist-packages/scipy/stats/_continuous_distns.py:2847: RuntimeWarning: The shape parameter of the erlang distribution has been given a non-integer value 0.24598385898716107.\n",
      "  RuntimeWarning)\n",
      "/usr/local/lib/python3.6/dist-packages/scipy/stats/_continuous_distns.py:2847: RuntimeWarning: The shape parameter of the erlang distribution has been given a non-integer value 0.24598377954062497.\n",
      "  RuntimeWarning)\n",
      "/usr/local/lib/python3.6/dist-packages/scipy/stats/_continuous_distns.py:2847: RuntimeWarning: The shape parameter of the erlang distribution has been given a non-integer value 0.2459838430922392.\n",
      "  RuntimeWarning)\n",
      "/usr/local/lib/python3.6/dist-packages/scipy/stats/_continuous_distns.py:2847: RuntimeWarning: The shape parameter of the erlang distribution has been given a non-integer value 0.24598384785548982.\n",
      "  RuntimeWarning)\n",
      "/usr/local/lib/python3.6/dist-packages/scipy/stats/_continuous_distns.py:2847: RuntimeWarning: The shape parameter of the erlang distribution has been given a non-integer value 0.24598385844274667.\n",
      "  RuntimeWarning)\n",
      "/usr/local/lib/python3.6/dist-packages/scipy/stats/_continuous_distns.py:2847: RuntimeWarning: The shape parameter of the erlang distribution has been given a non-integer value 0.24598391140710396.\n",
      "  RuntimeWarning)\n",
      "/usr/local/lib/python3.6/dist-packages/scipy/stats/_continuous_distns.py:2847: RuntimeWarning: The shape parameter of the erlang distribution has been given a non-integer value 0.245983871683836.\n",
      "  RuntimeWarning)\n",
      "/usr/local/lib/python3.6/dist-packages/scipy/stats/_continuous_distns.py:2847: RuntimeWarning: The shape parameter of the erlang distribution has been given a non-integer value 0.2459839034596431.\n",
      "  RuntimeWarning)\n",
      "/usr/local/lib/python3.6/dist-packages/scipy/stats/_continuous_distns.py:2847: RuntimeWarning: The shape parameter of the erlang distribution has been given a non-integer value 0.24598390584126845.\n",
      "  RuntimeWarning)\n",
      "/usr/local/lib/python3.6/dist-packages/scipy/stats/_continuous_distns.py:2847: RuntimeWarning: The shape parameter of the erlang distribution has been given a non-integer value 0.24598391113489687.\n",
      "  RuntimeWarning)\n",
      "/usr/local/lib/python3.6/dist-packages/scipy/stats/_continuous_distns.py:2847: RuntimeWarning: The shape parameter of the erlang distribution has been given a non-integer value 0.2459839376170755.\n",
      "  RuntimeWarning)\n",
      "/usr/local/lib/python3.6/dist-packages/scipy/stats/_continuous_distns.py:2847: RuntimeWarning: The shape parameter of the erlang distribution has been given a non-integer value 0.24598391775544154.\n",
      "  RuntimeWarning)\n",
      "/usr/local/lib/python3.6/dist-packages/scipy/stats/_continuous_distns.py:2847: RuntimeWarning: The shape parameter of the erlang distribution has been given a non-integer value 0.2459839336433451.\n",
      "  RuntimeWarning)\n",
      "/usr/local/lib/python3.6/dist-packages/scipy/stats/_continuous_distns.py:2847: RuntimeWarning: The shape parameter of the erlang distribution has been given a non-integer value 0.24598393483415776.\n",
      "  RuntimeWarning)\n",
      "/usr/local/lib/python3.6/dist-packages/scipy/stats/_continuous_distns.py:2847: RuntimeWarning: The shape parameter of the erlang distribution has been given a non-integer value 0.24598393748097197.\n",
      "  RuntimeWarning)\n",
      "/usr/local/lib/python3.6/dist-packages/scipy/stats/_continuous_distns.py:2847: RuntimeWarning: The shape parameter of the erlang distribution has been given a non-integer value 0.24598395072206136.\n",
      "  RuntimeWarning)\n",
      "/usr/local/lib/python3.6/dist-packages/scipy/stats/_continuous_distns.py:2847: RuntimeWarning: The shape parameter of the erlang distribution has been given a non-integer value 0.2459839407912443.\n",
      "  RuntimeWarning)\n",
      "/usr/local/lib/python3.6/dist-packages/scipy/stats/_continuous_distns.py:2847: RuntimeWarning: The shape parameter of the erlang distribution has been given a non-integer value 0.24598394873519608.\n",
      "  RuntimeWarning)\n",
      "/usr/local/lib/python3.6/dist-packages/scipy/stats/_continuous_distns.py:2847: RuntimeWarning: The shape parameter of the erlang distribution has been given a non-integer value 0.2459839493306024.\n",
      "  RuntimeWarning)\n",
      "/usr/local/lib/python3.6/dist-packages/scipy/stats/_continuous_distns.py:2847: RuntimeWarning: The shape parameter of the erlang distribution has been given a non-integer value 0.24598395065400952.\n",
      "  RuntimeWarning)\n",
      "/usr/local/lib/python3.6/dist-packages/scipy/stats/_continuous_distns.py:2847: RuntimeWarning: The shape parameter of the erlang distribution has been given a non-integer value 0.2459839572745542.\n",
      "  RuntimeWarning)\n",
      "/usr/local/lib/python3.6/dist-packages/scipy/stats/_continuous_distns.py:2847: RuntimeWarning: The shape parameter of the erlang distribution has been given a non-integer value 0.2459839523091457.\n",
      "  RuntimeWarning)\n",
      "/usr/local/lib/python3.6/dist-packages/scipy/stats/_continuous_distns.py:2847: RuntimeWarning: The shape parameter of the erlang distribution has been given a non-integer value 0.24598395628112157.\n",
      "  RuntimeWarning)\n",
      "/usr/local/lib/python3.6/dist-packages/scipy/stats/_continuous_distns.py:2847: RuntimeWarning: The shape parameter of the erlang distribution has been given a non-integer value 0.24598395657882471.\n",
      "  RuntimeWarning)\n",
      "/usr/local/lib/python3.6/dist-packages/scipy/stats/_continuous_distns.py:2847: RuntimeWarning: The shape parameter of the erlang distribution has been given a non-integer value 0.2459839572405283.\n",
      "  RuntimeWarning)\n",
      "/usr/local/lib/python3.6/dist-packages/scipy/stats/_continuous_distns.py:2847: RuntimeWarning: The shape parameter of the erlang distribution has been given a non-integer value 0.24598396055080052.\n",
      "  RuntimeWarning)\n",
      "/usr/local/lib/python3.6/dist-packages/scipy/stats/_continuous_distns.py:2847: RuntimeWarning: The shape parameter of the erlang distribution has been given a non-integer value 0.24598395806809636.\n",
      "  RuntimeWarning)\n",
      "/usr/local/lib/python3.6/dist-packages/scipy/stats/_continuous_distns.py:2847: RuntimeWarning: The shape parameter of the erlang distribution has been given a non-integer value 0.2459839600540843.\n",
      "  RuntimeWarning)\n",
      "/usr/local/lib/python3.6/dist-packages/scipy/stats/_continuous_distns.py:2847: RuntimeWarning: The shape parameter of the erlang distribution has been given a non-integer value 0.2459839602029359.\n",
      "  RuntimeWarning)\n",
      "/usr/local/lib/python3.6/dist-packages/scipy/stats/_continuous_distns.py:2847: RuntimeWarning: The shape parameter of the erlang distribution has been given a non-integer value 0.24598396053378768.\n",
      "  RuntimeWarning)\n",
      "/usr/local/lib/python3.6/dist-packages/scipy/stats/_continuous_distns.py:2847: RuntimeWarning: The shape parameter of the erlang distribution has been given a non-integer value 0.24598396218892377.\n",
      "  RuntimeWarning)\n",
      "/usr/local/lib/python3.6/dist-packages/scipy/stats/_continuous_distns.py:2847: RuntimeWarning: The shape parameter of the erlang distribution has been given a non-integer value 0.2459839609475717.\n",
      "  RuntimeWarning)\n",
      "/usr/local/lib/python3.6/dist-packages/scipy/stats/_continuous_distns.py:2847: RuntimeWarning: The shape parameter of the erlang distribution has been given a non-integer value 0.24598396194056565.\n",
      "  RuntimeWarning)\n",
      "/usr/local/lib/python3.6/dist-packages/scipy/stats/_continuous_distns.py:2847: RuntimeWarning: The shape parameter of the erlang distribution has been given a non-integer value 0.24598396201499145.\n",
      "  RuntimeWarning)\n",
      "/usr/local/lib/python3.6/dist-packages/scipy/stats/_continuous_distns.py:2847: RuntimeWarning: The shape parameter of the erlang distribution has been given a non-integer value 0.24598396218041735.\n",
      "  RuntimeWarning)\n",
      "/usr/local/lib/python3.6/dist-packages/scipy/stats/_continuous_distns.py:2847: RuntimeWarning: The shape parameter of the erlang distribution has been given a non-integer value 0.24598396300798542.\n",
      "  RuntimeWarning)\n",
      "/usr/local/lib/python3.6/dist-packages/scipy/stats/_continuous_distns.py:2847: RuntimeWarning: The shape parameter of the erlang distribution has been given a non-integer value 0.24598396238730935.\n",
      "  RuntimeWarning)\n",
      "/usr/local/lib/python3.6/dist-packages/scipy/stats/_continuous_distns.py:2847: RuntimeWarning: The shape parameter of the erlang distribution has been given a non-integer value 0.24598396288380636.\n",
      "  RuntimeWarning)\n",
      "/usr/local/lib/python3.6/dist-packages/scipy/stats/_continuous_distns.py:2847: RuntimeWarning: The shape parameter of the erlang distribution has been given a non-integer value 0.24598396292101926.\n",
      "  RuntimeWarning)\n",
      "/usr/local/lib/python3.6/dist-packages/scipy/stats/_continuous_distns.py:2847: RuntimeWarning: The shape parameter of the erlang distribution has been given a non-integer value 0.2459839630037322.\n",
      "  RuntimeWarning)\n",
      "/usr/local/lib/python3.6/dist-packages/scipy/stats/_continuous_distns.py:2847: RuntimeWarning: The shape parameter of the erlang distribution has been given a non-integer value 0.24598396341751622.\n",
      "  RuntimeWarning)\n",
      "/usr/local/lib/python3.6/dist-packages/scipy/stats/_continuous_distns.py:2847: RuntimeWarning: The shape parameter of the erlang distribution has been given a non-integer value 0.2459839631071782.\n",
      "  RuntimeWarning)\n",
      "/usr/local/lib/python3.6/dist-packages/scipy/stats/_continuous_distns.py:2847: RuntimeWarning: The shape parameter of the erlang distribution has been given a non-integer value 0.24598396335542672.\n",
      "  RuntimeWarning)\n",
      "/usr/local/lib/python3.6/dist-packages/scipy/stats/_continuous_distns.py:2847: RuntimeWarning: The shape parameter of the erlang distribution has been given a non-integer value 0.24598396337403317.\n",
      "  RuntimeWarning)\n",
      "/usr/local/lib/python3.6/dist-packages/scipy/stats/_continuous_distns.py:2847: RuntimeWarning: The shape parameter of the erlang distribution has been given a non-integer value 0.24598396341538964.\n",
      "  RuntimeWarning)\n",
      "/usr/local/lib/python3.6/dist-packages/scipy/stats/_continuous_distns.py:2847: RuntimeWarning: The shape parameter of the erlang distribution has been given a non-integer value 0.24598396362228164.\n",
      "  RuntimeWarning)\n",
      "/usr/local/lib/python3.6/dist-packages/scipy/stats/_continuous_distns.py:2847: RuntimeWarning: The shape parameter of the erlang distribution has been given a non-integer value 0.24598396346711265.\n",
      "  RuntimeWarning)\n",
      "/usr/local/lib/python3.6/dist-packages/scipy/stats/_continuous_distns.py:2847: RuntimeWarning: The shape parameter of the erlang distribution has been given a non-integer value 0.24598396359123686.\n",
      "  RuntimeWarning)\n",
      "/usr/local/lib/python3.6/dist-packages/scipy/stats/_continuous_distns.py:2847: RuntimeWarning: The shape parameter of the erlang distribution has been given a non-integer value 0.2459839636005401.\n",
      "  RuntimeWarning)\n",
      "/usr/local/lib/python3.6/dist-packages/scipy/stats/_continuous_distns.py:2847: RuntimeWarning: The shape parameter of the erlang distribution has been given a non-integer value 0.24598396362121833.\n",
      "  RuntimeWarning)\n",
      "/usr/local/lib/python3.6/dist-packages/scipy/stats/_continuous_distns.py:2847: RuntimeWarning: The shape parameter of the erlang distribution has been given a non-integer value 0.2459839637246643.\n",
      "  RuntimeWarning)\n",
      "/usr/local/lib/python3.6/dist-packages/scipy/stats/_continuous_distns.py:2847: RuntimeWarning: The shape parameter of the erlang distribution has been given a non-integer value 0.2459839636470798.\n",
      "  RuntimeWarning)\n",
      "/usr/local/lib/python3.6/dist-packages/scipy/stats/_continuous_distns.py:2847: RuntimeWarning: The shape parameter of the erlang distribution has been given a non-integer value 0.24598396370914194.\n",
      "  RuntimeWarning)\n",
      "/usr/local/lib/python3.6/dist-packages/scipy/stats/_continuous_distns.py:2847: RuntimeWarning: The shape parameter of the erlang distribution has been given a non-integer value 0.24598396371379355.\n",
      "  RuntimeWarning)\n",
      "/usr/local/lib/python3.6/dist-packages/scipy/stats/_continuous_distns.py:2847: RuntimeWarning: The shape parameter of the erlang distribution has been given a non-integer value 0.24598396372413267.\n",
      "  RuntimeWarning)\n",
      "/usr/local/lib/python3.6/dist-packages/scipy/stats/_continuous_distns.py:2847: RuntimeWarning: The shape parameter of the erlang distribution has been given a non-integer value 0.24598396377585569.\n",
      "  RuntimeWarning)\n",
      "/usr/local/lib/python3.6/dist-packages/scipy/stats/_continuous_distns.py:2847: RuntimeWarning: The shape parameter of the erlang distribution has been given a non-integer value 0.24598396373706344.\n",
      "  RuntimeWarning)\n",
      "/usr/local/lib/python3.6/dist-packages/scipy/stats/_continuous_distns.py:2847: RuntimeWarning: The shape parameter of the erlang distribution has been given a non-integer value 0.2459839637680945.\n",
      "  RuntimeWarning)\n",
      "/usr/local/lib/python3.6/dist-packages/scipy/stats/_continuous_distns.py:2847: RuntimeWarning: The shape parameter of the erlang distribution has been given a non-integer value 0.2459839637704203.\n",
      "  RuntimeWarning)\n",
      "/usr/local/lib/python3.6/dist-packages/scipy/stats/_continuous_distns.py:2847: RuntimeWarning: The shape parameter of the erlang distribution has been given a non-integer value 0.24598396377558984.\n",
      "  RuntimeWarning)\n",
      "/usr/local/lib/python3.6/dist-packages/scipy/stats/_continuous_distns.py:2847: RuntimeWarning: The shape parameter of the erlang distribution has been given a non-integer value 0.24598396380145138.\n",
      "  RuntimeWarning)\n",
      "/usr/local/lib/python3.6/dist-packages/scipy/stats/_continuous_distns.py:2847: RuntimeWarning: The shape parameter of the erlang distribution has been given a non-integer value 0.24598396378205523.\n",
      "  RuntimeWarning)\n",
      "/usr/local/lib/python3.6/dist-packages/scipy/stats/_continuous_distns.py:2847: RuntimeWarning: The shape parameter of the erlang distribution has been given a non-integer value 0.24598396379757076.\n",
      "  RuntimeWarning)\n",
      "/usr/local/lib/python3.6/dist-packages/scipy/stats/_continuous_distns.py:2847: RuntimeWarning: The shape parameter of the erlang distribution has been given a non-integer value 0.24598396379873366.\n",
      "  RuntimeWarning)\n",
      "/usr/local/lib/python3.6/dist-packages/scipy/stats/_continuous_distns.py:2847: RuntimeWarning: The shape parameter of the erlang distribution has been given a non-integer value 0.24598396380131843.\n",
      "  RuntimeWarning)\n",
      "/usr/local/lib/python3.6/dist-packages/scipy/stats/_continuous_distns.py:2847: RuntimeWarning: The shape parameter of the erlang distribution has been given a non-integer value 0.24598396381424925.\n",
      "  RuntimeWarning)\n",
      "/usr/local/lib/python3.6/dist-packages/scipy/stats/_continuous_distns.py:2847: RuntimeWarning: The shape parameter of the erlang distribution has been given a non-integer value 0.24598396380455112.\n",
      "  RuntimeWarning)\n",
      "/usr/local/lib/python3.6/dist-packages/scipy/stats/_continuous_distns.py:2847: RuntimeWarning: The shape parameter of the erlang distribution has been given a non-integer value 0.24598396381230891.\n",
      "  RuntimeWarning)\n",
      "/usr/local/lib/python3.6/dist-packages/scipy/stats/_continuous_distns.py:2847: RuntimeWarning: The shape parameter of the erlang distribution has been given a non-integer value 0.24598396381289034.\n",
      "  RuntimeWarning)\n",
      "/usr/local/lib/python3.6/dist-packages/scipy/stats/_continuous_distns.py:2847: RuntimeWarning: The shape parameter of the erlang distribution has been given a non-integer value 0.24598396381418275.\n",
      "  RuntimeWarning)\n",
      "/usr/local/lib/python3.6/dist-packages/scipy/stats/_continuous_distns.py:2847: RuntimeWarning: The shape parameter of the erlang distribution has been given a non-integer value 0.24598396382064808.\n",
      "  RuntimeWarning)\n",
      "/usr/local/lib/python3.6/dist-packages/scipy/stats/_continuous_distns.py:2847: RuntimeWarning: The shape parameter of the erlang distribution has been given a non-integer value 0.24598396381579907.\n",
      "  RuntimeWarning)\n",
      "/usr/local/lib/python3.6/dist-packages/scipy/stats/_continuous_distns.py:2847: RuntimeWarning: The shape parameter of the erlang distribution has been given a non-integer value 0.24598396381967796.\n",
      "  RuntimeWarning)\n",
      "/usr/local/lib/python3.6/dist-packages/scipy/stats/_continuous_distns.py:2847: RuntimeWarning: The shape parameter of the erlang distribution has been given a non-integer value 0.24598396381996868.\n",
      "  RuntimeWarning)\n",
      "/usr/local/lib/python3.6/dist-packages/scipy/stats/_continuous_distns.py:2847: RuntimeWarning: The shape parameter of the erlang distribution has been given a non-integer value 0.24598396382061488.\n",
      "  RuntimeWarning)\n",
      "/usr/local/lib/python3.6/dist-packages/scipy/stats/_continuous_distns.py:2847: RuntimeWarning: The shape parameter of the erlang distribution has been given a non-integer value 0.24598396382384757.\n",
      "  RuntimeWarning)\n",
      "/usr/local/lib/python3.6/dist-packages/scipy/stats/_continuous_distns.py:2847: RuntimeWarning: The shape parameter of the erlang distribution has been given a non-integer value 0.24598396382142307.\n",
      "  RuntimeWarning)\n",
      "/usr/local/lib/python3.6/dist-packages/scipy/stats/_continuous_distns.py:2847: RuntimeWarning: The shape parameter of the erlang distribution has been given a non-integer value 0.24598396382336252.\n",
      "  RuntimeWarning)\n",
      "/usr/local/lib/python3.6/dist-packages/scipy/stats/_continuous_distns.py:2847: RuntimeWarning: The shape parameter of the erlang distribution has been given a non-integer value 0.24598396382350785.\n",
      "  RuntimeWarning)\n",
      "/usr/local/lib/python3.6/dist-packages/scipy/stats/_continuous_distns.py:2847: RuntimeWarning: The shape parameter of the erlang distribution has been given a non-integer value 0.24598396382383098.\n",
      "  RuntimeWarning)\n",
      "/usr/local/lib/python3.6/dist-packages/scipy/stats/_continuous_distns.py:2847: RuntimeWarning: The shape parameter of the erlang distribution has been given a non-integer value 0.2459839638254473.\n",
      "  RuntimeWarning)\n",
      "/usr/local/lib/python3.6/dist-packages/scipy/stats/_continuous_distns.py:2847: RuntimeWarning: The shape parameter of the erlang distribution has been given a non-integer value 0.24598396382423504.\n",
      "  RuntimeWarning)\n",
      "/usr/local/lib/python3.6/dist-packages/scipy/stats/_continuous_distns.py:2847: RuntimeWarning: The shape parameter of the erlang distribution has been given a non-integer value 0.24598396382520477.\n",
      "  RuntimeWarning)\n",
      "/usr/local/lib/python3.6/dist-packages/scipy/stats/_continuous_distns.py:2847: RuntimeWarning: The shape parameter of the erlang distribution has been given a non-integer value 0.24598396382527743.\n",
      "  RuntimeWarning)\n",
      "/usr/local/lib/python3.6/dist-packages/scipy/stats/_continuous_distns.py:2847: RuntimeWarning: The shape parameter of the erlang distribution has been given a non-integer value 0.24598396382543902.\n",
      "  RuntimeWarning)\n",
      "/usr/local/lib/python3.6/dist-packages/scipy/stats/_continuous_distns.py:2847: RuntimeWarning: The shape parameter of the erlang distribution has been given a non-integer value 0.24598396382624715.\n",
      "  RuntimeWarning)\n",
      "/usr/local/lib/python3.6/dist-packages/scipy/stats/_continuous_distns.py:2847: RuntimeWarning: The shape parameter of the erlang distribution has been given a non-integer value 0.24598396382564106.\n",
      "  RuntimeWarning)\n",
      "/usr/local/lib/python3.6/dist-packages/scipy/stats/_continuous_distns.py:2847: RuntimeWarning: The shape parameter of the erlang distribution has been given a non-integer value 0.24598396382612592.\n",
      "  RuntimeWarning)\n",
      "/usr/local/lib/python3.6/dist-packages/scipy/stats/_continuous_distns.py:2847: RuntimeWarning: The shape parameter of the erlang distribution has been given a non-integer value 0.24598396382616222.\n",
      "  RuntimeWarning)\n",
      "/usr/local/lib/python3.6/dist-packages/scipy/stats/_continuous_distns.py:2847: RuntimeWarning: The shape parameter of the erlang distribution has been given a non-integer value 0.24598396382624305.\n",
      "  RuntimeWarning)\n",
      "/usr/local/lib/python3.6/dist-packages/scipy/stats/_continuous_distns.py:2847: RuntimeWarning: The shape parameter of the erlang distribution has been given a non-integer value 0.2459839638266471.\n",
      "  RuntimeWarning)\n",
      "/usr/local/lib/python3.6/dist-packages/scipy/stats/_continuous_distns.py:2847: RuntimeWarning: The shape parameter of the erlang distribution has been given a non-integer value 0.24598396382634408.\n",
      "  RuntimeWarning)\n",
      "/usr/local/lib/python3.6/dist-packages/scipy/stats/_continuous_distns.py:2847: RuntimeWarning: The shape parameter of the erlang distribution has been given a non-integer value 0.2459839638265865.\n",
      "  RuntimeWarning)\n",
      "/usr/local/lib/python3.6/dist-packages/scipy/stats/_continuous_distns.py:2847: RuntimeWarning: The shape parameter of the erlang distribution has been given a non-integer value 0.24598396382660465.\n",
      "  RuntimeWarning)\n",
      "/usr/local/lib/python3.6/dist-packages/scipy/stats/_continuous_distns.py:2847: RuntimeWarning: The shape parameter of the erlang distribution has been given a non-integer value 0.24598396382664506.\n",
      "  RuntimeWarning)\n",
      "/usr/local/lib/python3.6/dist-packages/scipy/stats/_continuous_distns.py:2847: RuntimeWarning: The shape parameter of the erlang distribution has been given a non-integer value 0.245983963826847.\n",
      "  RuntimeWarning)\n",
      "/usr/local/lib/python3.6/dist-packages/scipy/stats/_continuous_distns.py:2847: RuntimeWarning: The shape parameter of the erlang distribution has been given a non-integer value 0.24598396382669555.\n",
      "  RuntimeWarning)\n",
      "/usr/local/lib/python3.6/dist-packages/scipy/stats/_continuous_distns.py:2847: RuntimeWarning: The shape parameter of the erlang distribution has been given a non-integer value 0.24598396382681675.\n",
      "  RuntimeWarning)\n",
      "/usr/local/lib/python3.6/dist-packages/scipy/stats/_continuous_distns.py:2847: RuntimeWarning: The shape parameter of the erlang distribution has been given a non-integer value 0.24598396382682586.\n",
      "  RuntimeWarning)\n",
      "/usr/local/lib/python3.6/dist-packages/scipy/stats/_continuous_distns.py:2847: RuntimeWarning: The shape parameter of the erlang distribution has been given a non-integer value 0.24598396382684606.\n",
      "  RuntimeWarning)\n",
      "/usr/local/lib/python3.6/dist-packages/scipy/stats/_continuous_distns.py:2847: RuntimeWarning: The shape parameter of the erlang distribution has been given a non-integer value 0.24598396382694704.\n",
      "  RuntimeWarning)\n",
      "/usr/local/lib/python3.6/dist-packages/scipy/stats/_continuous_distns.py:2847: RuntimeWarning: The shape parameter of the erlang distribution has been given a non-integer value 0.24598396382687132.\n",
      "  RuntimeWarning)\n",
      "/usr/local/lib/python3.6/dist-packages/scipy/stats/_continuous_distns.py:2847: RuntimeWarning: The shape parameter of the erlang distribution has been given a non-integer value 0.24598396382693188.\n",
      "  RuntimeWarning)\n",
      "/usr/local/lib/python3.6/dist-packages/scipy/stats/_continuous_distns.py:2847: RuntimeWarning: The shape parameter of the erlang distribution has been given a non-integer value 0.24598396382693644.\n",
      "  RuntimeWarning)\n",
      "/usr/local/lib/python3.6/dist-packages/scipy/stats/_continuous_distns.py:2847: RuntimeWarning: The shape parameter of the erlang distribution has been given a non-integer value 0.24598396382694654.\n",
      "  RuntimeWarning)\n",
      "/usr/local/lib/python3.6/dist-packages/scipy/stats/_continuous_distns.py:2847: RuntimeWarning: The shape parameter of the erlang distribution has been given a non-integer value 0.245983963826997.\n",
      "  RuntimeWarning)\n",
      "/usr/local/lib/python3.6/dist-packages/scipy/stats/_continuous_distns.py:2847: RuntimeWarning: The shape parameter of the erlang distribution has been given a non-integer value 0.24598396382695914.\n",
      "  RuntimeWarning)\n",
      "/usr/local/lib/python3.6/dist-packages/scipy/stats/_continuous_distns.py:2847: RuntimeWarning: The shape parameter of the erlang distribution has been given a non-integer value 0.24598396382698945.\n",
      "  RuntimeWarning)\n",
      "/usr/local/lib/python3.6/dist-packages/scipy/stats/_continuous_distns.py:2847: RuntimeWarning: The shape parameter of the erlang distribution has been given a non-integer value 0.24598396382699173.\n",
      "  RuntimeWarning)\n",
      "/usr/local/lib/python3.6/dist-packages/scipy/stats/_continuous_distns.py:2847: RuntimeWarning: The shape parameter of the erlang distribution has been given a non-integer value 0.24598396382699678.\n",
      "  RuntimeWarning)\n",
      "/usr/local/lib/python3.6/dist-packages/scipy/stats/_continuous_distns.py:2847: RuntimeWarning: The shape parameter of the erlang distribution has been given a non-integer value 0.24598396382702203.\n",
      "  RuntimeWarning)\n",
      "/usr/local/lib/python3.6/dist-packages/scipy/stats/_continuous_distns.py:2847: RuntimeWarning: The shape parameter of the erlang distribution has been given a non-integer value 0.2459839638270031.\n",
      "  RuntimeWarning)\n",
      "/usr/local/lib/python3.6/dist-packages/scipy/stats/_continuous_distns.py:2847: RuntimeWarning: The shape parameter of the erlang distribution has been given a non-integer value 0.24598396382701826.\n",
      "  RuntimeWarning)\n",
      "/usr/local/lib/python3.6/dist-packages/scipy/stats/_continuous_distns.py:2847: RuntimeWarning: The shape parameter of the erlang distribution has been given a non-integer value 0.24598396382701937.\n",
      "  RuntimeWarning)\n",
      "/usr/local/lib/python3.6/dist-packages/scipy/stats/_continuous_distns.py:2847: RuntimeWarning: The shape parameter of the erlang distribution has been given a non-integer value 0.24598396382702192.\n",
      "  RuntimeWarning)\n",
      "/usr/local/lib/python3.6/dist-packages/scipy/stats/_continuous_distns.py:2847: RuntimeWarning: The shape parameter of the erlang distribution has been given a non-integer value 0.24598396382703452.\n",
      "  RuntimeWarning)\n",
      "/usr/local/lib/python3.6/dist-packages/scipy/stats/_continuous_distns.py:2847: RuntimeWarning: The shape parameter of the erlang distribution has been given a non-integer value 0.2459839638270251.\n",
      "  RuntimeWarning)\n",
      "/usr/local/lib/python3.6/dist-packages/scipy/stats/_continuous_distns.py:2847: RuntimeWarning: The shape parameter of the erlang distribution has been given a non-integer value 0.2459839638270409.\n",
      "  RuntimeWarning)\n",
      "/usr/local/lib/python3.6/dist-packages/scipy/stats/_continuous_distns.py:2847: RuntimeWarning: The shape parameter of the erlang distribution has been given a non-integer value 0.24598396382702475.\n",
      "  RuntimeWarning)\n",
      "/usr/local/lib/python3.6/dist-packages/scipy/stats/_continuous_distns.py:2847: RuntimeWarning: The shape parameter of the erlang distribution has been given a non-integer value 0.24598396382703608.\n",
      "  RuntimeWarning)\n",
      "/usr/local/lib/python3.6/dist-packages/scipy/stats/_continuous_distns.py:2847: RuntimeWarning: The shape parameter of the erlang distribution has been given a non-integer value 0.24598396382703264.\n",
      "  RuntimeWarning)\n",
      "/usr/local/lib/python3.6/dist-packages/scipy/stats/_continuous_distns.py:2847: RuntimeWarning: The shape parameter of the erlang distribution has been given a non-integer value 0.2459839638270332.\n",
      "  RuntimeWarning)\n",
      "/usr/local/lib/python3.6/dist-packages/scipy/stats/_continuous_distns.py:2847: RuntimeWarning: The shape parameter of the erlang distribution has been given a non-integer value 0.24598396382704402.\n",
      "  RuntimeWarning)\n",
      "/usr/local/lib/python3.6/dist-packages/scipy/stats/_continuous_distns.py:2847: RuntimeWarning: The shape parameter of the erlang distribution has been given a non-integer value 0.2459839638270359.\n",
      "  RuntimeWarning)\n",
      "/usr/local/lib/python3.6/dist-packages/scipy/stats/_continuous_distns.py:2847: RuntimeWarning: The shape parameter of the erlang distribution has been given a non-integer value 0.24598396382704157.\n",
      "  RuntimeWarning)\n",
      "/usr/local/lib/python3.6/dist-packages/scipy/stats/_continuous_distns.py:2847: RuntimeWarning: The shape parameter of the erlang distribution has been given a non-integer value 0.24598396382703985.\n",
      "  RuntimeWarning)\n",
      "/usr/local/lib/python3.6/dist-packages/scipy/stats/_continuous_distns.py:2847: RuntimeWarning: The shape parameter of the erlang distribution has been given a non-integer value 0.24598396382704013.\n",
      "  RuntimeWarning)\n",
      "/usr/local/lib/python3.6/dist-packages/scipy/stats/_continuous_distns.py:2847: RuntimeWarning: The shape parameter of the erlang distribution has been given a non-integer value 0.24598396382704552.\n",
      "  RuntimeWarning)\n",
      "/usr/local/lib/python3.6/dist-packages/scipy/stats/_continuous_distns.py:2847: RuntimeWarning: The shape parameter of the erlang distribution has been given a non-integer value 0.24598396382704146.\n",
      "  RuntimeWarning)\n",
      "/usr/local/lib/python3.6/dist-packages/scipy/stats/_continuous_distns.py:2847: RuntimeWarning: The shape parameter of the erlang distribution has been given a non-integer value 0.2459839638270443.\n",
      "  RuntimeWarning)\n",
      "/usr/local/lib/python3.6/dist-packages/scipy/stats/_continuous_distns.py:2847: RuntimeWarning: The shape parameter of the erlang distribution has been given a non-integer value 0.24598396382704346.\n",
      "  RuntimeWarning)\n",
      "/usr/local/lib/python3.6/dist-packages/scipy/stats/_continuous_distns.py:2847: RuntimeWarning: The shape parameter of the erlang distribution has been given a non-integer value 0.24598396382704357.\n",
      "  RuntimeWarning)\n",
      "/usr/local/lib/python3.6/dist-packages/scipy/stats/_continuous_distns.py:2847: RuntimeWarning: The shape parameter of the erlang distribution has been given a non-integer value 0.24598396382704624.\n",
      "  RuntimeWarning)\n",
      "/usr/local/lib/python3.6/dist-packages/scipy/stats/_continuous_distns.py:2847: RuntimeWarning: The shape parameter of the erlang distribution has been given a non-integer value 0.24598396382704424.\n",
      "  RuntimeWarning)\n",
      "/usr/local/lib/python3.6/dist-packages/scipy/stats/_continuous_distns.py:2847: RuntimeWarning: The shape parameter of the erlang distribution has been given a non-integer value 0.24598396382704524.\n",
      "  RuntimeWarning)\n",
      "/usr/local/lib/python3.6/dist-packages/scipy/stats/_continuous_distns.py:2847: RuntimeWarning: The shape parameter of the erlang distribution has been given a non-integer value 0.24598396382704568.\n",
      "  RuntimeWarning)\n",
      "/usr/local/lib/python3.6/dist-packages/scipy/stats/_continuous_distns.py:2847: RuntimeWarning: The shape parameter of the erlang distribution has been given a non-integer value 0.2459839638270453.\n",
      "  RuntimeWarning)\n",
      "/usr/local/lib/python3.6/dist-packages/scipy/stats/_continuous_distns.py:2847: RuntimeWarning: The shape parameter of the erlang distribution has been given a non-integer value 0.24598396382704668.\n",
      "  RuntimeWarning)\n",
      "/usr/local/lib/python3.6/dist-packages/scipy/stats/_continuous_distns.py:2847: RuntimeWarning: The shape parameter of the erlang distribution has been given a non-integer value 0.24598396382704563.\n",
      "  RuntimeWarning)\n",
      "/usr/local/lib/python3.6/dist-packages/scipy/stats/_continuous_distns.py:2847: RuntimeWarning: The shape parameter of the erlang distribution has been given a non-integer value 0.24598396382704613.\n",
      "  RuntimeWarning)\n",
      "/usr/local/lib/python3.6/dist-packages/scipy/stats/_continuous_distns.py:2847: RuntimeWarning: The shape parameter of the erlang distribution has been given a non-integer value 0.24598396382704635.\n",
      "  RuntimeWarning)\n",
      "/usr/local/lib/python3.6/dist-packages/scipy/stats/_continuous_distns.py:2847: RuntimeWarning: The shape parameter of the erlang distribution has been given a non-integer value 0.24598396382704618.\n",
      "  RuntimeWarning)\n",
      "/usr/local/lib/python3.6/dist-packages/scipy/stats/_continuous_distns.py:2847: RuntimeWarning: The shape parameter of the erlang distribution has been given a non-integer value 0.2459839638270468.\n",
      "  RuntimeWarning)\n",
      "/usr/local/lib/python3.6/dist-packages/scipy/stats/_continuous_distns.py:2847: RuntimeWarning: The shape parameter of the erlang distribution has been given a non-integer value 0.24598396382704657.\n",
      "  RuntimeWarning)\n",
      "/usr/local/lib/python3.6/dist-packages/scipy/stats/_continuous_distns.py:2847: RuntimeWarning: The shape parameter of the erlang distribution has been given a non-integer value 0.24598396382704663.\n",
      "  RuntimeWarning)\n",
      "/usr/local/lib/python3.6/dist-packages/scipy/stats/_continuous_distns.py:2847: RuntimeWarning: The shape parameter of the erlang distribution has been given a non-integer value 0.24598396382704696.\n",
      "  RuntimeWarning)\n",
      "/usr/local/lib/python3.6/dist-packages/scipy/stats/_continuous_distns.py:2847: RuntimeWarning: The shape parameter of the erlang distribution has been given a non-integer value 0.24598396382704685.\n",
      "  RuntimeWarning)\n",
      "/usr/local/lib/python3.6/dist-packages/scipy/stats/_continuous_distns.py:2847: RuntimeWarning: The shape parameter of the erlang distribution has been given a non-integer value 0.24598396382704693.\n",
      "  RuntimeWarning)\n",
      "/usr/local/lib/python3.6/dist-packages/scipy/stats/_continuous_distns.py:2847: RuntimeWarning: The shape parameter of the erlang distribution has been given a non-integer value 0.24598396382704701.\n",
      "  RuntimeWarning)\n",
      "/usr/local/lib/python3.6/dist-packages/scipy/stats/_continuous_distns.py:2847: RuntimeWarning: The shape parameter of the erlang distribution has been given a non-integer value array(0.24598396).\n",
      "  RuntimeWarning)\n"
     ]
    },
    {
     "name": "stdout",
     "output_type": "stream",
     "text": [
      "Fitted erlang distribution with error=0.2537871096530525)\n",
      "Fitted expon distribution with error=0.04175729836674657)\n",
      "Fitted exponnorm distribution with error=0.031588580587214005)\n",
      "Fitted exponpow distribution with error=0.037937072167439724)\n"
     ]
    },
    {
     "name": "stderr",
     "output_type": "stream",
     "text": [
      "/usr/local/lib/python3.6/dist-packages/scipy/stats/_continuous_distns.py:1608: RuntimeWarning: invalid value encountered in add\n",
      "  negxc + sc.xlogy(c - 1.0, x))\n"
     ]
    },
    {
     "name": "stdout",
     "output_type": "stream",
     "text": [
      "Fitted exponweib distribution with error=0.17013230508275684)\n",
      "Fitted f distribution with error=0.035198985686487515)\n",
      "Fitted fatiguelife distribution with error=0.032191475041027456)\n",
      "Fitted fisk distribution with error=0.032033658370611284)\n",
      "Fitted foldcauchy distribution with error=0.029488475862361942)\n",
      "Fitted foldnorm distribution with error=0.03635881644544536)\n",
      "Fitted frechet_l distribution with error=0.13302816584085483)\n",
      "Fitted frechet_r distribution with error=0.15902675609692632)\n",
      "Fitted gamma distribution with error=0.46725646993879477)\n"
     ]
    },
    {
     "name": "stderr",
     "output_type": "stream",
     "text": [
      "/usr/local/lib/python3.6/dist-packages/scipy/stats/_continuous_distns.py:3373: RuntimeWarning: divide by zero encountered in power\n",
      "  return 1.0/Cinv * x**(a-1.0) * (1.0-x)**(b-1.0) / (1.0+z*x)**c\n"
     ]
    },
    {
     "name": "stdout",
     "output_type": "stream",
     "text": [
      "Fitted gausshyper distribution with error=0.043419620589280034)\n",
      "Fitted genexpon distribution with error=0.032310243927875626)\n",
      "Fitted genextreme distribution with error=0.03148773350051386)\n",
      "Fitted gengamma distribution with error=0.1574820985649236)\n",
      "Fitted genhalflogistic distribution with error=0.05969830785983481)\n",
      "Fitted geninvgauss distribution with error=0.032411430292694214)\n",
      "Fitted genlogistic distribution with error=0.03150517439528494)\n",
      "Fitted gennorm distribution with error=0.030769355488807833)\n"
     ]
    },
    {
     "name": "stderr",
     "output_type": "stream",
     "text": [
      "/usr/local/lib/python3.6/dist-packages/scipy/stats/_continuous_distns.py:2432: RuntimeWarning: divide by zero encountered in true_divide\n",
      "  val = val + cnk * (-1) ** ki / (1.0 - c * ki)\n"
     ]
    },
    {
     "name": "stdout",
     "output_type": "stream",
     "text": [
      "Fitted genpareto distribution with error=0.057175775264104306)\n",
      "Fitted gilbrat distribution with error=0.03697177820255643)\n",
      "Fitted gompertz distribution with error=0.03755185741101952)\n",
      "Fitted gumbel_l distribution with error=0.04664994192392231)\n",
      "Fitted gumbel_r distribution with error=0.031512180289233374)\n",
      "Fitted halfcauchy distribution with error=0.04128023228644984)\n",
      "Fitted halfgennorm distribution with error=0.06697332039872382)\n",
      "Fitted halflogistic distribution with error=0.03671440510248186)\n",
      "Fitted halfnorm distribution with error=0.036358824227210186)\n",
      "Fitted hypsecant distribution with error=0.03190237198914536)\n",
      "Fitted invgamma distribution with error=0.03164418713625135)\n",
      "Fitted invgauss distribution with error=0.032119096101061465)\n",
      "Fitted invweibull distribution with error=0.03116489942000661)\n",
      "Fitted johnsonsb distribution with error=0.03192599519510076)\n",
      "Fitted johnsonsu distribution with error=0.03187907218084499)\n",
      "Fitted kappa3 distribution with error=0.034900312571551365)\n",
      "Fitted kappa4 distribution with error=0.04919604395025317)\n",
      "Fitted ksone distribution with error=0.05013857394814398)\n"
     ]
    },
    {
     "name": "stderr",
     "output_type": "stream",
     "text": [
      "/usr/local/lib/python3.6/dist-packages/scipy/stats/_continuous_distns.py:97: RuntimeWarning: floating point number truncated to an integer\n",
      "  return -scu._smirnovp(n, x)\n"
     ]
    },
    {
     "name": "stdout",
     "output_type": "stream",
     "text": [
      "Fitted kstwobign distribution with error=0.032814031434831435)\n",
      "Fitted laplace distribution with error=0.030370463498288636)\n",
      "Fitted levy distribution with error=0.0445238002488474)\n",
      "Fitted levy_l distribution with error=0.06219613109813682)\n",
      "SKIPPED levy_stable distribution (taking more than 30 seconds)\n",
      "Fitted loggamma distribution with error=0.038729158926551994)\n",
      "Fitted logistic distribution with error=0.03357527361685382)\n"
     ]
    },
    {
     "name": "stderr",
     "output_type": "stream",
     "text": [
      "/usr/local/lib/python3.6/dist-packages/scipy/stats/_continuous_distns.py:4798: RuntimeWarning: divide by zero encountered in true_divide\n",
      "  return c**2 / (c**2 - n**2)\n"
     ]
    },
    {
     "name": "stdout",
     "output_type": "stream",
     "text": [
      "Fitted loglaplace distribution with error=0.029881137389933348)\n",
      "Fitted lognorm distribution with error=0.031878306496130764)\n"
     ]
    },
    {
     "name": "stderr",
     "output_type": "stream",
     "text": [
      "/usr/local/lib/python3.6/dist-packages/scipy/stats/_distn_infrastructure.py:2664: RuntimeWarning: invalid value encountered in true_divide\n",
      "  pk = 1.0*pk / np.sum(pk, axis=axis, keepdims=True)\n"
     ]
    },
    {
     "name": "stdout",
     "output_type": "stream",
     "text": [
      "Fitted loguniform distribution with error=0.07054673721340422)\n",
      "Fitted lomax distribution with error=0.04220098835066077)\n",
      "Fitted maxwell distribution with error=0.03546984339096853)\n",
      "Fitted mielke distribution with error=0.0311480551478105)\n",
      "Fitted moyal distribution with error=0.031415376448249106)\n",
      "Fitted nakagami distribution with error=0.03457735573975115)\n"
     ]
    },
    {
     "name": "stderr",
     "output_type": "stream",
     "text": [
      "/usr/local/lib/python3.6/dist-packages/scipy/stats/_distn_infrastructure.py:1702: RuntimeWarning: invalid value encountered in log\n",
      "  return log(self._pdf(x, *args))\n"
     ]
    },
    {
     "name": "stdout",
     "output_type": "stream",
     "text": [
      "Fitted ncf distribution with error=0.03494396267994781)\n"
     ]
    },
    {
     "name": "stderr",
     "output_type": "stream",
     "text": [
      "/usr/local/lib/python3.6/dist-packages/scipy/stats/_continuous_distns.py:5832: RuntimeWarning: overflow encountered in multiply\n",
      "  trm1 = np.sqrt(2)*nc*x*sc.hyp1f1(n/2+1, 1.5, valF)\n"
     ]
    },
    {
     "name": "stdout",
     "output_type": "stream",
     "text": [
      "Fitted nct distribution with error=0.033805838504999706)\n",
      "Fitted ncx2 distribution with error=0.0451397172366333)\n",
      "Fitted norm distribution with error=0.038290955829767104)\n",
      "Fitted norminvgauss distribution with error=0.03533979663536028)\n",
      "Fitted pareto distribution with error=0.045295841693757666)\n",
      "Fitted pearson3 distribution with error=0.032414326486476686)\n",
      "Fitted powerlaw distribution with error=0.048053360486549096)\n"
     ]
    },
    {
     "name": "stderr",
     "output_type": "stream",
     "text": [
      "/usr/local/lib/python3.6/dist-packages/scipy/stats/_continuous_distns.py:6235: RuntimeWarning: divide by zero encountered in power\n",
      "  pow(_norm_cdf(-np.log(x)/s), c*1.0-1.0))\n",
      "/usr/local/lib/python3.6/dist-packages/scipy/stats/_continuous_distns.py:6235: RuntimeWarning: invalid value encountered in multiply\n",
      "  pow(_norm_cdf(-np.log(x)/s), c*1.0-1.0))\n",
      "/usr/local/lib/python3.6/dist-packages/scipy/stats/_continuous_distns.py:6235: RuntimeWarning: overflow encountered in power\n",
      "  pow(_norm_cdf(-np.log(x)/s), c*1.0-1.0))\n"
     ]
    },
    {
     "name": "stdout",
     "output_type": "stream",
     "text": [
      "Fitted powerlognorm distribution with error=0.0319856246681196)\n"
     ]
    },
    {
     "name": "stderr",
     "output_type": "stream",
     "text": [
      "/usr/local/lib/python3.6/dist-packages/scipy/stats/_continuous_distns.py:6272: RuntimeWarning: divide by zero encountered in power\n",
      "  return c*_norm_pdf(x) * (_norm_cdf(-x)**(c-1.0))\n",
      "/usr/local/lib/python3.6/dist-packages/scipy/stats/_continuous_distns.py:6272: RuntimeWarning: invalid value encountered in multiply\n",
      "  return c*_norm_pdf(x) * (_norm_cdf(-x)**(c-1.0))\n"
     ]
    },
    {
     "name": "stdout",
     "output_type": "stream",
     "text": [
      "Fitted powernorm distribution with error=nan)\n",
      "Fitted rayleigh distribution with error=0.03479390060250858)\n",
      "Fitted rdist distribution with error=0.05183182967590995)\n",
      "Fitted recipinvgauss distribution with error=0.03220725265987501)\n",
      "Fitted reciprocal distribution with error=0.07054673721340422)\n",
      "Fitted rice distribution with error=0.03479388646911226)\n",
      "SKIPPED rv_continuous distribution (taking more than 30 seconds)\n",
      "SKIPPED rv_histogram distribution (taking more than 30 seconds)\n",
      "Fitted semicircular distribution with error=0.04990267288459073)\n"
     ]
    },
    {
     "name": "stderr",
     "output_type": "stream",
     "text": [
      "/usr/local/lib/python3.6/dist-packages/scipy/stats/_continuous_distns.py:6632: RuntimeWarning: divide by zero encountered in log1p\n",
      "  return np.log(2/np.pi) + 0.5*np.log1p(-x*x)\n"
     ]
    },
    {
     "name": "stdout",
     "output_type": "stream",
     "text": [
      "Fitted skewnorm distribution with error=0.03395775688194688)\n",
      "Fitted t distribution with error=0.03847263775615043)\n",
      "Fitted trapz distribution with error=0.06635664682539708)\n",
      "Fitted triang distribution with error=0.038061693104877545)\n",
      "Fitted truncexpon distribution with error=0.04274330635807205)\n",
      "Fitted truncnorm distribution with error=0.07054673721340422)\n"
     ]
    },
    {
     "name": "stderr",
     "output_type": "stream",
     "text": [
      "/usr/local/lib/python3.6/dist-packages/scipy/stats/_distn_infrastructure.py:1702: RuntimeWarning: divide by zero encountered in log\n",
      "  return log(self._pdf(x, *args))\n",
      "/usr/local/lib/python3.6/dist-packages/scipy/stats/_continuous_distns.py:7248: RuntimeWarning: divide by zero encountered in power\n",
      "  Px = Fx**(lam-1.0) + (np.asarray(1-Fx))**(lam-1.0)\n"
     ]
    },
    {
     "name": "stdout",
     "output_type": "stream",
     "text": [
      "Fitted tukeylambda distribution with error=0.050156922759679916)\n",
      "Fitted uniform distribution with error=0.05013857394809801)\n",
      "Fitted vonmises distribution with error=2.22252868047987e+60)\n",
      "Fitted vonmises_line distribution with error=0.03407588957126599)\n",
      "Fitted wald distribution with error=0.03628763540863649)\n",
      "Fitted weibull_max distribution with error=0.13302816584085483)\n",
      "Fitted weibull_min distribution with error=0.15902675609692632)\n",
      "Fitted wrapcauchy distribution with error=nan)\n"
     ]
    },
    {
     "name": "stderr",
     "output_type": "stream",
     "text": [
      "/usr/local/lib/python3.6/dist-packages/scipy/optimize/optimize.py:597: RuntimeWarning: invalid value encountered in subtract\n",
      "  numpy.max(numpy.abs(fsim[0] - fsim[1:])) <= fatol):\n"
     ]
    }
   ],
   "source": [
    "f.fit()"
   ]
  },
  {
   "cell_type": "code",
   "execution_count": 14,
   "metadata": {
    "colab": {
     "base_uri": "https://localhost:8080/",
     "height": 450
    },
    "colab_type": "code",
    "executionInfo": {
     "elapsed": 10425,
     "status": "ok",
     "timestamp": 1595523878784,
     "user": {
      "displayName": "John Ciolkosz",
      "photoUrl": "https://lh3.googleusercontent.com/a-/AOh14GiJSkSvCtGn_dFjShPLwtdKEwQHMwUGrqyOGp8-FA=s64",
      "userId": "02043570096623684421"
     },
     "user_tz": 300
    },
    "id": "AGlbUKS_n5Ae",
    "outputId": "5d68be0a-c406-428d-c9f3-6e697c3b7345"
   },
   "outputs": [
    {
     "data": {
      "text/html": [
       "<div>\n",
       "<style scoped>\n",
       "    .dataframe tbody tr th:only-of-type {\n",
       "        vertical-align: middle;\n",
       "    }\n",
       "\n",
       "    .dataframe tbody tr th {\n",
       "        vertical-align: top;\n",
       "    }\n",
       "\n",
       "    .dataframe thead th {\n",
       "        text-align: right;\n",
       "    }\n",
       "</style>\n",
       "<table border=\"1\" class=\"dataframe\">\n",
       "  <thead>\n",
       "    <tr style=\"text-align: right;\">\n",
       "      <th></th>\n",
       "      <th>sumsquare_error</th>\n",
       "      <th>aic</th>\n",
       "      <th>bic</th>\n",
       "      <th>kl_div</th>\n",
       "    </tr>\n",
       "  </thead>\n",
       "  <tbody>\n",
       "    <tr>\n",
       "      <th>foldcauchy</th>\n",
       "      <td>0.029488</td>\n",
       "      <td>1028.891773</td>\n",
       "      <td>-708.621458</td>\n",
       "      <td>inf</td>\n",
       "    </tr>\n",
       "    <tr>\n",
       "      <th>loglaplace</th>\n",
       "      <td>0.029881</td>\n",
       "      <td>1046.759656</td>\n",
       "      <td>-707.430948</td>\n",
       "      <td>inf</td>\n",
       "    </tr>\n",
       "    <tr>\n",
       "      <th>cauchy</th>\n",
       "      <td>0.030204</td>\n",
       "      <td>1068.177904</td>\n",
       "      <td>-710.963475</td>\n",
       "      <td>inf</td>\n",
       "    </tr>\n",
       "    <tr>\n",
       "      <th>laplace</th>\n",
       "      <td>0.030370</td>\n",
       "      <td>1056.577166</td>\n",
       "      <td>-710.468877</td>\n",
       "      <td>inf</td>\n",
       "    </tr>\n",
       "    <tr>\n",
       "      <th>dgamma</th>\n",
       "      <td>0.030710</td>\n",
       "      <td>1069.503483</td>\n",
       "      <td>-704.969214</td>\n",
       "      <td>inf</td>\n",
       "    </tr>\n",
       "  </tbody>\n",
       "</table>\n",
       "</div>"
      ],
      "text/plain": [
       "            sumsquare_error          aic         bic  kl_div\n",
       "foldcauchy         0.029488  1028.891773 -708.621458     inf\n",
       "loglaplace         0.029881  1046.759656 -707.430948     inf\n",
       "cauchy             0.030204  1068.177904 -710.963475     inf\n",
       "laplace            0.030370  1056.577166 -710.468877     inf\n",
       "dgamma             0.030710  1069.503483 -704.969214     inf"
      ]
     },
     "execution_count": 14,
     "metadata": {
      "tags": []
     },
     "output_type": "execute_result"
    },
    {
     "data": {
      "image/png": "[encoded data removed]",
      "text/plain": [
       "<Figure size 432x288 with 1 Axes>"
      ]
     },
     "metadata": {
      "needs_background": "light",
      "tags": []
     },
     "output_type": "display_data"
    }
   ],
   "source": [
    "f.summary()"
   ]
  },
  {
   "cell_type": "code",
   "execution_count": null,
   "metadata": {
    "colab": {},
    "colab_type": "code",
    "id": "XbhYTDyzoiZ9"
   },
   "outputs": [],
   "source": []
  }
 ],
 "metadata": {
  "colab": {
   "authorship_tag": "ABX9TyO2n4ZBD4jDCT1LbX/7mpFE",
   "collapsed_sections": [],
   "name": "Section 3 Notebook.ipynb",
   "provenance": []
  },
  "kernelspec": {
   "display_name": "Python 3",
   "language": "python",
   "name": "python3"
  },
  "language_info": {
   "codemirror_mode": {
    "name": "ipython",
    "version": 3
   },
   "file_extension": ".py",
   "mimetype": "text/x-python",
   "name": "python",
   "nbconvert_exporter": "python",
   "pygments_lexer": "ipython3",
   "version": "3.8.0"
  }
 },
 "nbformat": 4,
 "nbformat_minor": 1
}
